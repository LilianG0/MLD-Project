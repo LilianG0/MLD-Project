{
 "cells": [
  {
   "cell_type": "code",
   "execution_count": 1,
   "metadata": {},
   "outputs": [],
   "source": [
    "#########################\n",
    "######### ROUTINE TO PLOT THE SEASONAL MEAN OF ANY VARIABLE OVER AN ALREADY \n",
    "######### SELECTED REGION.\n",
    "#########################\n",
    "\n",
    "import cartopy\n",
    "\n",
    "import cartopy.feature as cfeat\n",
    "import cartopy.crs as ccrs\n",
    "from cartopy.mpl.ticker import LongitudeFormatter, LatitudeFormatter\n",
    "import xarray as xr\n",
    "import numpy as np\n",
    "\n",
    "import datetime\n",
    "import pandas\n",
    "\n",
    "import matplotlib as mpl\n",
    "import matplotlib.pyplot as plt\n",
    "from matplotlib import colors\n",
    "from matplotlib.colors import BoundaryNorm\n",
    "from matplotlib.ticker import MaxNLocator\n",
    "from mpl_toolkits.axes_grid1 import make_axes_locatable\n",
    "\n",
    "## some other packages\n",
    "from scipy import stats\n",
    "from matplotlib import ticker"
   ]
  },
  {
   "cell_type": "code",
   "execution_count": 2,
   "metadata": {},
   "outputs": [],
   "source": [
    "#########################\n",
    "######### DICTIONARIES DEFINITION \n",
    "#########################\n",
    "\n",
    "Range_MLD = {\n",
    "    'lab' : {\n",
    "        'vmin' : 20, \n",
    "        'vmax' : 2000},\n",
    "    'gul' : {\n",
    "        'vmin' : 20, \n",
    "        'vmax' : 1000},\n",
    "    'noe' : {\n",
    "        'vmin' : 10, \n",
    "        'vmax' : 1600},\n",
    "}\n",
    "\n",
    "\n",
    "#Colorbar parameters\n",
    "color_bar = {\n",
    "    'cmap' : 'YlGnBu',\n",
    "    'orientation' : 'vertical',\n",
    "    'title_cbr' : 'depth [m]'\n",
    "}\n",
    "\n",
    "\n",
    "\n",
    "reg_ext = {\n",
    "    'lab': {\n",
    "        'lon' : (-60, -30),\n",
    "        'lat' : (50, 65),\n",
    "        'name' : 'Labrador and Irminger Seas'\n",
    "    },\n",
    "    'gul': {\n",
    "        'lon' : (-75, -45),\n",
    "        'lat' : (30, 45),\n",
    "        'name' : 'Gulf Stream'\n",
    "    },\n",
    "    'noe': {\n",
    "        'lon' : (-30, -5),\n",
    "        'lat' : (45, 60),\n",
    "        'name' : 'North East Sea'\n",
    "    }\n",
    "}"
   ]
  },
  {
   "cell_type": "code",
   "execution_count": 3,
   "metadata": {},
   "outputs": [],
   "source": [
    "def Grid(data_set):\n",
    "    x = data_set.longitude\n",
    "    y = data_set.latitude\n",
    "    \n",
    "    x, y = np.meshgrid(x, y)\n",
    "    return(x, y)\n",
    "\n",
    "\n",
    "## Function to crop the dataset\n",
    "def Crops(coord, d_set):\n",
    "    lon1, lon2 = reg_ext[coord]['lon']\n",
    "    lat1, lat2 = reg_ext[coord]['lat']\n",
    "    name_fig = reg_ext[coord]['name']\n",
    "\n",
    "    return(d_set.sel(longitude=slice(lon1, lon2), latitude=slice(lat1, lat2)))\n"
   ]
  },
  {
   "cell_type": "code",
   "execution_count": 4,
   "metadata": {},
   "outputs": [],
   "source": [
    "dir_1 = '/home/lgarcia/Documents/data_ARMOR/'\n",
    "fl_n1 = 'ARMOR_*.nc'\n",
    "\n",
    "c_armor = xr.open_mfdataset(dir_1 + fl_n1)\n",
    "mld_a = c_armor.mlotst"
   ]
  },
  {
   "cell_type": "markdown",
   "metadata": {},
   "source": [
    "## Calculating moments for the datasets"
   ]
  },
  {
   "cell_type": "markdown",
   "metadata": {},
   "source": [
    "### Gulf Stream"
   ]
  },
  {
   "cell_type": "code",
   "execution_count": 57,
   "metadata": {},
   "outputs": [
    {
     "name": "stdout",
     "output_type": "stream",
     "text": [
      "10.0998535 3999.0\n"
     ]
    }
   ],
   "source": [
    "coord = 'gul'\n",
    "cropped_d = Crops(coord, mld_a)\n",
    "n_bins = 250\n",
    "\n",
    "mn = np.nanmin(cropped_d[:])\n",
    "mx = np.nanmax(cropped_d[:])\n",
    "\n",
    "print(mn,mx)"
   ]
  },
  {
   "cell_type": "code",
   "execution_count": 96,
   "metadata": {},
   "outputs": [],
   "source": [
    "ind = np.linspace(mn, mx,n_bins)\n",
    "\n",
    "m = []\n",
    "v = []\n",
    "s = []\n",
    "k = []\n",
    "md = []\n",
    "ct = []\n",
    "\n",
    "#len(cropped_d.time)\n",
    "for i in range(len(cropped_d.time)):\n",
    "    d_frame = cropped_d[i].to_dataframe()\n",
    "    d_nonan = d_frame.dropna(how='any')\n",
    "    \n",
    "    mean = d_nonan.mlotst.mean()\n",
    "    var = d_nonan.mlotst.var()\n",
    "    skw = stats.skew(d_nonan.mlotst)\n",
    "    krt = stats.kurtosis(d_nonan.mlotst, fisher=True)\n",
    "    mod = stats.mode(d_nonan.mlotst)\n",
    "    \n",
    "    #values = d_nonan.mlotst\n",
    "    #hist, bins = np.histogram(values, bins=n_bins, range=(mn, mx), normed=False)\n",
    "    \n",
    "    m = np.append(m, mean)\n",
    "    v = np.append(v, var)\n",
    "    s = np.append(s, skw)\n",
    "    k = np.append(k, krt)\n",
    "    md = np.append(md, mod.mode)\n",
    "    ct = np.append(ct, mod.count)\n"
   ]
  },
  {
   "cell_type": "code",
   "execution_count": null,
   "metadata": {
    "scrolled": true
   },
   "outputs": [],
   "source": [
    "%matplotlib notebook\n",
    "x = cropped_d.time.values\n",
    "s = ct\n",
    "\n",
    "plt.plot(x, m, label='mean')\n",
    "plt.scatter(x, md, marker='o', c=s, alpha=0.25)\n",
    "#plt.plot(md, '*')\n",
    "plt.plot(x, v/100, label='variance/100')\n",
    "plt.plot(x, s/10, label='skewness/10')\n",
    "plt.plot(x, k, label='kurtosis')\n",
    "plt.grid()\n",
    "plt.legend()\n",
    "plt.show()\n"
   ]
  },
  {
   "cell_type": "code",
   "execution_count": 76,
   "metadata": {},
   "outputs": [],
   "source": []
  },
  {
   "cell_type": "code",
   "execution_count": null,
   "metadata": {},
   "outputs": [],
   "source": []
  },
  {
   "cell_type": "code",
   "execution_count": null,
   "metadata": {},
   "outputs": [],
   "source": []
  }
 ],
 "metadata": {
  "kernelspec": {
   "display_name": "Python 3",
   "language": "python",
   "name": "python3"
  },
  "language_info": {
   "codemirror_mode": {
    "name": "ipython",
    "version": 3
   },
   "file_extension": ".py",
   "mimetype": "text/x-python",
   "name": "python",
   "nbconvert_exporter": "python",
   "pygments_lexer": "ipython3",
   "version": "3.5.2"
  }
 },
 "nbformat": 4,
 "nbformat_minor": 2
}
