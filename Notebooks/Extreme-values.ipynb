{
 "cells": [
  {
   "cell_type": "code",
   "execution_count": 1,
   "metadata": {},
   "outputs": [],
   "source": [
    "#########################\n",
    "######### ROUTINE TO PLOT THE SEASONAL MEAN OF ANY VARIABLE OVER AN ALREADY \n",
    "######### SELECTED REGION.\n",
    "#########################\n",
    "\n",
    "import cartopy\n",
    "\n",
    "import cartopy.feature as cfeat\n",
    "import cartopy.crs as ccrs\n",
    "from cartopy.mpl.ticker import LongitudeFormatter, LatitudeFormatter\n",
    "import xarray as xr\n",
    "import numpy as np\n",
    "\n",
    "import datetime\n",
    "import pandas\n",
    "\n",
    "import matplotlib as mpl\n",
    "import matplotlib.pyplot as plt\n",
    "from matplotlib import colors\n",
    "from matplotlib.colors import BoundaryNorm\n",
    "from matplotlib.ticker import MaxNLocator\n",
    "from mpl_toolkits.axes_grid1 import make_axes_locatable"
   ]
  },
  {
   "cell_type": "code",
   "execution_count": 2,
   "metadata": {},
   "outputs": [],
   "source": [
    "#########################\n",
    "######### DICTIONARIES DEFINITION \n",
    "#########################\n",
    "\n",
    "Range_MLD = {\n",
    "    'Mar' : {\n",
    "        'vmin' : 160, \n",
    "        'vmax' : 1800},\n",
    "    'Sep' : {\n",
    "        'vmin' : 18, \n",
    "        'vmax' : 180},\n",
    "}\n",
    "\n",
    "\n",
    "#Colorbar parameters\n",
    "color_bar = {\n",
    "    'cmap' : 'YlGnBu',\n",
    "    'orientation' : 'vertical',\n",
    "    'title_cbr' : 'depth [m]'\n",
    "}\n",
    "\n",
    "\n",
    "# Coordinates for small regions. Position in\n",
    "# (lon, lat): (rigth,  letf), (south, north),\n",
    "# and title for an eventual ploting title.\n",
    "reg = {\n",
    "    'lab': {\n",
    "        'lon' : (-55, -51),\n",
    "        'lat' : (56, 59),\n",
    "        'name' : 'Labrador Sea'\n",
    "    },\n",
    "    'irm': {\n",
    "        'lon' : (-39, -35),\n",
    "        'lat' : (58, 61),\n",
    "        'name' : 'Irminger Sea'\n",
    "    },\n",
    "    'gul': {\n",
    "        'lon' : (-57, -53),\n",
    "        'lat' : (34, 38),\n",
    "        'name' : 'Gulf Stream'\n",
    "    },\n",
    "    'noe': {\n",
    "        'lon' : (-20, -16),\n",
    "        'lat' : (50, 53),\n",
    "        'name' : 'North East Sea'\n",
    "    }\n",
    "}\n",
    "\n",
    "\n",
    "\n",
    "# Coordinates for large regions. Position in\n",
    "# (lon, lat): (rigth,  letf), (south, north),\n",
    "# and title for an eventual ploting title.\n",
    "reg_ext = {\n",
    "    'lab': {\n",
    "        'lon' : (-60, -30),\n",
    "        'lat' : (50, 65),\n",
    "        'name' : 'Labrador and Irminger Seas'\n",
    "    },\n",
    "    'gul': {\n",
    "        'lon' : (-75, -45),\n",
    "        'lat' : (30, 45),\n",
    "        'name' : 'Gulf Stream'\n",
    "    },\n",
    "    'noe': {\n",
    "        'lon' : (-30, -5),\n",
    "        'lat' : (45, 60),\n",
    "        'name' : 'North East Sea'\n",
    "    },\n",
    "    'noa':{\n",
    "        'lon' : (-90, 50),\n",
    "        'lat' : (10, 85),\n",
    "        'name' : 'North Atlantic Ocean'\n",
    "    }\n",
    "}\n",
    "\n",
    "\n",
    "## This dictionary is for the higher variability of the region\n",
    "reg_var = {\n",
    "    'lab': {\n",
    "        'lon' : (-60, -30),\n",
    "        'lat' : (50, 65),\n",
    "        'name' : 'Labrador and Irminger Seas'\n",
    "    },\n",
    "    'gul': {\n",
    "        'lon' : (-60, -45),\n",
    "        'lat' : (37, 45),\n",
    "        'name' : 'Gulf Stream'\n",
    "    },\n",
    "    'noe': {\n",
    "        'lon' : (-30, -5),\n",
    "        'lat' : (45, 60),\n",
    "        'name' : 'North East Sea'\n",
    "    },\n",
    "    'noa':{\n",
    "        'lon' : (-90, 50),\n",
    "        'lat' : (10, 85),\n",
    "        'name' : 'North Atlantic Ocean'\n",
    "    }\n",
    "}\n",
    "\n",
    "\n",
    "points = {\n",
    "    'gul': {\n",
    "        'lon': -60., \n",
    "        'lat': 35.\n",
    "    },\n",
    "    'lab': {\n",
    "        'lon': -50., \n",
    "        'lat': 55.\n",
    "    },\n",
    "    'noe': {\n",
    "        'lon': -17.5, \n",
    "        'lat': 52.5}\n",
    "}\n"
   ]
  },
  {
   "cell_type": "code",
   "execution_count": 3,
   "metadata": {},
   "outputs": [],
   "source": [
    "def Grid(data_set):\n",
    "    \"\"\"\n",
    "        Grid is a function that creates a rectangular grid using as x a longitude\n",
    "        array and for y a latitude array.\n",
    "        \n",
    "        Parameters:\n",
    "        ------------\n",
    "            \n",
    "        data_set : DataArray\n",
    "            Is the dataset from which we will plot the histogram.\n",
    "        \n",
    "        Output:\n",
    "        -------\n",
    "        (x, y) : n-arrays\n",
    "            Arrays that correspond for each (lon,lat) point\n",
    "    \"\"\"\n",
    "    x = data_set.longitude\n",
    "    y = data_set.latitude\n",
    "    \n",
    "    x, y = np.meshgrid(x, y)\n",
    "    return(x, y)\n",
    "\n",
    "\n",
    "## Function to crop the dataset\n",
    "\n",
    "def Crops(dic, coord, d_set):\n",
    "    \"\"\"\n",
    "        Crops is a function that takes a data set and crops it into smaller\n",
    "        region, using as parameters the values given by a variable dictionary.\n",
    "        \n",
    "        Parameters:\n",
    "        ------------\n",
    "        \n",
    "        dic : dictionary\n",
    "            Is the dictionary from which we extract the coordinates\n",
    "            \n",
    "        coord : string\n",
    "            Key value that identifies the region to obtain\n",
    "        \n",
    "        d_set : DataArray\n",
    "            Dataset to be cropped\n",
    "        \n",
    "        Output:\n",
    "        -------\n",
    "        new_ds : DataArray\n",
    "            New data array corresponding to the region stated by 'coord'\n",
    "    \"\"\"\n",
    "    \n",
    "    lon1, lon2 = dic[coord]['lon']\n",
    "    lat1, lat2 = dic[coord]['lat']\n",
    "    name_fig = dic[coord]['name']\n",
    "    \n",
    "    new_ds = d_set.sel(longitude=slice(lon1, lon2), latitude=slice(lat1, lat2))\n",
    "\n",
    "    return(new_ds)\n",
    "\n",
    "\n",
    "def Histogram(data_set, n_bins, xlims=None, ylims=None, i=None, ax=None, alpha=0.85, \n",
    "              htype='bar', label=None, normed=None, lw=None):\n",
    "    \"\"\"\n",
    "        Histogram is a function that helps to make a semi-log histogram plot\n",
    "        of a dataset. The 'y' axis is logaritmic, and the 'x' axis is linear.\n",
    "        The function accepts a dataset with any kind of values and it filters the\n",
    "        nan values.\n",
    "        \n",
    "        Parameters:\n",
    "        ------------\n",
    "            \n",
    "        data_set : DataArray\n",
    "            Is the dataset from which we will plot the histogram.\n",
    "        \n",
    "        n_bins : integer\n",
    "            Number of bins for the histogram.\n",
    "            \n",
    "        xlims : tuple, float\n",
    "            The limits for the x axis\n",
    "        \n",
    "        ylims : tuple, float\n",
    "            The limits for the y axis\n",
    "        \n",
    "        i : integer\n",
    "            Is the time step we are working on. if None, it returns the\n",
    "            complete array's histogram\n",
    "            \n",
    "        ax : axes.Axes object or array of Axes objects\n",
    "            axes of the n-th sub plot\n",
    "        \n",
    "        Output:\n",
    "        -------\n",
    "        Plot, Fig.\n",
    "    \"\"\"\n",
    "    ## Creation of an array to save all values for the histogram\n",
    "    ### This could be done in a faster way!!\n",
    "    \n",
    "    a = []\n",
    "    \n",
    "    if i == None:\n",
    "        for j in range(len(data_set[:])):\n",
    "            a = np.append(a, data_set[j])\n",
    "    else:\n",
    "        for j in range(len(data_set[i])):\n",
    "            a = np.append(a, data_set[i, j])\n",
    "\n",
    "    ##Taking away the nan values\n",
    "    a2 = No_nan(a)\n",
    "    ran = (xlims)\n",
    "        \n",
    "    if not ax:\n",
    "        ax = plt.gca()\n",
    "    \n",
    "    ax.hist(a2, n_bins, range=ran, histtype=htype, label=label, alpha=alpha, \n",
    "            normed=normed, linewidth=lw)\n",
    "    ax.set_yscale(\"log\", nonposy='clip')\n",
    "    ax.set_xlim(xlims)\n",
    "    ax.set_ylim(ylims)\n",
    "    ax.set_xlabel('MLD (m)', fontsize=10)\n",
    "    ax.set_ylabel('# of occuped grid points', fontsize=10)\n",
    "    ax.grid(True)\n",
    "    \n",
    "    \n",
    "    \n",
    "def No_nan(a):\n",
    "    \"\"\"\n",
    "        No_nan is a function that helps to filter an array from nan values.\n",
    "        \n",
    "        Parameters:\n",
    "        ------------\n",
    "        a : Numpy Array\n",
    "            Is the array we want to filter\n",
    "        \n",
    "        Output:\n",
    "        -------\n",
    "        a2 : Numpy Arrray\n",
    "            Array with no nan values in it\n",
    "    \"\"\"\n",
    "    nan_array = np.isnan(a)\n",
    "    not_nan_array = ~ nan_array\n",
    "    a2 = a[not_nan_array]\n",
    "    \n",
    "    return(a2)\n",
    "\n",
    "\n",
    "def Masking(data_set, cond):\n",
    "    \"\"\"\n",
    "        Maskin is a function that makes a mask of an array depending on the \n",
    "        entering condition. The condition is evaluated over finite numbers.\n",
    "        At the final, the mask is appended in the original DataArray as a \n",
    "        new coordinate.\n",
    "        \n",
    "        Parameters:\n",
    "        ------------\n",
    "        data_set : DataArray\n",
    "            Is the array we want to make the mask of.\n",
    "            \n",
    "        cond : array\n",
    "            Codition to meet. \n",
    "\n",
    "\n",
    "        Output:\n",
    "        -------\n",
    "        data_set : Numpy Arrray\n",
    "            Array with new coordinates 'mask'\n",
    "    \"\"\"\n",
    "    \n",
    "    mask = 1 * np.ones((data_set.dims['latitude'], data_set.dims['longitude'])) * np.isfinite(cond)  \n",
    "    data_set.coords['mask'] = (('latitude', 'longitude'), mask)\n",
    "    return(data_set)"
   ]
  },
  {
   "cell_type": "code",
   "execution_count": 4,
   "metadata": {},
   "outputs": [],
   "source": [
    "def Year_sel(data_set, yr):\n",
    "    \"\"\"\n",
    "        Year_sel slects an specific year from a dataset.  \n",
    "        \n",
    "        Parameters:\n",
    "        ------------\n",
    "            \n",
    "        data_set : DataArray\n",
    "            Array from we extract the year.\n",
    "        \n",
    "        yr : int\n",
    "            Number of the year we want \n",
    "        \n",
    "        Output:\n",
    "        ------------\n",
    "        y : dataArray\n",
    "            DataArray containing only the data corresponding to yr\n",
    "            \n",
    "    \"\"\"\n",
    "    cond = data_set.time.dt.year.isin([yr])\n",
    "    y = data_set.sel(time=cond)\n",
    "    \n",
    "    return(y)\n",
    "\n",
    "def Point_sel(data_set, lon, lat, isel=True):\n",
    "    \"\"\"\n",
    "        Point_sel selects a point given the latitude and longitude, or the \n",
    "        index of the array. The default function is using isel. If sel() wants\n",
    "        to be used, the nearest method is used to select the point.\n",
    "        \n",
    "        \n",
    "        Parameters:\n",
    "        ------------\n",
    "            \n",
    "        data_set : DataArray\n",
    "            Array from we extract the year.\n",
    "        \n",
    "        lon : float\n",
    "            Coordinate for longitude.\n",
    "        \n",
    "        lat : float\n",
    "            Coordinate for latitude.\n",
    "        \n",
    "        Output:\n",
    "        ------------\n",
    "        p : dataArray\n",
    "            DataArray containing only the data corresponding to (lon, lat)\n",
    "            \n",
    "    \"\"\"\n",
    "    if isel:\n",
    "        p = data_set.isel(longitude=lon, latitude=lat)\n",
    "    else:\n",
    "        p = data_set.sel(longitude=lon, latitude=lat, method='nearest')\n",
    "    \n",
    "    return(p)\n",
    "    "
   ]
  },
  {
   "cell_type": "code",
   "execution_count": 5,
   "metadata": {},
   "outputs": [],
   "source": [
    "###############################################################################\n",
    "###########         MAIN PROGRAM\n",
    "###############################################################################\n",
    "\n",
    "\n",
    "## Opening datasets\n",
    "dir_1 = '../../data_ARMOR/'\n",
    "fl_n1 = 'ARMOR_*.nc'\n",
    "\n",
    "c_armor = xr.open_mfdataset(dir_1 + fl_n1)\n",
    "c_armor = Masking(c_armor, c_armor.to[0,25])\n",
    "\n",
    "\n",
    "## Taking just MLD from the datasets\n",
    "\n",
    "## Climatology\n",
    "month_a = c_armor.groupby('time.month').mean('time')\n"
   ]
  },
  {
   "cell_type": "code",
   "execution_count": 6,
   "metadata": {},
   "outputs": [
    {
     "data": {
      "text/plain": [
       "<matplotlib.collections.QuadMesh at 0x7fadff8396a0>"
      ]
     },
     "execution_count": 6,
     "metadata": {},
     "output_type": "execute_result"
    },
    {
     "data": {
      "image/png": "[encoded data removed]",
      "text/plain": [
       "<matplotlib.figure.Figure at 0x7fadff851b00>"
      ]
     },
     "metadata": {},
     "output_type": "display_data"
    }
   ],
   "source": [
    "c_armor.mlotst[0].where(c_armor.mask==1).plot()"
   ]
  },
  {
   "cell_type": "markdown",
   "metadata": {},
   "source": [
    "# Let's see the Gulf Stream"
   ]
  },
  {
   "cell_type": "code",
   "execution_count": 7,
   "metadata": {},
   "outputs": [],
   "source": [
    "gulf = Crops(reg_ext, 'gul', c_armor)"
   ]
  },
  {
   "cell_type": "code",
   "execution_count": 8,
   "metadata": {},
   "outputs": [
    {
     "data": {
      "image/png": "[encoded data removed]",
      "text/plain": [
       "<matplotlib.figure.Figure at 0x7fadff6d2f98>"
      ]
     },
     "metadata": {},
     "output_type": "display_data"
    }
   ],
   "source": [
    "gulf.mlotst[0].where(gulf.mask==1).plot()\n",
    "plt.show()"
   ]
  },
  {
   "cell_type": "markdown",
   "metadata": {},
   "source": [
    "## The region with higher variability is in (37N, 45N) (60W, 45W)"
   ]
  },
  {
   "cell_type": "code",
   "execution_count": 9,
   "metadata": {},
   "outputs": [],
   "source": [
    "gulf_hv = Crops(reg_var, 'gul', c_armor)"
   ]
  },
  {
   "cell_type": "code",
   "execution_count": 10,
   "metadata": {},
   "outputs": [
    {
     "data": {
      "image/png": "[encoded data removed]",
      "text/plain": [
       "<matplotlib.figure.Figure at 0x7fadff6c4710>"
      ]
     },
     "metadata": {},
     "output_type": "display_data"
    }
   ],
   "source": [
    "gulf_hv.mlotst.mean(dim='time').plot()\n",
    "plt.show()"
   ]
  },
  {
   "cell_type": "markdown",
   "metadata": {},
   "source": [
    "### Ploting the histogram for the region"
   ]
  },
  {
   "cell_type": "code",
   "execution_count": 11,
   "metadata": {},
   "outputs": [
    {
     "data": {
      "image/png": "[encoded data removed]",
      "text/plain": [
       "<matplotlib.figure.Figure at 0x7fadfc15dc88>"
      ]
     },
     "metadata": {},
     "output_type": "display_data"
    }
   ],
   "source": [
    "#def Histogram(data_set, n_bins, xlims=None, ylims=None, i=None, ax=None, alpha=0.85, \n",
    "#              htype='bar', label=None, normed=None, lw=None):\n",
    "\n",
    "\n",
    "#%matplotlib notebook\n",
    "        \n",
    "xlims_n = 0, 4500\n",
    "ylims_n = 10e-2, 10e6\n",
    "\n",
    "\n",
    "var = gulf_hv.mlotst.where(gulf_hv.mask==1)\n",
    "var2 = gulf.mlotst.where(gulf.mask==1)\n",
    "\n",
    "fig, ax = plt.subplots(nrows=1, ncols=1, sharey=True)\n",
    "\n",
    "Histogram(var, 100, xlims_n, ylims_n, None, ax, htype='step', label='small')\n",
    "#ax[0].set_title('Gulf Stream High variability region', fontsize=12)\n",
    "Histogram(var2, 100, xlims_n, ylims_n, None, ax, htype='step', label='complete region')\n",
    "\n",
    "\n",
    "fig.suptitle('Distribution of MLD on the Gulf Stream High variability region', fontsize=14)\n",
    "\n",
    "plt.legend(fontsize=11)\n",
    "plt.subplots_adjust(left=0.125, bottom=0.1, right=0.9, \n",
    "                        top=0.9, wspace=0.25, hspace=0.5)\n",
    "#plt.savefig('/home/lgarcia/Documents/Scripts/Images/Noe-PDF.png')\n",
    "plt.show()"
   ]
  },
  {
   "cell_type": "code",
   "execution_count": 13,
   "metadata": {},
   "outputs": [],
   "source": [
    "v = gulf_hv.sel(longitude=slice(-50., -45.), latitude=slice(42., 45.))"
   ]
  },
  {
   "cell_type": "code",
   "execution_count": 14,
   "metadata": {},
   "outputs": [
    {
     "data": {
      "image/png": "[encoded data removed]",
      "text/plain": [
       "<matplotlib.figure.Figure at 0x7fadfc068cc0>"
      ]
     },
     "metadata": {},
     "output_type": "display_data"
    }
   ],
   "source": [
    "xlims_n = 0, 4500\n",
    "ylims_n = 10e-2, 10e6\n",
    "\n",
    "\n",
    "var = v.mlotst.where(v.mask==1)\n",
    "var2 = gulf.mlotst.where(gulf.mask==1)\n",
    "var3 = gulf_hv.mlotst.where(gulf_hv.mask==1)\n",
    "\n",
    "plt.close()\n",
    "fig, ax = plt.subplots(nrows=1, ncols=1, sharey=True)\n",
    "\n",
    "Histogram(var, 100, xlims_n, ylims_n, None, ax, htype='step', label='small-small')\n",
    "#ax[0].set_title('Gulf Stream High variability region', fontsize=12)\n",
    "Histogram(var2, 100, xlims_n, ylims_n, None, ax, htype='step', label='complete region')\n",
    "Histogram(var3, 100, xlims_n, ylims_n, None, ax, htype='step', label='small')\n",
    "\n",
    "\n",
    "fig.suptitle('Distribution of MLD on the Gulf Stream High variability region', fontsize=14)\n",
    "\n",
    "plt.legend(fontsize=11)\n",
    "plt.subplots_adjust(left=0.125, bottom=0.1, right=0.9, \n",
    "                        top=0.9, wspace=0.25, hspace=0.5)\n",
    "#plt.savefig('/home/lgarcia/Documents/Scripts/Images/Noe-PDF.png')\n",
    "plt.show()"
   ]
  },
  {
   "cell_type": "code",
   "execution_count": 15,
   "metadata": {},
   "outputs": [],
   "source": [
    "#for lon in range(len(v.longitude.values)):\n",
    "#    print(v.longitude.values[lon])\n",
    "\n",
    "plt.close()\n",
    "v = gulf_hv.sel(longitude=slice(-50., -45.), latitude=slice(42., 45.))\n",
    "ss = v.where(v.mask==1)"
   ]
  },
  {
   "cell_type": "code",
   "execution_count": 16,
   "metadata": {},
   "outputs": [
    {
     "data": {
      "image/png": "[encoded data removed]",
      "text/plain": [
       "<matplotlib.figure.Figure at 0x7fadf563bba8>"
      ]
     },
     "metadata": {},
     "output_type": "display_data"
    }
   ],
   "source": [
    "for lon in v.longitude.values:\n",
    "    for lat in v.latitude.values:\n",
    "        ss.mlotst.sel(longitude=lon, latitude=lat).plot()\n",
    "plt.show()"
   ]
  },
  {
   "cell_type": "code",
   "execution_count": 17,
   "metadata": {},
   "outputs": [
    {
     "data": {
      "text/plain": [
       "<xarray.Dataset>\n",
       "Dimensions:    (depth: 33, time: 730)\n",
       "Coordinates:\n",
       "  * depth      (depth) float64 0.0 10.0 20.0 30.0 ... 4.5e+03 5e+03 5.5e+03\n",
       "    latitude   float32 42.125\n",
       "    longitude  float32 -49.875\n",
       "  * time       (time) datetime64[ns] 2005-01-05 2005-01-12 ... 2018-12-26\n",
       "    mask       float64 1.0\n",
       "Data variables:\n",
       "    mlotst     (time) float32 dask.array<shape=(730,), chunksize=(52,)>\n",
       "    so         (time, depth) float32 dask.array<shape=(730, 33), chunksize=(52, 33)>\n",
       "    to         (time, depth) float32 dask.array<shape=(730, 33), chunksize=(52, 33)>\n",
       "    ugo        (time, depth) float32 dask.array<shape=(730, 33), chunksize=(52, 33)>\n",
       "    vgo        (time, depth) float32 dask.array<shape=(730, 33), chunksize=(52, 33)>\n",
       "    zo         (time, depth) float32 dask.array<shape=(730, 33), chunksize=(52, 33)>\n",
       "Attributes:\n",
       "    CDI:          Climate Data Interface version ?? (http://mpimet.mpg.de/cdi)\n",
       "    Conventions:  CF-1.0\n",
       "    history:      Mon Mar  9 15:25:32 2020: ncks -d latitude,10.,85. -d longi...\n",
       "    institution:  CLS\n",
       "    description:  ARMOR3D REP CMEMS - April 2019 Release\n",
       "    title:        ARMOR3D REP - TSHUVMld Global Ocean Observation-based Product\n",
       "    domain_name:  GLO\n",
       "    CDO:          Climate Data Operators version 1.9.3 (http://mpimet.mpg.de/...\n",
       "    NCO:          4.7.2"
      ]
     },
     "execution_count": 17,
     "metadata": {},
     "output_type": "execute_result"
    }
   ],
   "source": [
    "point = v.where(v.mask==1).sel(longitude=-50., latitude=42., method='nearest')\n",
    "mean_p = point.groupby('time.week').mean(dim='time')\n",
    "point"
   ]
  },
  {
   "cell_type": "code",
   "execution_count": 18,
   "metadata": {
    "scrolled": false
   },
   "outputs": [
    {
     "name": "stderr",
     "output_type": "stream",
     "text": [
      "/usr/local/lib/python3.5/dist-packages/dask/array/reductions.py:384: RuntimeWarning: invalid value encountered in true_divide\n",
      "  u = total / n\n",
      "/usr/local/lib/python3.5/dist-packages/dask/array/numpy_compat.py:28: RuntimeWarning: invalid value encountered in true_divide\n",
      "  x = np.divide(x1, x2, out)\n"
     ]
    },
    {
     "data": {
      "image/png": "[encoded data removed]",
      "text/plain": [
       "<matplotlib.figure.Figure at 0x7fadf420deb8>"
      ]
     },
     "metadata": {},
     "output_type": "display_data"
    }
   ],
   "source": [
    "plt.close()\n",
    "\n",
    "p = np.empty(52)\n",
    "plt.close()\n",
    "#air.isel(lon=10, lat=[19,21,22]).plot.line(x='time')\n",
    "for yr in range(2005, 2010):\n",
    "    p_year= point.mlotst.sel(time=point.time.dt.year.isin([yr]))\n",
    "    l = str(yr)\n",
    "    p_year.groupby('time.week').mean(dim='time').plot(label=l)\n",
    "    p = np.append(p, p_year, axis=0)\n",
    "\n",
    "mean = point.mlotst.groupby('time.week').mean(dim='time')\n",
    "stdv = point.mlotst.groupby('time.week').std(dim='time')\n",
    "\n",
    "plt.errorbar(mean.week, mean, yerr=stdv)\n",
    "\n",
    "plt.legend()\n",
    "plt.show()"
   ]
  },
  {
   "cell_type": "code",
   "execution_count": null,
   "metadata": {},
   "outputs": [],
   "source": []
  },
  {
   "cell_type": "code",
   "execution_count": 19,
   "metadata": {},
   "outputs": [
    {
     "name": "stderr",
     "output_type": "stream",
     "text": [
      "/usr/local/lib/python3.5/dist-packages/dask/array/reductions.py:384: RuntimeWarning: invalid value encountered in true_divide\n",
      "  u = total / n\n",
      "/usr/local/lib/python3.5/dist-packages/dask/array/numpy_compat.py:28: RuntimeWarning: invalid value encountered in true_divide\n",
      "  x = np.divide(x1, x2, out)\n"
     ]
    },
    {
     "data": {
      "image/png": "[encoded data removed]",
      "text/plain": [
       "<matplotlib.figure.Figure at 0x7fadfc0b4588>"
      ]
     },
     "metadata": {},
     "output_type": "display_data"
    }
   ],
   "source": [
    "plt.close()\n",
    "\n",
    "p = np.empty(52)\n",
    "plt.close()\n",
    "#air.isel(lon=10, lat=[19,21,22]).plot.line(x='time')\n",
    "for yr in range(2010, 2015):\n",
    "    p_year= point.mlotst.sel(time=point.time.dt.year.isin([yr]))\n",
    "    l = str(yr)\n",
    "    p_year.groupby('time.week').mean(dim='time').plot(label=l)\n",
    "    p = np.append(p, p_year, axis=0)\n",
    "\n",
    "mean = point.mlotst.groupby('time.week').mean(dim='time')\n",
    "stdv = point.mlotst.groupby('time.week').std(dim='time')\n",
    "\n",
    "plt.errorbar(mean.week, mean, yerr=stdv)\n",
    "\n",
    "plt.legend()\n",
    "plt.show()"
   ]
  },
  {
   "cell_type": "code",
   "execution_count": null,
   "metadata": {},
   "outputs": [],
   "source": []
  },
  {
   "cell_type": "code",
   "execution_count": 20,
   "metadata": {
    "scrolled": false
   },
   "outputs": [
    {
     "name": "stderr",
     "output_type": "stream",
     "text": [
      "/usr/local/lib/python3.5/dist-packages/dask/array/numpy_compat.py:28: RuntimeWarning: invalid value encountered in true_divide\n",
      "  x = np.divide(x1, x2, out)\n",
      "/usr/local/lib/python3.5/dist-packages/dask/array/reductions.py:384: RuntimeWarning: invalid value encountered in true_divide\n",
      "  u = total / n\n",
      "/usr/local/lib/python3.5/dist-packages/dask/array/numpy_compat.py:28: RuntimeWarning: invalid value encountered in true_divide\n",
      "  x = np.divide(x1, x2, out)\n"
     ]
    },
    {
     "data": {
      "image/png": "[encoded data removed]",
      "text/plain": [
       "<matplotlib.figure.Figure at 0x7fadff9116a0>"
      ]
     },
     "metadata": {},
     "output_type": "display_data"
    }
   ],
   "source": [
    "plt.close()\n",
    "\n",
    "p = np.empty(52)\n",
    "plt.close()\n",
    "#air.isel(lon=10, lat=[19,21,22]).plot.line(x='time')\n",
    "for yr in range(2015, 2019):\n",
    "    p_year= point.mlotst.sel(time=point.time.dt.year.isin([yr]))\n",
    "    l = str(yr)\n",
    "    p_year.groupby('time.week').mean(dim='time').plot(label=l)\n",
    "    p = np.append(p, p_year, axis=0)\n",
    "\n",
    "mean = point.mlotst.groupby('time.week').mean(dim='time')\n",
    "stdv = point.mlotst.groupby('time.week').std(dim='time')\n",
    "\n",
    "plt.errorbar(mean.week, mean, yerr=stdv)\n",
    "\n",
    "plt.legend()\n",
    "plt.show()"
   ]
  },
  {
   "cell_type": "code",
   "execution_count": null,
   "metadata": {},
   "outputs": [],
   "source": []
  },
  {
   "cell_type": "markdown",
   "metadata": {},
   "source": [
    "## Getting the central point (50W, 42N)"
   ]
  },
  {
   "cell_type": "code",
   "execution_count": 21,
   "metadata": {},
   "outputs": [],
   "source": [
    "## The region in which I will work is the entire Gulf Stream. \n",
    "\n",
    "gulf = Crops(reg_ext, 'gul', c_armor)\n",
    "gulf_hv = Crops(reg_var, 'gul', c_armor) ##small region\n",
    "#print(gulf_hv.longitude.values, gulf.latitude.values)\n"
   ]
  },
  {
   "cell_type": "code",
   "execution_count": 22,
   "metadata": {},
   "outputs": [
    {
     "name": "stdout",
     "output_type": "stream",
     "text": [
      "-49.875 42.125\n"
     ]
    }
   ],
   "source": [
    "lon = -50.\n",
    "lat = 42.\n",
    "p0 = Point_sel(gulf, lon, lat, isel=False)\n",
    "\n",
    "print(p0.longitude.values, p0.latitude.values)"
   ]
  },
  {
   "cell_type": "code",
   "execution_count": 23,
   "metadata": {},
   "outputs": [
    {
     "data": {
      "text/plain": [
       "<xarray.DataArray 'mlotst' (latitude: 60, longitude: 120)>\n",
       "dask.array<shape=(60, 120), dtype=float32, chunksize=(60, 120)>\n",
       "Coordinates:\n",
       "  * latitude   (latitude) float32 30.125 30.375 30.625 ... 44.375 44.625 44.875\n",
       "  * longitude  (longitude) float32 -74.875 -74.625 -74.375 ... -45.375 -45.125\n",
       "    time       datetime64[ns] 2005-01-05\n",
       "    mask       (latitude, longitude) float64 1.0 1.0 1.0 1.0 ... 1.0 1.0 1.0 1.0\n",
       "Attributes:\n",
       "    standard_name:  ocean_mixed_layer_thickness_defined_by_sigma_theta\n",
       "    long_name:      Mixed layer depth from density threshold equivalent to a ...\n",
       "    units:          m\n",
       "    unit_long:      meter"
      ]
     },
     "execution_count": 23,
     "metadata": {},
     "output_type": "execute_result"
    }
   ],
   "source": [
    "gulf.mlotst[0] ##lat, lon"
   ]
  },
  {
   "cell_type": "code",
   "execution_count": 24,
   "metadata": {},
   "outputs": [],
   "source": [
    "def Get_index(data_set, point):\n",
    "    for la in range(len(data_set.latitude)):\n",
    "        if (data_set.latitude[la].values == point.latitude.values):\n",
    "            for lo in range (len(data_set.longitude)):\n",
    "                 if (data_set.longitude[lo].values == point.longitude.values):\n",
    "                        print(la)\n",
    "                        print(lo)\n",
    "                        return(lo, la)\n",
    "                        break\n",
    "        "
   ]
  },
  {
   "cell_type": "code",
   "execution_count": 25,
   "metadata": {},
   "outputs": [
    {
     "name": "stdout",
     "output_type": "stream",
     "text": [
      "48\n",
      "100\n"
     ]
    }
   ],
   "source": [
    "lonn, latt = Get_index(gulf, p0)"
   ]
  },
  {
   "cell_type": "code",
   "execution_count": null,
   "metadata": {},
   "outputs": [],
   "source": []
  },
  {
   "cell_type": "markdown",
   "metadata": {},
   "source": [
    "## Getting the points around the central point (50W, 42N)"
   ]
  },
  {
   "cell_type": "code",
   "execution_count": 26,
   "metadata": {},
   "outputs": [],
   "source": [
    "## So here, I have the coordinates of the center point p0. It is already selected\n",
    "## We are going to select other 4 points arrounf the central one, in the same year\n",
    "## to see how they are behaving. Also from here I should check the vertical profile.\n",
    "## This points contain all years.\n",
    "\n",
    "# index of the p0, center point\n",
    "lon = p0.longitude.values\n",
    "lat = p0.latitude.values\n",
    "dl = 0.25\n",
    "\n",
    "## Dataset filtered this region correspond to \n",
    "## sel(longitude=slice(-50., -45.), latitude=slice(42., 45.))\n",
    "d_set = v.where(v.mask==1)\n",
    "\n",
    "p1 = Point_sel(gulf, lon, lat+dl, isel=False)\n",
    "p2 = Point_sel(gulf, lon+dl, lat, isel=False)\n",
    "p3 = Point_sel(gulf, lon, lat-dl, isel=False)\n",
    "p4 = Point_sel(gulf, lon-dl, lat, isel=False)"
   ]
  },
  {
   "cell_type": "code",
   "execution_count": null,
   "metadata": {},
   "outputs": [],
   "source": []
  },
  {
   "cell_type": "markdown",
   "metadata": {},
   "source": [
    "### Ploting all years for p1"
   ]
  },
  {
   "cell_type": "code",
   "execution_count": null,
   "metadata": {},
   "outputs": [],
   "source": []
  },
  {
   "cell_type": "code",
   "execution_count": null,
   "metadata": {
    "scrolled": false
   },
   "outputs": [
    {
     "name": "stderr",
     "output_type": "stream",
     "text": [
      "/usr/local/lib/python3.5/dist-packages/dask/array/reductions.py:384: RuntimeWarning: invalid value encountered in true_divide\n",
      "  u = total / n\n",
      "/usr/local/lib/python3.5/dist-packages/dask/array/numpy_compat.py:28: RuntimeWarning: invalid value encountered in true_divide\n",
      "  x = np.divide(x1, x2, out)\n"
     ]
    }
   ],
   "source": [
    "plt.close()\n",
    "\n",
    "p = np.empty(52)\n",
    "plt.close()\n",
    "#air.isel(lon=10, lat=[19,21,22]).plot.line(x='time')\n",
    "for yr in range(2005, 2010):\n",
    "    p_year= p1.mlotst.sel(time=point.time.dt.year.isin([yr]))\n",
    "    l = str(yr)\n",
    "    p_year.groupby('time.week').mean(dim='time').plot(label=l)\n",
    "    p = np.append(p, p_year, axis=0)\n",
    "\n",
    "mean = p1.mlotst.groupby('time.week').mean(dim='time')\n",
    "stdv = p1.mlotst.groupby('time.week').std(dim='time')\n",
    "\n",
    "plt.errorbar(mean.week, mean, yerr=stdv)\n",
    "\n",
    "plt.legend()\n",
    "plt.show()"
   ]
  },
  {
   "cell_type": "code",
   "execution_count": null,
   "metadata": {},
   "outputs": [],
   "source": [
    "point = p1"
   ]
  },
  {
   "cell_type": "code",
   "execution_count": null,
   "metadata": {},
   "outputs": [],
   "source": [
    "plt.close()\n",
    "p = np.empty(52)\n",
    "plt.close()\n",
    "#air.isel(lon=10, lat=[19,21,22]).plot.line(x='time')\n",
    "for yr in range(2010, 2015):\n",
    "    p_year= point.mlotst.sel(time=point.time.dt.year.isin([yr]))\n",
    "    l = str(yr)\n",
    "    p_year.groupby('time.week').mean(dim='time').plot(label=l)\n",
    "    p = np.append(p, p_year, axis=0)\n",
    "\n",
    "mean = point.mlotst.groupby('time.week').mean(dim='time')\n",
    "stdv = point.mlotst.groupby('time.week').std(dim='time')\n",
    "\n",
    "plt.errorbar(mean.week, mean, yerr=stdv)\n",
    "\n",
    "plt.legend()\n",
    "plt.show()"
   ]
  },
  {
   "cell_type": "code",
   "execution_count": null,
   "metadata": {},
   "outputs": [],
   "source": []
  },
  {
   "cell_type": "code",
   "execution_count": null,
   "metadata": {
    "scrolled": true
   },
   "outputs": [],
   "source": [
    "plt.close()\n",
    "p = np.empty(52)\n",
    "plt.close()\n",
    "#air.isel(lon=10, lat=[19,21,22]).plot.line(x='time')\n",
    "for yr in range(2015, 2019):\n",
    "    p_year= point.mlotst.sel(time=point.time.dt.year.isin([yr]))\n",
    "    l = str(yr)\n",
    "    p_year.groupby('time.week').mean(dim='time').plot(label=l)\n",
    "    p = np.append(p, p_year, axis=0)\n",
    "\n",
    "mean = point.mlotst.groupby('time.week').mean(dim='time')\n",
    "stdv = point.mlotst.groupby('time.week').std(dim='time')\n",
    "\n",
    "plt.errorbar(mean.week, mean, yerr=stdv)\n",
    "\n",
    "plt.legend()\n",
    "plt.show()"
   ]
  },
  {
   "cell_type": "code",
   "execution_count": null,
   "metadata": {},
   "outputs": [],
   "source": []
  },
  {
   "cell_type": "markdown",
   "metadata": {},
   "source": [
    "###  Point 2"
   ]
  },
  {
   "cell_type": "code",
   "execution_count": null,
   "metadata": {},
   "outputs": [],
   "source": [
    "point = p2"
   ]
  },
  {
   "cell_type": "code",
   "execution_count": null,
   "metadata": {
    "scrolled": false
   },
   "outputs": [],
   "source": [
    "plt.close()\n",
    "p = np.empty(52)\n",
    "plt.close()\n",
    "#air.isel(lon=10, lat=[19,21,22]).plot.line(x='time')\n",
    "for yr in range(2005, 2010):\n",
    "    p_year= point.mlotst.sel(time=point.time.dt.year.isin([yr]))\n",
    "    l = str(yr)\n",
    "    p_year.groupby('time.week').mean(dim='time').plot(label=l)\n",
    "    p = np.append(p, p_year, axis=0)\n",
    "\n",
    "mean = point.mlotst.groupby('time.week').mean(dim='time')\n",
    "stdv = point.mlotst.groupby('time.week').std(dim='time')\n",
    "\n",
    "plt.errorbar(mean.week, mean, yerr=stdv)\n",
    "\n",
    "plt.legend()\n",
    "plt.show()"
   ]
  },
  {
   "cell_type": "code",
   "execution_count": null,
   "metadata": {},
   "outputs": [],
   "source": []
  },
  {
   "cell_type": "code",
   "execution_count": null,
   "metadata": {},
   "outputs": [],
   "source": [
    "plt.close()\n",
    "p = np.empty(52)\n",
    "plt.close()\n",
    "#air.isel(lon=10, lat=[19,21,22]).plot.line(x='time')\n",
    "for yr in range(2010, 2015):\n",
    "    p_year= point.mlotst.sel(time=point.time.dt.year.isin([yr]))\n",
    "    l = str(yr)\n",
    "    p_year.groupby('time.week').mean(dim='time').plot(label=l)\n",
    "    p = np.append(p, p_year, axis=0)\n",
    "\n",
    "mean = point.mlotst.groupby('time.week').mean(dim='time')\n",
    "stdv = point.mlotst.groupby('time.week').std(dim='time')\n",
    "\n",
    "plt.errorbar(mean.week, mean, yerr=stdv)\n",
    "\n",
    "plt.legend()\n",
    "plt.show()"
   ]
  },
  {
   "cell_type": "code",
   "execution_count": null,
   "metadata": {},
   "outputs": [],
   "source": []
  },
  {
   "cell_type": "code",
   "execution_count": null,
   "metadata": {
    "scrolled": true
   },
   "outputs": [],
   "source": [
    "p = np.empty(52)\n",
    "\n",
    "plt.close()\n",
    "#air.isel(lon=10, lat=[19,21,22]).plot.line(x='time')\n",
    "for yr in range(2015, 2019):\n",
    "    p_year= point.mlotst.sel(time=point.time.dt.year.isin([yr]))\n",
    "    l = str(yr)\n",
    "    p_year.groupby('time.week').mean(dim='time').plot(label=l)\n",
    "    p = np.append(p, p_year, axis=0)\n",
    "\n",
    "mean = point.mlotst.groupby('time.week').mean(dim='time')\n",
    "stdv = point.mlotst.groupby('time.week').std(dim='time')\n",
    "\n",
    "plt.errorbar(mean.week, mean, yerr=stdv)\n",
    "\n",
    "plt.legend()\n",
    "plt.show()"
   ]
  },
  {
   "cell_type": "code",
   "execution_count": null,
   "metadata": {},
   "outputs": [],
   "source": []
  },
  {
   "cell_type": "markdown",
   "metadata": {},
   "source": [
    "### Point 3"
   ]
  },
  {
   "cell_type": "code",
   "execution_count": null,
   "metadata": {},
   "outputs": [],
   "source": [
    "point = p3"
   ]
  },
  {
   "cell_type": "code",
   "execution_count": null,
   "metadata": {},
   "outputs": [],
   "source": []
  },
  {
   "cell_type": "code",
   "execution_count": null,
   "metadata": {
    "scrolled": false
   },
   "outputs": [],
   "source": [
    "plt.close()\n",
    "p = np.empty(52)\n",
    "plt.close()\n",
    "#air.isel(lon=10, lat=[19,21,22]).plot.line(x='time')\n",
    "for yr in range(2005, 2010):\n",
    "    p_year= point.mlotst.sel(time=point.time.dt.year.isin([yr]))\n",
    "    l = str(yr)\n",
    "    p_year.groupby('time.week').mean(dim='time').plot(label=l)\n",
    "    p = np.append(p, p_year, axis=0)\n",
    "\n",
    "mean = point.mlotst.groupby('time.week').mean(dim='time')\n",
    "stdv = point.mlotst.groupby('time.week').std(dim='time')\n",
    "\n",
    "plt.errorbar(mean.week, mean, yerr=stdv)\n",
    "\n",
    "plt.legend()\n",
    "plt.show()"
   ]
  },
  {
   "cell_type": "code",
   "execution_count": null,
   "metadata": {},
   "outputs": [],
   "source": []
  },
  {
   "cell_type": "code",
   "execution_count": null,
   "metadata": {},
   "outputs": [],
   "source": [
    "plt.close()\n",
    "p = np.empty(52)\n",
    "plt.close()\n",
    "#air.isel(lon=10, lat=[19,21,22]).plot.line(x='time')\n",
    "for yr in range(2010, 2015):\n",
    "    p_year= point.mlotst.sel(time=point.time.dt.year.isin([yr]))\n",
    "    l = str(yr)\n",
    "    p_year.groupby('time.week').mean(dim='time').plot(label=l)\n",
    "    p = np.append(p, p_year, axis=0)\n",
    "\n",
    "mean = point.mlotst.groupby('time.week').mean(dim='time')\n",
    "stdv = point.mlotst.groupby('time.week').std(dim='time')\n",
    "\n",
    "plt.errorbar(mean.week, mean, yerr=stdv)\n",
    "\n",
    "plt.legend()\n",
    "plt.show()"
   ]
  },
  {
   "cell_type": "code",
   "execution_count": null,
   "metadata": {},
   "outputs": [],
   "source": []
  },
  {
   "cell_type": "code",
   "execution_count": null,
   "metadata": {
    "scrolled": true
   },
   "outputs": [],
   "source": [
    "plt.close()\n",
    "p = np.empty(52)\n",
    "plt.close()\n",
    "#air.isel(lon=10, lat=[19,21,22]).plot.line(x='time')\n",
    "for yr in range(2015, 2019):\n",
    "    p_year= point.mlotst.sel(time=point.time.dt.year.isin([yr]))\n",
    "    l = str(yr)\n",
    "    p_year.groupby('time.week').mean(dim='time').plot(label=l)\n",
    "    p = np.append(p, p_year, axis=0)\n",
    "\n",
    "mean = point.mlotst.groupby('time.week').mean(dim='time')\n",
    "stdv = point.mlotst.groupby('time.week').std(dim='time')\n",
    "\n",
    "plt.errorbar(mean.week, mean, yerr=stdv)\n",
    "\n",
    "plt.legend()\n",
    "plt.show()"
   ]
  },
  {
   "cell_type": "code",
   "execution_count": null,
   "metadata": {},
   "outputs": [],
   "source": []
  },
  {
   "cell_type": "markdown",
   "metadata": {},
   "source": [
    "### Point 4"
   ]
  },
  {
   "cell_type": "code",
   "execution_count": null,
   "metadata": {},
   "outputs": [],
   "source": [
    "point = p4"
   ]
  },
  {
   "cell_type": "code",
   "execution_count": null,
   "metadata": {},
   "outputs": [],
   "source": []
  },
  {
   "cell_type": "code",
   "execution_count": null,
   "metadata": {
    "scrolled": false
   },
   "outputs": [],
   "source": [
    "plt.close()\n",
    "p = np.empty(52)\n",
    "plt.close()\n",
    "#air.isel(lon=10, lat=[19,21,22]).plot.line(x='time')\n",
    "for yr in range(2005, 2010):\n",
    "    p_year= point.mlotst.sel(time=point.time.dt.year.isin([yr]))\n",
    "    l = str(yr)\n",
    "    p_year.groupby('time.week').mean(dim='time').plot(label=l)\n",
    "    p = np.append(p, p_year, axis=0)\n",
    "\n",
    "mean = point.mlotst.groupby('time.week').mean(dim='time')\n",
    "stdv = point.mlotst.groupby('time.week').std(dim='time')\n",
    "\n",
    "plt.errorbar(mean.week, mean, yerr=stdv)\n",
    "\n",
    "plt.legend()\n",
    "plt.show()"
   ]
  },
  {
   "cell_type": "code",
   "execution_count": null,
   "metadata": {},
   "outputs": [],
   "source": []
  },
  {
   "cell_type": "code",
   "execution_count": null,
   "metadata": {},
   "outputs": [],
   "source": [
    "plt.close()\n",
    "p = np.empty(52)\n",
    "plt.close()\n",
    "#air.isel(lon=10, lat=[19,21,22]).plot.line(x='time')\n",
    "for yr in range(2010, 2015):\n",
    "    p_year= point.mlotst.sel(time=point.time.dt.year.isin([yr]))\n",
    "    l = str(yr)\n",
    "    p_year.groupby('time.week').mean(dim='time').plot(label=l)\n",
    "    p = np.append(p, p_year, axis=0)\n",
    "\n",
    "mean = point.mlotst.groupby('time.week').mean(dim='time')\n",
    "stdv = point.mlotst.groupby('time.week').std(dim='time')\n",
    "\n",
    "plt.errorbar(mean.week, mean, yerr=stdv)\n",
    "\n",
    "plt.legend()\n",
    "plt.show()"
   ]
  },
  {
   "cell_type": "code",
   "execution_count": null,
   "metadata": {},
   "outputs": [],
   "source": []
  },
  {
   "cell_type": "code",
   "execution_count": null,
   "metadata": {
    "scrolled": true
   },
   "outputs": [],
   "source": [
    "plt.close()\n",
    "p = np.empty(52)\n",
    "plt.close()\n",
    "#air.isel(lon=10, lat=[19,21,22]).plot.line(x='time')\n",
    "for yr in range(2015, 2019):\n",
    "    p_year= point.mlotst.sel(time=point.time.dt.year.isin([yr]))\n",
    "    l = str(yr)\n",
    "    p_year.groupby('time.week').mean(dim='time').plot(label=l)\n",
    "    p = np.append(p, p_year, axis=0)\n",
    "\n",
    "mean = point.mlotst.groupby('time.week').mean(dim='time')\n",
    "stdv = point.mlotst.groupby('time.week').std(dim='time')\n",
    "\n",
    "plt.errorbar(mean.week, mean, yerr=stdv)\n",
    "\n",
    "plt.legend()\n",
    "plt.show()"
   ]
  },
  {
   "cell_type": "code",
   "execution_count": null,
   "metadata": {},
   "outputs": [],
   "source": []
  },
  {
   "cell_type": "code",
   "execution_count": null,
   "metadata": {
    "jupyter": {
     "source_hidden": true
    }
   },
   "outputs": [],
   "source": [
    "## Selecting the example year. In this case yr = 2008\n",
    "\n",
    "p0_2008 = Year_sel(p0, 2008)\n",
    "p1_2008 = Year_sel(p1, 2008)\n",
    "p2_2008 = Year_sel(p2, 2008)\n",
    "p3_2008 = Year_sel(p3, 2008)\n",
    "p4_2008 = Year_sel(p4, 2008)"
   ]
  },
  {
   "cell_type": "code",
   "execution_count": null,
   "metadata": {},
   "outputs": [],
   "source": [
    "p0_2008.mlotst.argmin(dim='time', skipna=True).values\n",
    "\n"
   ]
  },
  {
   "cell_type": "code",
   "execution_count": null,
   "metadata": {},
   "outputs": [],
   "source": [
    "mxx = p0_2008.mlotst.min(skipna=True)\n",
    "\n",
    "for i in range(len(p0_2008.time)):\n",
    "    prov = p0_2008.mlotst[i]\n",
    "    if prov == mxx:\n",
    "        print(i)\n",
    "        break"
   ]
  },
  {
   "cell_type": "code",
   "execution_count": null,
   "metadata": {},
   "outputs": [],
   "source": [
    "print(p0_2008.longitude.values, p0_2008.latitude.values)\n",
    "print(p1_2008.longitude.values, p1_2008.latitude.values)\n",
    "print(p2_2008.longitude.values, p2_2008.latitude.values)\n",
    "print(p3_2008.longitude.values, p3_2008.latitude.values)\n",
    "print(p4_2008.longitude.values, p4_2008.latitude.values)\n"
   ]
  },
  {
   "cell_type": "code",
   "execution_count": null,
   "metadata": {},
   "outputs": [],
   "source": [
    "plt.close()\n",
    "\n",
    "p0_2008.mlotst.plot(label='center')\n",
    "p1_2008.mlotst.plot(label='up')\n",
    "p2_2008.mlotst.plot(label='rigth')\n",
    "p3_2008.mlotst.plot(label='down')\n",
    "p4_2008.mlotst.plot(label='left')\n",
    "\n",
    "plt.legend()\n",
    "plt.show()"
   ]
  },
  {
   "cell_type": "code",
   "execution_count": null,
   "metadata": {},
   "outputs": [],
   "source": [
    "p0_2009 = Year_sel(p0, 2009)\n",
    "p1_2009 = Year_sel(p1, 2009)\n",
    "p2_2009 = Year_sel(p2, 2009)\n",
    "p3_2009 = Year_sel(p3, 2009)\n",
    "p4_2009 = Year_sel(p4, 2009)\n",
    "\n",
    "plt.close()\n",
    "\n",
    "p0_2009.mlotst.plot(label='ce-09')\n",
    "p1_2009.mlotst.plot(label='up-09')\n",
    "p2_2009.mlotst.plot(label='ri-09')\n",
    "p3_2009.mlotst.plot(label='do-09')\n",
    "p4_2009.mlotst.plot(label='le-09')\n",
    "\n",
    "plt.legend()\n",
    "plt.show()"
   ]
  },
  {
   "cell_type": "code",
   "execution_count": null,
   "metadata": {},
   "outputs": [],
   "source": [
    "p0_2010 = Year_sel(p0, 2010)\n",
    "p1_2010 = Year_sel(p1, 2010)\n",
    "p2_2010 = Year_sel(p2, 2010)\n",
    "p3_2010 = Year_sel(p3, 2010)\n",
    "p4_2010 = Year_sel(p4, 2010)\n",
    "\n",
    "\n",
    "plt.close()\n",
    "\n",
    "p0_2010.mlotst.plot(label='ce-10')\n",
    "p1_2010.mlotst.plot(label='up-10')\n",
    "p2_2010.mlotst.plot(label='ri-10')\n",
    "p3_2010.mlotst.plot(label='do-10')\n",
    "p4_2010.mlotst.plot(label='le-10')\n",
    "\n",
    "plt.legend()\n",
    "plt.show()"
   ]
  },
  {
   "cell_type": "code",
   "execution_count": null,
   "metadata": {},
   "outputs": [],
   "source": []
  },
  {
   "cell_type": "code",
   "execution_count": null,
   "metadata": {},
   "outputs": [],
   "source": []
  },
  {
   "cell_type": "code",
   "execution_count": null,
   "metadata": {},
   "outputs": [],
   "source": []
  },
  {
   "cell_type": "code",
   "execution_count": null,
   "metadata": {},
   "outputs": [],
   "source": [
    "plt.close()\n",
    "\n",
    "p0_2008.mlotst.groupby('time.week').mean(dim='time').plot(label='center')\n",
    "p0_2009.mlotst.groupby('time.week').mean(dim='time').plot(label='ce-09')\n",
    "p0_2010.mlotst.groupby('time.week').mean(dim='time').plot(label='ce-10')\n",
    "\n",
    "plt.legend()\n",
    "plt.show()"
   ]
  },
  {
   "cell_type": "code",
   "execution_count": null,
   "metadata": {},
   "outputs": [],
   "source": []
  },
  {
   "cell_type": "code",
   "execution_count": null,
   "metadata": {},
   "outputs": [],
   "source": []
  },
  {
   "cell_type": "code",
   "execution_count": null,
   "metadata": {},
   "outputs": [],
   "source": [
    "p5_2008 = Year_sel(p5, 2008)\n",
    "p5_2008.mlotst[:0,0].where(p5_2008.mask==1)"
   ]
  },
  {
   "cell_type": "code",
   "execution_count": null,
   "metadata": {},
   "outputs": [],
   "source": [
    "#%matplotlib notebook\n",
    "#plt.close()\n",
    "\n",
    "#x = [i for i in range(0,12)]\n",
    "#y = [i for i in range(0,16)]\n",
    "\n",
    "#p5_2008.mlotst.isel(longitude=0, latitude=y).plot.line(x='time')\n",
    "#plt.legend(False)\n",
    "#plt.show()"
   ]
  },
  {
   "cell_type": "markdown",
   "metadata": {},
   "source": [
    "### Taking just one point, looking coordinates for max value"
   ]
  },
  {
   "cell_type": "code",
   "execution_count": null,
   "metadata": {},
   "outputs": [],
   "source": [
    "point = v.where(v.mask==1).sel(longitude=-47.83, latitude=41.29, method='nearest')\n",
    "point.mlotst.plot()"
   ]
  },
  {
   "cell_type": "code",
   "execution_count": null,
   "metadata": {},
   "outputs": [],
   "source": [
    "point.to[0].values"
   ]
  },
  {
   "cell_type": "code",
   "execution_count": null,
   "metadata": {},
   "outputs": [],
   "source": [
    "point.depth.values"
   ]
  },
  {
   "cell_type": "code",
   "execution_count": null,
   "metadata": {},
   "outputs": [],
   "source": [
    "maxis = point.max(dim='time', skipna=True)\n",
    "maxis.mlotst.values"
   ]
  },
  {
   "cell_type": "code",
   "execution_count": null,
   "metadata": {},
   "outputs": [],
   "source": []
  },
  {
   "cell_type": "code",
   "execution_count": null,
   "metadata": {},
   "outputs": [],
   "source": [
    "mmm = pp.where(pp==pp.max(), drop=True).squeeze()\n",
    "mmm.mlotst"
   ]
  },
  {
   "cell_type": "code",
   "execution_count": null,
   "metadata": {},
   "outputs": [],
   "source": [
    "pp.mlotst.max()"
   ]
  },
  {
   "cell_type": "code",
   "execution_count": null,
   "metadata": {},
   "outputs": [],
   "source": [
    "type(pp.depth)"
   ]
  },
  {
   "cell_type": "code",
   "execution_count": null,
   "metadata": {},
   "outputs": [],
   "source": []
  },
  {
   "cell_type": "markdown",
   "metadata": {},
   "source": [
    "## Making a filter for extreme values\n",
    "\n",
    "Here, when I say 'extreme values' I refer to the values that are weirdly big. The criterion used to call them as 'extreme' is that they have to be larger than 3$\\sigma$; $\\sigma$ is the standard deviation. I will work over the complete North Atalntic."
   ]
  },
  {
   "cell_type": "code",
   "execution_count": null,
   "metadata": {},
   "outputs": [],
   "source": [
    "## From this, I will obtain the standar deviation in each grid point\n",
    "## and for each week of the year. \n",
    "\n",
    "gulf = Crops(reg_ext, 'gul', c_armor)\n",
    "stdv = gulf.groupby('time.week').std(dim='time')"
   ]
  },
  {
   "cell_type": "code",
   "execution_count": null,
   "metadata": {},
   "outputs": [],
   "source": [
    "plt.close()\n",
    "stdv.mlotst[0].plot()\n"
   ]
  },
  {
   "cell_type": "code",
   "execution_count": null,
   "metadata": {},
   "outputs": [],
   "source": [
    "cond = 1*(gulf.mlotst[0] > 3.0*stdv.mlotst[0])\n",
    "\n",
    "plt.close()\n",
    "stdv.mlotst[0].where(cond==1).plot()"
   ]
  },
  {
   "cell_type": "code",
   "execution_count": null,
   "metadata": {},
   "outputs": [],
   "source": [
    "ds_2008 = Year_sel(gulf, 2008)\n",
    "\n",
    "cond = 1*(ds_2008.mlotst[10] > 3.*stdv.mlotst[10])\n",
    "\n",
    "plt.close()\n",
    "stdv.mlotst[10].where(cond==1).plot()"
   ]
  },
  {
   "cell_type": "code",
   "execution_count": null,
   "metadata": {},
   "outputs": [],
   "source": [
    "for yr in range(2005, 2006):\n",
    "    ds_yr = Year_sel(c_armor, yr)\n",
    "    weeks = ds_yr.groupby('time.week').mean(dim='time')\n",
    "    \n",
    "    for w in range(len(weeks.week)):\n",
    "\n",
    "        cond = 1*(weeks.mlotst[w] > 3.*stdv.mlotst[w])\n",
    "        mask = 1 * np.ones((c_armor.dims['latitude'], c_armor.dims['longitude']) * cond\n",
    "        c_armor.coords['std_m'] = (('latitude', 'longitude', 'time'), mask)\n"
   ]
  },
  {
   "cell_type": "code",
   "execution_count": null,
   "metadata": {},
   "outputs": [],
   "source": [
    "cond = 1*(weeks.mlotst[2] > 3.*stdv.mlotst[2])\n",
    "#mask = 1 * np.ones((c_armor.dims['latitude'], c_armor.dims['longitude'], c_armor.dims['time'])) * cond\n",
    "#c_armor.coords['mask'] = (('latitude', 'longitude', 'time'), mask)\n",
    "plt.close()\n",
    "cond.plot()"
   ]
  },
  {
   "cell_type": "code",
   "execution_count": null,
   "metadata": {},
   "outputs": [],
   "source": [
    "d = cond - cond1"
   ]
  },
  {
   "cell_type": "code",
   "execution_count": null,
   "metadata": {},
   "outputs": [],
   "source": [
    "plt.close()\n",
    "d.plot()\n",
    "plt.show()"
   ]
  },
  {
   "cell_type": "code",
   "execution_count": null,
   "metadata": {},
   "outputs": [],
   "source": []
  }
 ],
 "metadata": {
  "kernelspec": {
   "display_name": "Python 3",
   "language": "python",
   "name": "python3"
  },
  "language_info": {
   "codemirror_mode": {
    "name": "ipython",
    "version": 3
   },
   "file_extension": ".py",
   "mimetype": "text/x-python",
   "name": "python",
   "nbconvert_exporter": "python",
   "pygments_lexer": "ipython3",
   "version": "3.5.2"
  }
 },
 "nbformat": 4,
 "nbformat_minor": 4
}
