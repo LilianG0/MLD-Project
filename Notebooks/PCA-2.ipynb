{
 "cells": [
  {
   "cell_type": "code",
   "execution_count": 1,
   "metadata": {},
   "outputs": [],
   "source": [
    "from sklearn.decomposition import PCA\n",
    "import xarray as xr\n",
    "import numpy as np\n",
    "import pandas as pd\n",
    "import datetime\n",
    "\n",
    "import matplotlib as mpl\n",
    "import matplotlib.pyplot as plt\n",
    "\n",
    "import warnings; warnings.simplefilter('ignore')"
   ]
  },
  {
   "cell_type": "code",
   "execution_count": 2,
   "metadata": {},
   "outputs": [],
   "source": [
    "# Coordinates for large regions. Position in\n",
    "# (lon, lat): (rigth,  letf), (south, north),\n",
    "# and title for an eventual ploting title.\n",
    "reg_ext = {\n",
    "    'lab': {\n",
    "        'lon' : (-60, -30),\n",
    "        'lat' : (50, 65),\n",
    "        'name' : 'Labrador and Irminger Seas'\n",
    "    },\n",
    "    'gul': {\n",
    "        'lon' : (-75, -45),\n",
    "        'lat' : (30, 45),\n",
    "        'name' : 'Gulf Stream'\n",
    "    },\n",
    "    'noe': {\n",
    "        'lon' : (-30, -5),\n",
    "        'lat' : (45, 60),\n",
    "        'name' : 'North East Sea'\n",
    "    },\n",
    "    'nor':{\n",
    "        'lon' : (-40, 40.),\n",
    "        'lat' : (65, 85),\n",
    "        'name' : 'North Atlantic Ocean'\n",
    "    },\n",
    "    'noa':{\n",
    "        'lon' : (-90, 15.),\n",
    "        'lat' : (10, 85),\n",
    "        'name' : 'North Atlantic Ocean'\n",
    "    }\n",
    "}"
   ]
  },
  {
   "cell_type": "code",
   "execution_count": 14,
   "metadata": {},
   "outputs": [],
   "source": [
    "## Function to crop the dataset\n",
    "def Crops(coord, d_set, dictionary):\n",
    "    \"\"\"\n",
    "        Crops is a function that takes a data set and crops it into smaller\n",
    "        region, using as parameters the values given by a dictionary.\n",
    "        \n",
    "        Parameters:\n",
    "        ------------\n",
    "            \n",
    "        coord : string\n",
    "            Key value that identifies the region to obtain\n",
    "        \n",
    "        d_set : DataArray\n",
    "            Dataset to be cropped\n",
    "            \n",
    "        dictionary: dic\n",
    "            name of the dictionary wwith the coordinates\n",
    "        \n",
    "        Output:\n",
    "        -------\n",
    "        new_ds : DataArray\n",
    "            New data array corresponding to the region stated by 'coord'\n",
    "    \"\"\"\n",
    "\n",
    "    lon1, lon2 = dictionary[coord]['lon']\n",
    "    lat1, lat2 = dictionary[coord]['lat']\n",
    "    name_fig = dictionary[coord]['name']\n",
    "\n",
    "    return(d_set.sel(longitude=slice(lon1, lon2), latitude=slice(lat1, lat2)))\n",
    "\n",
    "\n",
    "\n",
    "def Grid(data_set):\n",
    "    x = data_set.longitude\n",
    "    y = data_set.latitude\n",
    "    \n",
    "    x, y = np.meshgrid(x, y)\n",
    "    return(x, y)\n",
    "\n",
    "\n",
    "def No_nan(a):\n",
    "    \"\"\"\n",
    "        No_nan is a function that helps to filter an array from nan values.\n",
    "        \n",
    "        Parameters:\n",
    "        ------------\n",
    "        a : Numpy Array\n",
    "            Is the array we want to filter\n",
    "        \n",
    "        Output:\n",
    "        -------\n",
    "        a2 : Numpy Arrray\n",
    "            Array with no nan values in it\n",
    "    \"\"\"\n",
    "    nan_array = np.isnan(a)\n",
    "    not_nan_array = ~ nan_array\n",
    "    a2 = a[not_nan_array]\n",
    "    \n",
    "    return(a2)\n",
    "\n",
    "\n",
    "def Map(ax, region, xtick, ytick):\n",
    "    \"\"\"\n",
    "        Map is a function that helps to plot the map on a certain projection\n",
    "        of a region. It always uses 50m definition of coastlines.\n",
    "\n",
    "        Parameters:\n",
    "        ------------\n",
    "        ax : axes\n",
    "            Current axes object in which is drawn the map.\n",
    "\n",
    "        region : list\n",
    "            Set of limit coordinates of the region to plot.\n",
    "            It has the shape [lon1, lon2, lat1, lat2]\n",
    "\n",
    "        xtick : np.array\n",
    "            array containing the number and spacement of ticks \n",
    "            in x-axis.\n",
    "\n",
    "        ytick : np.array\n",
    "            Array containing the number and spacement of ticks \n",
    "            in y-axis.\n",
    "    \"\"\"\n",
    "    ax.set_global()\n",
    "    ax.coastlines('50m')\n",
    "    ax.set_xticks(xtick, crs=ccrs.PlateCarree())\n",
    "    ax.set_yticks(ytick, crs=ccrs.PlateCarree())\n",
    "    lon_formatter = LongitudeFormatter(zero_direction_label=True)\n",
    "    lat_formatter = LatitudeFormatter()\n",
    "\n",
    "    ax.xaxis.set_major_formatter(lon_formatter)\n",
    "    ax.yaxis.set_major_formatter(lat_formatter)\n",
    "    ax.add_feature(cartopy.feature.BORDERS, linestyle=':')\n",
    "    ax.set_extent(region, crs=ccrs.PlateCarree())     #lat, lon\n",
    "    ax.gridlines(crs=ccrs.PlateCarree(), linewidth=1, \n",
    "                 color='gray', alpha=0.5, linestyle='-.')\n",
    "\n",
    "\n",
    "\n",
    "## Need to make this a little bit more general, also in the extend. by now extends just to max\n",
    "def Plot_2D(data_set, reg, *cm_levs, t=None, cmap=None, ext=None, cont_line=False, nlines=None):\n",
    "    \"\"\"\n",
    "        Plot_2D is a function that plots a 2D variable using a\n",
    "        colormap over a spatial region. It makes use of the external \n",
    "        functions 'Grid' and 'Map'. It also makes use of the dictionary \n",
    "        'reg_ext', to get the spatial delimitations. This works only\n",
    "        for DataArray type and to plot MLD. The pre-defined cmap is \n",
    "        'magma_r'.\n",
    "        \n",
    "        Parameters:\n",
    "        ------------\n",
    "        data_set : DataArray\n",
    "            Current axes object in which is drawn the map. It can\n",
    "            be a complete DataArray, or just the values for one of\n",
    "            the variables.\n",
    "            \n",
    "        reg : string\n",
    "            Abreviation name that identifies the region in \n",
    "            which the plot is being done. It must be defined\n",
    "            inside the dictionary 'reg_ext'.\n",
    "            \n",
    "        cm_levs : tuple, integers\n",
    "            It contains the parameters for the color bar. The \n",
    "            order is: minimum, maximum, #of levels\n",
    "        \n",
    "        t : integer\n",
    "            Timestep to plot.\n",
    "        \n",
    "        cmap : String\n",
    "            Name of the color map to use. Default is 'magma_r'\n",
    "        \n",
    "        ext : string\n",
    "            Extention of the color bar. Default is 'max'\n",
    "            \n",
    "        cont_line : Boolean\n",
    "            If True we allow to plot a second contour plot of SSH. \n",
    "            On top of the MLD heat map.\n",
    "            If False, this function plots a heat map of the variable \n",
    "            set by parameter 'data_set'.\n",
    "            \n",
    "        nlines : integers\n",
    "            Is the number of lines to plot the contour plot. It is \n",
    "            optional, and is necessary when cont_line=True.\n",
    "        \n",
    "        Output:\n",
    "        ------------\n",
    "        ax : axes\n",
    "    \"\"\"\n",
    "    \n",
    "    # Shaping the plot\n",
    "    x_n, y_n = Grid(data_set)\n",
    "    projection = ccrs.PlateCarree(360)\n",
    "    \n",
    "    # Getting the delimitations and ticks\n",
    "    lon1, lon2 = reg_ext[reg]['lon']\n",
    "    lat1, lat2 = reg_ext[reg]['lat']\n",
    "    xtick = np.linspace(lon1, lon2, num=9)\n",
    "    ytick = np.linspace(lat1, lat2, num=4)\n",
    "    region = [lon1, lon2, lat1, lat2]    #Lon, Lat\n",
    "    \n",
    "    # If we want to plot MLD and SSH, or other thing, without SSH countours\n",
    "    if cont_line:\n",
    "        if not t:\n",
    "            variable1 = data_set.mlotst\n",
    "            variable2 = data_set.zo[0]\n",
    "        else:\n",
    "            variable1 = data_set.mlotst[t]\n",
    "            variable2 = data_set.zo[t,0]\n",
    "    else:\n",
    "        if not t:\n",
    "            variable1 = data_set\n",
    "        else:\n",
    "            variable1 = data_set[t]\n",
    "        \n",
    "    if not cmap:\n",
    "        cmap = 'plasma_r'\n",
    "        \n",
    "    \n",
    "    if ext:\n",
    "        ext = ext\n",
    "    else:\n",
    "        ext = 'max'\n",
    "\n",
    "    # Start of the plot\n",
    "    fig, ax = plt.subplots(nrows=1, ncols=1, subplot_kw=dict(projection=projection), figsize=(10,5))    \n",
    "    \n",
    "    Map(ax, region, xtick, ytick)\n",
    "    \n",
    "    # Here plot the variable using a heat map, defining also color bar\n",
    "    contr1 = ax.contourf(x_n, y_n, variable1, \n",
    "                         levels=np.linspace(cm_levs[0], cm_levs[1], cm_levs[2]),\n",
    "                         cmap=cmap, extend=ext)\n",
    "    cbar = fig.colorbar(contr1, ax=ax, shrink=0.855, orientation='vertical',\n",
    "                        label='MLD [m]', extend=ext)  \n",
    "    # Here adding an extra layer of SSH at surface using countour lines\n",
    "    if cont_line:\n",
    "        contr2 = ax.contour(x_n, y_n, variable2, nlines, linewidths=0.5, colors='k')\n",
    "    \n",
    "    # Saving the figure\n",
    "    ##if save:\n",
    "    ##    fig.savefig(os.path.abspath(os.path.sep.join([\".\",\"dummy_images\",\"Noe_%0.4d.png\" % it])))\n",
    "\n",
    "    return(ax)\n",
    "    \n",
    "    \n",
    "def Masking(data_set, cond):\n",
    "    \"\"\"\n",
    "        Maskin is a function that makes a mask of an array depending on the \n",
    "        entering condition. The condition is evaluated over finite numbers.\n",
    "        At the final, the mask is appended in the original DataArray as a \n",
    "        new coordinate.\n",
    "        \n",
    "        Parameters:\n",
    "        ------------\n",
    "        data_set : DataArray\n",
    "            Is the array we want to make the mask of.\n",
    "            \n",
    "        cond : array\n",
    "            Codition to meet. \n",
    "\n",
    "\n",
    "        Output:\n",
    "        -------\n",
    "        data_set : Numpy Arrray\n",
    "            Array with new coordinates 'mask'\n",
    "    \"\"\"\n",
    "    \n",
    "    mask = 1 * np.ones((data_set.dims['latitude'], data_set.dims['longitude'])) * np.isfinite(cond)  \n",
    "    data_set.coords['mask'] = (('latitude', 'longitude'), mask)\n",
    "    return(data_set)\n",
    "\n",
    "\n",
    "def Limits(data_set):\n",
    "    \n",
    "    mn = data_set.min(skipna=True).values\n",
    "    mx = data_set.max(skipna=True).values\n",
    "    return(mn, mx)\n",
    "\n",
    "def magnitude(a, b):\n",
    "    func = lambda x, y: np.sqrt(x ** 2 + y ** 2)\n",
    "    return xr.apply_ufunc(func, a, b)\n",
    "\n",
    "def Normalize(data_set):\n",
    "    mn = data_set.min(skipna=True).values\n",
    "    mx = data_set.max(skipna=True).values\n",
    "    \n",
    "    y = lambda x, mn, mx: (x - mn) / (mx - mn)\n",
    "    return xr.apply_ufunc(y, data_set, mn, mx, dask='allowed')\n",
    "\n",
    "\n",
    "def Re_arrange(data_set, years):\n",
    "    g = []\n",
    "    n = []\n",
    "    r = []\n",
    "\n",
    "    for i,y in enumerate(years):\n",
    "        aa = data_set.sel(time=data_set['year']==y).resample(time='W').mean()\n",
    "        aa = aa.groupby('time.week').mean(dim='time')\n",
    "\n",
    "        if aa.shape[0] != 53:\n",
    "            aa = xr.concat([aa,zero], dim='week')\n",
    "        \n",
    "        aa = aa.stack(map=('longitude', 'latitude'))\n",
    "        aa = aa.dropna(dim='map', how='any')\n",
    "        nn  = aa.groupby('map').apply(Normalize)\n",
    "        nr = nn.groupby('map').apply(Rolled)\n",
    "        \n",
    "        g.append(aa)\n",
    "        n.append(nn)\n",
    "        r.append(nr)\n",
    "        print(y)\n",
    "\n",
    "    return(g, n, r)\n",
    "\n",
    "\n",
    "def Rolled(data_set):\n",
    "    min_w = data_set.argmin(dim='week', skipna=True).values\n",
    "    rol = np.roll(data_set, -min_w, axis=0)\n",
    "    \n",
    "    return rol"
   ]
  },
  {
   "cell_type": "code",
   "execution_count": null,
   "metadata": {},
   "outputs": [],
   "source": []
  },
  {
   "cell_type": "code",
   "execution_count": 4,
   "metadata": {},
   "outputs": [],
   "source": [
    "###############################################################################\n",
    "###########         MAIN PROGRAM\n",
    "###############################################################################\n",
    "dir_1 = '../../New_ARMOR/'\n",
    "dir_15 = '/net/data0-gw/data0/project/drakkar/USERS/lgarcia/data_ARMOR/'\n",
    "\n",
    "dir_of = '/home/lgarcia/Documents/Other_datasets/'\n",
    "dir_oi = '/home/lgarcia/Documents/Scripts/Images_01/'\n",
    "\n",
    "fl_n1 = 'NARMOR_*.nc'\n",
    "fl_n15 = 'ARMOR_*.nc'\n",
    "\n",
    "c_armor1 = xr.open_mfdataset(dir_1 + fl_n1, concat_dim='time')\n",
    "c_armor15 = xr.open_mfdataset(dir_15 + fl_n15)"
   ]
  },
  {
   "cell_type": "code",
   "execution_count": 5,
   "metadata": {},
   "outputs": [],
   "source": [
    "d1 = datetime.datetime(2005,1,1)\n",
    "d2 = datetime.datetime(2018,12,20)\n",
    "\n",
    "weeks = pd.date_range(start=d1, end=d2, freq='7D')\n",
    "c_armor1.coords['time'] = (('time'), weeks)"
   ]
  },
  {
   "cell_type": "code",
   "execution_count": 6,
   "metadata": {},
   "outputs": [],
   "source": [
    "coord = 'gul'\n",
    "region = Crops(coord, c_armor1, reg_ext)\n",
    "region2 = Crops(coord, c_armor15, reg_ext)\n",
    "\n",
    "region2 = Masking(region2, region2.to[0,25])"
   ]
  },
  {
   "cell_type": "code",
   "execution_count": 7,
   "metadata": {},
   "outputs": [
    {
     "name": "stdout",
     "output_type": "stream",
     "text": [
      "8 15\n"
     ]
    }
   ],
   "source": [
    "points = region.mlotst[:,::8,::8].where(region2.mask==1)\n",
    "print(points.latitude.size, points.longitude.size)"
   ]
  },
  {
   "cell_type": "code",
   "execution_count": null,
   "metadata": {},
   "outputs": [],
   "source": []
  },
  {
   "cell_type": "code",
   "execution_count": 9,
   "metadata": {},
   "outputs": [
    {
     "data": {
      "text/plain": [
       "<matplotlib.collections.QuadMesh at 0x7f032b8a2e80>"
      ]
     },
     "execution_count": 9,
     "metadata": {},
     "output_type": "execute_result"
    },
    {
     "data": {
      "image/png": "[encoded data removed]",
      "text/plain": [
       "<Figure size 432x288 with 2 Axes>"
      ]
     },
     "metadata": {
      "needs_background": "light"
     },
     "output_type": "display_data"
    }
   ],
   "source": [
    "points[0].plot()"
   ]
  },
  {
   "cell_type": "code",
   "execution_count": 10,
   "metadata": {},
   "outputs": [],
   "source": [
    "pp = points.time.dt.year\n",
    "points.coords['year'] = (('time'), pp)"
   ]
  },
  {
   "cell_type": "code",
   "execution_count": 11,
   "metadata": {},
   "outputs": [],
   "source": [
    "la = points.latitude.values.size\n",
    "lo = points.longitude.values.size\n",
    "valslo = points.longitude.values\n",
    "valsla = points.latitude.values\n",
    "\n",
    "zero = xr.DataArray(np.zeros((1, la, lo)), \n",
    "                    dims=[\"week\", \"latitude\", \"longitude\"], \n",
    "                          coords={\"week\": [53],\n",
    "                                  \"latitude\": valsla,\n",
    "                                  \"longitude\": valslo},\n",
    "                    name='mlotst')"
   ]
  },
  {
   "cell_type": "markdown",
   "metadata": {},
   "source": [
    "## Re-shaing the dataset\n",
    "\n",
    "It  is done in two groups. The analysis ignores the 2018 because is not complete and the 2010, because it causes problems with the dimensions. Why? I still do not know.\n",
    "\n",
    "The shift is done to put the minimum at the first time step."
   ]
  },
  {
   "cell_type": "code",
   "execution_count": 12,
   "metadata": {},
   "outputs": [],
   "source": [
    "## Exclude 2018 because is not a full year\n",
    "## Also excluding 2010, because it makes problem with the dimensions 'week'\n",
    "years1 = [y for y in range(2005, 2010)]\n",
    "years2 = [y for y in range(2011, 2018)]"
   ]
  },
  {
   "cell_type": "code",
   "execution_count": null,
   "metadata": {},
   "outputs": [
    {
     "name": "stdout",
     "output_type": "stream",
     "text": [
      "2005\n",
      "2006\n"
     ]
    }
   ],
   "source": [
    "## Reshaping, normalizing and shifting\n",
    "week1, norm1, roll1 = Re_arrange(points, years1)\n",
    "week2, norm2, roll2 = Re_arrange(points, years2)"
   ]
  },
  {
   "cell_type": "code",
   "execution_count": null,
   "metadata": {},
   "outputs": [],
   "source": [
    "## Concatenating the data arrays\n",
    "new_p1 = xr.concat(week1, dim='map')\n",
    "new_p2 = xr.concat(week2, dim='map')\n",
    "\n",
    "nor_p1 = xr.concat(norm1, dim='map')\n",
    "nor_p2 = xr.concat(norm2, dim='map')\n",
    "\n",
    "rol_p1 = xr.concat(roll1, dim='map')\n",
    "rol_p2 = xr.concat(roll2, dim='map')"
   ]
  },
  {
   "cell_type": "code",
   "execution_count": null,
   "metadata": {},
   "outputs": [],
   "source": [
    "## Big data arrays, with all the years and grid points\n",
    "new_points = xr.concat([new_p1,new_p2], dim='map')\n",
    "nor_points = xr.concat([nor_p1,nor_p2], dim='map')\n",
    "rol_points = xr.concat([rol_p1,rol_p2], dim='map')"
   ]
  },
  {
   "cell_type": "code",
   "execution_count": null,
   "metadata": {},
   "outputs": [],
   "source": [
    "## Change of the map=(lon,lat) -> map=(point).\n",
    "## Now 'map' is uni-index.\n",
    "\n",
    "new_points = new_points.reset_index(dims_or_levels='map')\n",
    "nor_points = nor_points.reset_index(dims_or_levels='map')\n",
    "rol_points = rol_points.reset_index(dims_or_levels='map')"
   ]
  },
  {
   "cell_type": "code",
   "execution_count": null,
   "metadata": {},
   "outputs": [],
   "source": [
    "new_points.T.plot()"
   ]
  },
  {
   "cell_type": "code",
   "execution_count": null,
   "metadata": {},
   "outputs": [],
   "source": [
    "nor_points.T.plot()"
   ]
  },
  {
   "cell_type": "code",
   "execution_count": null,
   "metadata": {},
   "outputs": [],
   "source": [
    "rol_points.T.plot()"
   ]
  },
  {
   "cell_type": "code",
   "execution_count": null,
   "metadata": {},
   "outputs": [],
   "source": []
  },
  {
   "cell_type": "code",
   "execution_count": null,
   "metadata": {},
   "outputs": [],
   "source": []
  },
  {
   "cell_type": "code",
   "execution_count": null,
   "metadata": {},
   "outputs": [],
   "source": []
  },
  {
   "cell_type": "code",
   "execution_count": null,
   "metadata": {},
   "outputs": [],
   "source": []
  },
  {
   "cell_type": "code",
   "execution_count": null,
   "metadata": {},
   "outputs": [],
   "source": []
  },
  {
   "cell_type": "code",
   "execution_count": null,
   "metadata": {},
   "outputs": [],
   "source": []
  },
  {
   "cell_type": "code",
   "execution_count": null,
   "metadata": {},
   "outputs": [],
   "source": []
  },
  {
   "cell_type": "code",
   "execution_count": null,
   "metadata": {},
   "outputs": [],
   "source": []
  },
  {
   "cell_type": "code",
   "execution_count": null,
   "metadata": {},
   "outputs": [],
   "source": []
  },
  {
   "cell_type": "code",
   "execution_count": null,
   "metadata": {},
   "outputs": [],
   "source": []
  },
  {
   "cell_type": "code",
   "execution_count": null,
   "metadata": {},
   "outputs": [],
   "source": []
  },
  {
   "cell_type": "markdown",
   "metadata": {},
   "source": [
    "Maaaaaaaaaaaaay be now, apply PCA"
   ]
  },
  {
   "cell_type": "code",
   "execution_count": null,
   "metadata": {},
   "outputs": [],
   "source": []
  },
  {
   "cell_type": "markdown",
   "metadata": {},
   "source": [
    "This is a try with the arrays shifted, starting from minimum value"
   ]
  },
  {
   "cell_type": "code",
   "execution_count": null,
   "metadata": {},
   "outputs": [],
   "source": [
    "# Run the PCA analysis:\n",
    "n_components = 12  # Rq: n_components cannot exceed ncols !\n",
    "pca = PCA(n_components=n_components)\n",
    "pca.fit(ds)"
   ]
  },
  {
   "cell_type": "code",
   "execution_count": null,
   "metadata": {},
   "outputs": [],
   "source": [
    "print(pca.singular_values_)"
   ]
  },
  {
   "cell_type": "code",
   "execution_count": null,
   "metadata": {},
   "outputs": [],
   "source": [
    "## 53x12\n",
    "reduced_values = pca.transform(ds)"
   ]
  },
  {
   "cell_type": "code",
   "execution_count": null,
   "metadata": {},
   "outputs": [],
   "source": [
    "reduced_values[0]"
   ]
  },
  {
   "cell_type": "code",
   "execution_count": null,
   "metadata": {},
   "outputs": [],
   "source": [
    "## 53x12\n",
    "print(pca.components_.size)"
   ]
  },
  {
   "cell_type": "code",
   "execution_count": null,
   "metadata": {},
   "outputs": [],
   "source": [
    "ds"
   ]
  },
  {
   "cell_type": "code",
   "execution_count": null,
   "metadata": {},
   "outputs": [],
   "source": []
  },
  {
   "cell_type": "code",
   "execution_count": null,
   "metadata": {},
   "outputs": [],
   "source": [
    "eigenvalues = pca.components_\n",
    "reduced_data = reduced_values\n",
    "expl_variance = pca.explained_variance_ratio_*100\n",
    "\n",
    "print(eigenvalues.shape, reduced_data.shape, expl_variance.shape)"
   ]
  },
  {
   "cell_type": "code",
   "execution_count": null,
   "metadata": {},
   "outputs": [],
   "source": [
    "plt.plot(eigenvalues[0])\n",
    "plt.show()"
   ]
  },
  {
   "cell_type": "code",
   "execution_count": null,
   "metadata": {},
   "outputs": [],
   "source": [
    "plt.plot(eigenvalues[1])\n",
    "plt.show()"
   ]
  },
  {
   "cell_type": "code",
   "execution_count": null,
   "metadata": {},
   "outputs": [],
   "source": [
    "plt.plot(eigenvalues[2])\n",
    "plt.show()"
   ]
  },
  {
   "cell_type": "code",
   "execution_count": null,
   "metadata": {},
   "outputs": [],
   "source": [
    "plt.plot(eigenvalues[3])\n",
    "plt.show()"
   ]
  },
  {
   "cell_type": "code",
   "execution_count": null,
   "metadata": {},
   "outputs": [],
   "source": []
  },
  {
   "cell_type": "code",
   "execution_count": null,
   "metadata": {},
   "outputs": [],
   "source": []
  },
  {
   "cell_type": "code",
   "execution_count": null,
   "metadata": {},
   "outputs": [],
   "source": []
  },
  {
   "cell_type": "code",
   "execution_count": null,
   "metadata": {},
   "outputs": [],
   "source": []
  },
  {
   "cell_type": "code",
   "execution_count": null,
   "metadata": {},
   "outputs": [],
   "source": []
  },
  {
   "cell_type": "code",
   "execution_count": null,
   "metadata": {},
   "outputs": [],
   "source": []
  },
  {
   "cell_type": "code",
   "execution_count": null,
   "metadata": {},
   "outputs": [],
   "source": []
  },
  {
   "cell_type": "markdown",
   "metadata": {},
   "source": [
    "This is a try with the normalized data, but any shift"
   ]
  },
  {
   "cell_type": "code",
   "execution_count": null,
   "metadata": {},
   "outputs": [],
   "source": [
    "# Run the PCA analysis:\n",
    "n_components = 12  # Rq: n_components cannot exceed ncols !\n",
    "pca = PCA(n_components=n_components)\n",
    "pca.fit(rolled)"
   ]
  },
  {
   "cell_type": "code",
   "execution_count": null,
   "metadata": {},
   "outputs": [],
   "source": [
    "print(pca.singular_values_)"
   ]
  },
  {
   "cell_type": "code",
   "execution_count": null,
   "metadata": {},
   "outputs": [],
   "source": [
    "## 53x12\n",
    "reduced_values = pca.transform(ds)"
   ]
  },
  {
   "cell_type": "code",
   "execution_count": null,
   "metadata": {},
   "outputs": [],
   "source": [
    "reduced_values[0]"
   ]
  },
  {
   "cell_type": "code",
   "execution_count": null,
   "metadata": {},
   "outputs": [],
   "source": [
    "## 53x12\n",
    "print(pca.components_.size)"
   ]
  },
  {
   "cell_type": "code",
   "execution_count": null,
   "metadata": {},
   "outputs": [],
   "source": [
    "ds"
   ]
  },
  {
   "cell_type": "code",
   "execution_count": null,
   "metadata": {},
   "outputs": [],
   "source": []
  },
  {
   "cell_type": "code",
   "execution_count": null,
   "metadata": {},
   "outputs": [],
   "source": [
    "eigenvalues = pca.components_\n",
    "reduced_data = reduced_values\n",
    "expl_variance = pca.explained_variance_ratio_*100\n",
    "\n",
    "print(eigenvalues.shape, reduced_data.shape, expl_variance.shape)"
   ]
  },
  {
   "cell_type": "code",
   "execution_count": null,
   "metadata": {},
   "outputs": [],
   "source": [
    "plt.plot(eigenvalues[0])\n",
    "plt.show()"
   ]
  },
  {
   "cell_type": "code",
   "execution_count": null,
   "metadata": {},
   "outputs": [],
   "source": [
    "plt.plot(eigenvalues[1])\n",
    "plt.show()"
   ]
  },
  {
   "cell_type": "code",
   "execution_count": null,
   "metadata": {},
   "outputs": [],
   "source": [
    "plt.plot(eigenvalues[2])\n",
    "plt.show()"
   ]
  },
  {
   "cell_type": "code",
   "execution_count": null,
   "metadata": {},
   "outputs": [],
   "source": [
    "plt.plot(eigenvalues[3])\n",
    "plt.show()"
   ]
  },
  {
   "cell_type": "code",
   "execution_count": null,
   "metadata": {},
   "outputs": [],
   "source": [
    "for i in range(12):\n",
    "    name = 'PCA' + str(i)\n",
    "    plt.plot(eigenvalues[i])\n",
    "    plt.label(name)\n",
    "\n",
    "plt.legend()\n",
    "plt.show()"
   ]
  },
  {
   "cell_type": "code",
   "execution_count": null,
   "metadata": {},
   "outputs": [],
   "source": [
    "ds['explained_variance'].plot(label='exp.var. alone')\n",
    "ds['explained_variance'].cumsum(dim='n_eof').plot(label='exp.var. sum')\n",
    "plt.legend()\n",
    "plt.grid(alpha=0.5)\n",
    "plt.show()"
   ]
  },
  {
   "cell_type": "code",
   "execution_count": null,
   "metadata": {},
   "outputs": [],
   "source": []
  },
  {
   "cell_type": "markdown",
   "metadata": {},
   "source": [
    "For example PC1"
   ]
  },
  {
   "cell_type": "code",
   "execution_count": null,
   "metadata": {},
   "outputs": [],
   "source": [
    "PC = eigenvalues.dot(ds.T)\n",
    "PC"
   ]
  },
  {
   "cell_type": "code",
   "execution_count": null,
   "metadata": {},
   "outputs": [],
   "source": [
    "fig, ax = plt.subplots(nrows=4, ncols=4, figsize=(10,5), \n",
    "                       sharex=True, sharey=True, constrained_layout=True)\n",
    "for i in range(4):\n",
    "    for j in range(4):\n",
    "        print(i,j)\n",
    "\n",
    "        x = PC[i]\n",
    "        y = PC[j]\n",
    "        name = 'PC' + str(i) + '-' + str(j)\n",
    "\n",
    "        ax[i,j].scatter(x, y)\n",
    "        ax[i,j].set_ylabel(name)\n",
    "\n",
    "plt.show()"
   ]
  },
  {
   "cell_type": "code",
   "execution_count": null,
   "metadata": {},
   "outputs": [],
   "source": []
  },
  {
   "cell_type": "code",
   "execution_count": null,
   "metadata": {},
   "outputs": [],
   "source": []
  },
  {
   "cell_type": "code",
   "execution_count": null,
   "metadata": {},
   "outputs": [],
   "source": []
  },
  {
   "cell_type": "code",
   "execution_count": null,
   "metadata": {},
   "outputs": [],
   "source": []
  },
  {
   "cell_type": "code",
   "execution_count": null,
   "metadata": {},
   "outputs": [],
   "source": []
  },
  {
   "cell_type": "code",
   "execution_count": null,
   "metadata": {},
   "outputs": [],
   "source": []
  },
  {
   "cell_type": "code",
   "execution_count": null,
   "metadata": {},
   "outputs": [],
   "source": []
  },
  {
   "cell_type": "code",
   "execution_count": null,
   "metadata": {},
   "outputs": [],
   "source": []
  },
  {
   "cell_type": "code",
   "execution_count": null,
   "metadata": {},
   "outputs": [],
   "source": []
  }
 ],
 "metadata": {
  "kernelspec": {
   "display_name": "Python 3",
   "language": "python",
   "name": "py3phyocean"
  },
  "language_info": {
   "codemirror_mode": {
    "name": "ipython",
    "version": 3
   },
   "file_extension": ".py",
   "mimetype": "text/x-python",
   "name": "python",
   "nbconvert_exporter": "python",
   "pygments_lexer": "ipython3",
   "version": "3.6.9"
  }
 },
 "nbformat": 4,
 "nbformat_minor": 4
}
