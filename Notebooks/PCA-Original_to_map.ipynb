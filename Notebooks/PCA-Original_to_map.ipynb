{
 "cells": [
  {
   "cell_type": "code",
   "execution_count": 294,
   "metadata": {},
   "outputs": [],
   "source": [
    "from sklearn.decomposition import PCA\n",
    "from sklearn.utils import safe_mask\n",
    "\n",
    "import xarray as xr\n",
    "import numpy as np\n",
    "import pandas as pd\n",
    "import datetime\n",
    "\n",
    "import matplotlib as mpl\n",
    "import matplotlib.pyplot as plt\n",
    "\n",
    "import warnings; warnings.simplefilter('ignore')"
   ]
  },
  {
   "cell_type": "code",
   "execution_count": 68,
   "metadata": {},
   "outputs": [],
   "source": [
    "# Coordinates for large regions. Position in\n",
    "# (lon, lat): (rigth,  letf), (south, north),\n",
    "# and title for an eventual ploting title.\n",
    "reg_ext = {\n",
    "    'lab': {\n",
    "        'lon' : (-60, -30),\n",
    "        'lat' : (50, 65),\n",
    "        'name' : 'Labrador and Irminger Seas'\n",
    "    },\n",
    "    'gul': {\n",
    "        'lon' : (-75, -45),\n",
    "        'lat' : (30, 45),\n",
    "        'name' : 'Gulf Stream'\n",
    "    },\n",
    "    'noe': {\n",
    "        'lon' : (-30, -5),\n",
    "        'lat' : (45, 60),\n",
    "        'name' : 'North East Sea'\n",
    "    },\n",
    "    'nor':{\n",
    "        'lon' : (-40, 40.),\n",
    "        'lat' : (65, 85),\n",
    "        'name' : 'North Atlantic Ocean'\n",
    "    },\n",
    "    'noa':{\n",
    "        'lon' : (-90, 15.),\n",
    "        'lat' : (10, 85),\n",
    "        'name' : 'North Atlantic Ocean'\n",
    "    }\n",
    "}"
   ]
  },
  {
   "cell_type": "code",
   "execution_count": 595,
   "metadata": {},
   "outputs": [],
   "source": [
    "## Function to crop the dataset\n",
    "def Crops(coord, d_set, dictionary):\n",
    "    \"\"\"\n",
    "        Crops is a function that takes a data set and crops it into smaller\n",
    "        region, using as parameters the values given by a dictionary.\n",
    "        \n",
    "        Parameters:\n",
    "        ------------\n",
    "            \n",
    "        coord : string\n",
    "            Key value that identifies the region to obtain\n",
    "        \n",
    "        d_set : DataArray\n",
    "            Dataset to be cropped\n",
    "            \n",
    "        dictionary: dic\n",
    "            name of the dictionary wwith the coordinates\n",
    "        \n",
    "        Output:\n",
    "        -------\n",
    "        new_ds : DataArray\n",
    "            New data array corresponding to the region stated by 'coord'\n",
    "    \"\"\"\n",
    "\n",
    "    lon1, lon2 = dictionary[coord]['lon']\n",
    "    lat1, lat2 = dictionary[coord]['lat']\n",
    "    name_fig = dictionary[coord]['name']\n",
    "\n",
    "    return(d_set.sel(longitude=slice(lon1, lon2), latitude=slice(lat1, lat2)))\n",
    "\n",
    "\n",
    "\n",
    "def Grid(data_set):\n",
    "    x = data_set.longitude\n",
    "    y = data_set.latitude\n",
    "    \n",
    "    x, y = np.meshgrid(x, y)\n",
    "    return(x, y)\n",
    "    \n",
    "    \n",
    "def Masking(data_set, cond):\n",
    "    \"\"\"\n",
    "        Maskin is a function that makes a mask of an array depending on the \n",
    "        entering condition. The condition is evaluated over finite numbers.\n",
    "        At the final, the mask is appended in the original DataArray as a \n",
    "        new coordinate.\n",
    "        \n",
    "        Parameters:\n",
    "        ------------\n",
    "        data_set : DataArray\n",
    "            Is the array we want to make the mask of.\n",
    "            \n",
    "        cond : array\n",
    "            Codition to meet. \n",
    "\n",
    "\n",
    "        Output:\n",
    "        -------\n",
    "        data_set : Numpy Arrray\n",
    "            Array with new coordinates 'mask'\n",
    "    \"\"\"\n",
    "    \n",
    "    mask = 1 * np.ones((data_set.dims['latitude'], data_set.dims['longitude'])) * np.isfinite(cond)  \n",
    "    data_set.coords['mask'] = (('latitude', 'longitude'), mask)\n",
    "    return(data_set)\n",
    "\n",
    "\n",
    "def Limits(data_set):\n",
    "    \n",
    "    mn = data_set.min(skipna=True).values\n",
    "    mx = data_set.max(skipna=True).values\n",
    "    return(mn, mx)\n",
    "\n",
    "\n",
    "def Normalize(data_set):\n",
    "    mn = data_set.min(dim='week', skipna=True)\n",
    "    mx = data_set.max(dim='week', skipna=True)\n",
    "    \n",
    "    y = (data_set - mn) / (mx - mn)\n",
    "    return y\n",
    "\n",
    "\n",
    "def Re_arrange(data_set, years):\n",
    "    g = []\n",
    "\n",
    "    for i,y in enumerate(years):\n",
    "        aa = points.sel(time=points.time.dt.year==y)\n",
    "        aa = aa.groupby('time.week').mean(dim='time', skipna=True)\n",
    "\n",
    "        aa = aa.sel(week=slice(1,52))\n",
    "        g.append(aa)\n",
    "        del aa\n",
    "\n",
    "    return(g)\n",
    "\n",
    "\n",
    "\n",
    "def Shift(data_set):\n",
    "    max_w = data_set.groupby('point').argmax(dim='week', keep_attrs=True, skipna=True).values\n",
    "    r = 26 - max_w \n",
    "    \n",
    "    data = data_set.T.values\n",
    "    del data_set\n",
    "    \n",
    "    rows, column_indices = np.ogrid[:data.shape[0], :data.shape[1]]\n",
    "    r[r < 0] += data.shape[1]\n",
    "    column_indices = column_indices - r[:, np.newaxis]\n",
    "    shft = data[rows, column_indices]\n",
    "    shift = xr.DataArray(shft.T, dims=['week', 'point'], name='mlotst')\n",
    "\n",
    "    return(shift)"
   ]
  },
  {
   "cell_type": "code",
   "execution_count": null,
   "metadata": {},
   "outputs": [],
   "source": []
  },
  {
   "cell_type": "code",
   "execution_count": 578,
   "metadata": {},
   "outputs": [],
   "source": [
    "###############################################################################\n",
    "###########         MAIN PROGRAM\n",
    "###############################################################################\n",
    "dir_1 = '../../New_ARMOR/'\n",
    "dir_15 = '/net/data0-gw/data0/project/drakkar/USERS/lgarcia/data_ARMOR/'\n",
    "\n",
    "dir_of = '/home/lgarcia/Documents/Other_datasets/'\n",
    "dir_oi = '/home/lgarcia/Documents/Scripts/Images_01/'\n",
    "\n",
    "fl_n1 = 'NARMOR_*.nc'\n",
    "fl_n15 = 'ARMOR_*.nc'\n",
    "\n",
    "c_armor1 = xr.open_mfdataset(dir_1 + fl_n1, concat_dim='time')\n",
    "c_armor15 = xr.open_mfdataset(dir_15 + fl_n15)"
   ]
  },
  {
   "cell_type": "code",
   "execution_count": 579,
   "metadata": {},
   "outputs": [],
   "source": [
    "d1 = datetime.datetime(2005,1,1)\n",
    "d2 = datetime.datetime(2018,12,20)\n",
    "\n",
    "weeks = pd.date_range(start=d1, end=d2, freq='7D')\n",
    "c_armor1.coords['time'] = (('time'), weeks)"
   ]
  },
  {
   "cell_type": "markdown",
   "metadata": {},
   "source": [
    "## Doing a version for a small area: Gulf Stream\n",
    "\n",
    "Using al the grid points."
   ]
  },
  {
   "cell_type": "code",
   "execution_count": 580,
   "metadata": {},
   "outputs": [],
   "source": [
    "coord = 'gul'\n",
    "region = Crops(coord, c_armor1, reg_ext)\n",
    "region2 = Crops(coord, c_armor15, reg_ext)\n",
    "\n",
    "region2 = Masking(region2, region2.to[0,25])"
   ]
  },
  {
   "cell_type": "code",
   "execution_count": 581,
   "metadata": {},
   "outputs": [
    {
     "name": "stdout",
     "output_type": "stream",
     "text": [
      "15 30\n"
     ]
    }
   ],
   "source": [
    "points = region.mlotst[:,::4,::4].where(region2.mask==1)\n",
    "\n",
    "print(points.latitude.size, points.longitude.size)"
   ]
  },
  {
   "cell_type": "code",
   "execution_count": 582,
   "metadata": {},
   "outputs": [],
   "source": [
    "#del c_armor1, c_armor15, region2, region, weeks, d1, d2"
   ]
  },
  {
   "cell_type": "code",
   "execution_count": 583,
   "metadata": {},
   "outputs": [
    {
     "data": {
      "text/plain": [
       "<matplotlib.collections.QuadMesh at 0x7f726d9200f0>"
      ]
     },
     "execution_count": 583,
     "metadata": {},
     "output_type": "execute_result"
    },
    {
     "data": {
      "image/png": "[encoded data removed]",
      "text/plain": [
       "<Figure size 432x288 with 2 Axes>"
      ]
     },
     "metadata": {
      "needs_background": "light"
     },
     "output_type": "display_data"
    }
   ],
   "source": [
    "points[0].plot()"
   ]
  },
  {
   "cell_type": "code",
   "execution_count": 584,
   "metadata": {},
   "outputs": [],
   "source": [
    "#yr = points.time.dt.year\n",
    "#points.coords['year'] = (('time'), yr)"
   ]
  },
  {
   "cell_type": "code",
   "execution_count": 585,
   "metadata": {},
   "outputs": [],
   "source": [
    "#del la, lo, valsla, valslo"
   ]
  },
  {
   "cell_type": "code",
   "execution_count": null,
   "metadata": {},
   "outputs": [],
   "source": []
  },
  {
   "cell_type": "code",
   "execution_count": null,
   "metadata": {},
   "outputs": [],
   "source": []
  },
  {
   "cell_type": "markdown",
   "metadata": {},
   "source": [
    "## Re-shaping the dataset: using http://nicolasfauchereau.github.io/climatecode/posts/eof-analysis-with-scikit-learn/\n",
    "\n",
    "The analysis ignores the 2018 because is not complete. The shift is done to put the maximum at the meiddle of the year (at week 26)."
   ]
  },
  {
   "cell_type": "code",
   "execution_count": 596,
   "metadata": {},
   "outputs": [],
   "source": [
    "years = [y for y in range(2005, 2018)]\n",
    "\n",
    "nn = Re_arrange(points, years)\n",
    "new_points = xr.concat(nn, dim='year')"
   ]
  },
  {
   "cell_type": "code",
   "execution_count": 597,
   "metadata": {},
   "outputs": [
    {
     "data": {
      "text/plain": [
       "(13, 52, 15, 30)"
      ]
     },
     "execution_count": 597,
     "metadata": {},
     "output_type": "execute_result"
    }
   ],
   "source": [
    "new_points.shape"
   ]
  },
  {
   "cell_type": "code",
   "execution_count": 598,
   "metadata": {},
   "outputs": [
    {
     "data": {
      "text/html": [
       "<div><svg style=\"position: absolute; width: 0; height: 0; overflow: hidden\">\n",
       "<defs>\n",
       "<symbol id=\"icon-database\" viewBox=\"0 0 32 32\">\n",
       "<title>Show/Hide data repr</title>\n",
       "<path d=\"M16 0c-8.837 0-16 2.239-16 5v4c0 2.761 7.163 5 16 5s16-2.239 16-5v-4c0-2.761-7.163-5-16-5z\"></path>\n",
       "<path d=\"M16 17c-8.837 0-16-2.239-16-5v6c0 2.761 7.163 5 16 5s16-2.239 16-5v-6c0 2.761-7.163 5-16 5z\"></path>\n",
       "<path d=\"M16 26c-8.837 0-16-2.239-16-5v6c0 2.761 7.163 5 16 5s16-2.239 16-5v-6c0 2.761-7.163 5-16 5z\"></path>\n",
       "</symbol>\n",
       "<symbol id=\"icon-file-text2\" viewBox=\"0 0 32 32\">\n",
       "<title>Show/Hide attributes</title>\n",
       "<path d=\"M28.681 7.159c-0.694-0.947-1.662-2.053-2.724-3.116s-2.169-2.030-3.116-2.724c-1.612-1.182-2.393-1.319-2.841-1.319h-15.5c-1.378 0-2.5 1.121-2.5 2.5v27c0 1.378 1.122 2.5 2.5 2.5h23c1.378 0 2.5-1.122 2.5-2.5v-19.5c0-0.448-0.137-1.23-1.319-2.841zM24.543 5.457c0.959 0.959 1.712 1.825 2.268 2.543h-4.811v-4.811c0.718 0.556 1.584 1.309 2.543 2.268zM28 29.5c0 0.271-0.229 0.5-0.5 0.5h-23c-0.271 0-0.5-0.229-0.5-0.5v-27c0-0.271 0.229-0.5 0.5-0.5 0 0 15.499-0 15.5 0v7c0 0.552 0.448 1 1 1h7v19.5z\"></path>\n",
       "<path d=\"M23 26h-14c-0.552 0-1-0.448-1-1s0.448-1 1-1h14c0.552 0 1 0.448 1 1s-0.448 1-1 1z\"></path>\n",
       "<path d=\"M23 22h-14c-0.552 0-1-0.448-1-1s0.448-1 1-1h14c0.552 0 1 0.448 1 1s-0.448 1-1 1z\"></path>\n",
       "<path d=\"M23 18h-14c-0.552 0-1-0.448-1-1s0.448-1 1-1h14c0.552 0 1 0.448 1 1s-0.448 1-1 1z\"></path>\n",
       "</symbol>\n",
       "</defs>\n",
       "</svg>\n",
       "<style>/* CSS stylesheet for displaying xarray objects in jupyterlab.\n",
       " *\n",
       " */\n",
       "\n",
       ":root {\n",
       "  --xr-font-color0: var(--jp-content-font-color0, rgba(0, 0, 0, 1));\n",
       "  --xr-font-color2: var(--jp-content-font-color2, rgba(0, 0, 0, 0.54));\n",
       "  --xr-font-color3: var(--jp-content-font-color3, rgba(0, 0, 0, 0.38));\n",
       "  --xr-border-color: var(--jp-border-color2, #e0e0e0);\n",
       "  --xr-disabled-color: var(--jp-layout-color3, #bdbdbd);\n",
       "  --xr-background-color: var(--jp-layout-color0, white);\n",
       "  --xr-background-color-row-even: var(--jp-layout-color1, white);\n",
       "  --xr-background-color-row-odd: var(--jp-layout-color2, #eeeeee);\n",
       "}\n",
       "\n",
       ".xr-wrap {\n",
       "  min-width: 300px;\n",
       "  max-width: 700px;\n",
       "}\n",
       "\n",
       ".xr-header {\n",
       "  padding-top: 6px;\n",
       "  padding-bottom: 6px;\n",
       "  margin-bottom: 4px;\n",
       "  border-bottom: solid 1px var(--xr-border-color);\n",
       "}\n",
       "\n",
       ".xr-header > div,\n",
       ".xr-header > ul {\n",
       "  display: inline;\n",
       "  margin-top: 0;\n",
       "  margin-bottom: 0;\n",
       "}\n",
       "\n",
       ".xr-obj-type,\n",
       ".xr-array-name {\n",
       "  margin-left: 2px;\n",
       "  margin-right: 10px;\n",
       "}\n",
       "\n",
       ".xr-obj-type {\n",
       "  color: var(--xr-font-color2);\n",
       "}\n",
       "\n",
       ".xr-sections {\n",
       "  padding-left: 0 !important;\n",
       "  display: grid;\n",
       "  grid-template-columns: 150px auto auto 1fr 20px 20px;\n",
       "}\n",
       "\n",
       ".xr-section-item {\n",
       "  display: contents;\n",
       "}\n",
       "\n",
       ".xr-section-item input {\n",
       "  display: none;\n",
       "}\n",
       "\n",
       ".xr-section-item input + label {\n",
       "  color: var(--xr-disabled-color);\n",
       "}\n",
       "\n",
       ".xr-section-item input:enabled + label {\n",
       "  cursor: pointer;\n",
       "  color: var(--xr-font-color2);\n",
       "}\n",
       "\n",
       ".xr-section-item input:enabled + label:hover {\n",
       "  color: var(--xr-font-color0);\n",
       "}\n",
       "\n",
       ".xr-section-summary {\n",
       "  grid-column: 1;\n",
       "  color: var(--xr-font-color2);\n",
       "  font-weight: 500;\n",
       "}\n",
       "\n",
       ".xr-section-summary > span {\n",
       "  display: inline-block;\n",
       "  padding-left: 0.5em;\n",
       "}\n",
       "\n",
       ".xr-section-summary-in:disabled + label {\n",
       "  color: var(--xr-font-color2);\n",
       "}\n",
       "\n",
       ".xr-section-summary-in + label:before {\n",
       "  display: inline-block;\n",
       "  content: '►';\n",
       "  font-size: 11px;\n",
       "  width: 15px;\n",
       "  text-align: center;\n",
       "}\n",
       "\n",
       ".xr-section-summary-in:disabled + label:before {\n",
       "  color: var(--xr-disabled-color);\n",
       "}\n",
       "\n",
       ".xr-section-summary-in:checked + label:before {\n",
       "  content: '▼';\n",
       "}\n",
       "\n",
       ".xr-section-summary-in:checked + label > span {\n",
       "  display: none;\n",
       "}\n",
       "\n",
       ".xr-section-summary,\n",
       ".xr-section-inline-details {\n",
       "  padding-top: 4px;\n",
       "  padding-bottom: 4px;\n",
       "}\n",
       "\n",
       ".xr-section-inline-details {\n",
       "  grid-column: 2 / -1;\n",
       "}\n",
       "\n",
       ".xr-section-details {\n",
       "  display: none;\n",
       "  grid-column: 1 / -1;\n",
       "  margin-bottom: 5px;\n",
       "}\n",
       "\n",
       ".xr-section-summary-in:checked ~ .xr-section-details {\n",
       "  display: contents;\n",
       "}\n",
       "\n",
       ".xr-array-wrap {\n",
       "  grid-column: 1 / -1;\n",
       "  display: grid;\n",
       "  grid-template-columns: 20px auto;\n",
       "}\n",
       "\n",
       ".xr-array-wrap > label {\n",
       "  grid-column: 1;\n",
       "  vertical-align: top;\n",
       "}\n",
       "\n",
       ".xr-preview {\n",
       "  color: var(--xr-font-color3);\n",
       "}\n",
       "\n",
       ".xr-array-preview,\n",
       ".xr-array-data {\n",
       "  padding: 0 5px !important;\n",
       "  grid-column: 2;\n",
       "}\n",
       "\n",
       ".xr-array-data,\n",
       ".xr-array-in:checked ~ .xr-array-preview {\n",
       "  display: none;\n",
       "}\n",
       "\n",
       ".xr-array-in:checked ~ .xr-array-data,\n",
       ".xr-array-preview {\n",
       "  display: inline-block;\n",
       "}\n",
       "\n",
       ".xr-dim-list {\n",
       "  display: inline-block !important;\n",
       "  list-style: none;\n",
       "  padding: 0 !important;\n",
       "  margin: 0;\n",
       "}\n",
       "\n",
       ".xr-dim-list li {\n",
       "  display: inline-block;\n",
       "  padding: 0;\n",
       "  margin: 0;\n",
       "}\n",
       "\n",
       ".xr-dim-list:before {\n",
       "  content: '(';\n",
       "}\n",
       "\n",
       ".xr-dim-list:after {\n",
       "  content: ')';\n",
       "}\n",
       "\n",
       ".xr-dim-list li:not(:last-child):after {\n",
       "  content: ',';\n",
       "  padding-right: 5px;\n",
       "}\n",
       "\n",
       ".xr-has-index {\n",
       "  font-weight: bold;\n",
       "}\n",
       "\n",
       ".xr-var-list,\n",
       ".xr-var-item {\n",
       "  display: contents;\n",
       "}\n",
       "\n",
       ".xr-var-item > div,\n",
       ".xr-var-item label,\n",
       ".xr-var-item > .xr-var-name span {\n",
       "  background-color: var(--xr-background-color-row-even);\n",
       "  margin-bottom: 0;\n",
       "}\n",
       "\n",
       ".xr-var-item > .xr-var-name:hover span {\n",
       "  padding-right: 5px;\n",
       "}\n",
       "\n",
       ".xr-var-list > li:nth-child(odd) > div,\n",
       ".xr-var-list > li:nth-child(odd) > label,\n",
       ".xr-var-list > li:nth-child(odd) > .xr-var-name span {\n",
       "  background-color: var(--xr-background-color-row-odd);\n",
       "}\n",
       "\n",
       ".xr-var-name {\n",
       "  grid-column: 1;\n",
       "}\n",
       "\n",
       ".xr-var-dims {\n",
       "  grid-column: 2;\n",
       "}\n",
       "\n",
       ".xr-var-dtype {\n",
       "  grid-column: 3;\n",
       "  text-align: right;\n",
       "  color: var(--xr-font-color2);\n",
       "}\n",
       "\n",
       ".xr-var-preview {\n",
       "  grid-column: 4;\n",
       "}\n",
       "\n",
       ".xr-var-name,\n",
       ".xr-var-dims,\n",
       ".xr-var-dtype,\n",
       ".xr-preview,\n",
       ".xr-attrs dt {\n",
       "  white-space: nowrap;\n",
       "  overflow: hidden;\n",
       "  text-overflow: ellipsis;\n",
       "  padding-right: 10px;\n",
       "}\n",
       "\n",
       ".xr-var-name:hover,\n",
       ".xr-var-dims:hover,\n",
       ".xr-var-dtype:hover,\n",
       ".xr-attrs dt:hover {\n",
       "  overflow: visible;\n",
       "  width: auto;\n",
       "  z-index: 1;\n",
       "}\n",
       "\n",
       ".xr-var-attrs,\n",
       ".xr-var-data {\n",
       "  display: none;\n",
       "  background-color: var(--xr-background-color) !important;\n",
       "  padding-bottom: 5px !important;\n",
       "}\n",
       "\n",
       ".xr-var-attrs-in:checked ~ .xr-var-attrs,\n",
       ".xr-var-data-in:checked ~ .xr-var-data {\n",
       "  display: block;\n",
       "}\n",
       "\n",
       ".xr-var-data > table {\n",
       "  float: right;\n",
       "}\n",
       "\n",
       ".xr-var-name span,\n",
       ".xr-var-data,\n",
       ".xr-attrs {\n",
       "  padding-left: 25px !important;\n",
       "}\n",
       "\n",
       ".xr-attrs,\n",
       ".xr-var-attrs,\n",
       ".xr-var-data {\n",
       "  grid-column: 1 / -1;\n",
       "}\n",
       "\n",
       "dl.xr-attrs {\n",
       "  padding: 0;\n",
       "  margin: 0;\n",
       "  display: grid;\n",
       "  grid-template-columns: 125px auto;\n",
       "}\n",
       "\n",
       ".xr-attrs dt, dd {\n",
       "  padding: 0;\n",
       "  margin: 0;\n",
       "  float: left;\n",
       "  padding-right: 10px;\n",
       "  width: auto;\n",
       "}\n",
       "\n",
       ".xr-attrs dt {\n",
       "  font-weight: normal;\n",
       "  grid-column: 1;\n",
       "}\n",
       "\n",
       ".xr-attrs dt:hover span {\n",
       "  display: inline-block;\n",
       "  background: var(--xr-background-color);\n",
       "  padding-right: 10px;\n",
       "}\n",
       "\n",
       ".xr-attrs dd {\n",
       "  grid-column: 2;\n",
       "  white-space: pre-wrap;\n",
       "  word-break: break-all;\n",
       "}\n",
       "\n",
       ".xr-icon-database,\n",
       ".xr-icon-file-text2 {\n",
       "  display: inline-block;\n",
       "  vertical-align: middle;\n",
       "  width: 1em;\n",
       "  height: 1.5em !important;\n",
       "  stroke-width: 0;\n",
       "  stroke: currentColor;\n",
       "  fill: currentColor;\n",
       "}\n",
       "</style><div class='xr-wrap'><div class='xr-header'><div class='xr-obj-type'>xarray.DataArray</div><div class='xr-array-name'>'mlotst'</div><ul class='xr-dim-list'><li><span>year</span>: 13</li><li><span class='xr-has-index'>week</span>: 52</li><li><span class='xr-has-index'>latitude</span>: 15</li><li><span class='xr-has-index'>longitude</span>: 30</li></ul></div><ul class='xr-sections'><li class='xr-section-item'><div class='xr-array-wrap'><input id='section-70e30f4c-3435-4982-9f7b-4025530badd7' class='xr-array-in' type='checkbox' ><label for='section-70e30f4c-3435-4982-9f7b-4025530badd7' title='Show/hide data repr'><svg class='icon xr-icon-database'><use xlink:href='#icon-database'></use></svg></label><div class='xr-array-preview xr-preview'><span>dask.array&lt;chunksize=(1, 1, 15, 30), meta=np.ndarray&gt;</span></div><pre class='xr-array-data'><table>\n",
       "<tr>\n",
       "<td>\n",
       "<table>\n",
       "  <thead>\n",
       "    <tr><td> </td><th> Array </th><th> Chunk </th></tr>\n",
       "  </thead>\n",
       "  <tbody>\n",
       "    <tr><th> Bytes </th><td> 2.43 MB </td> <td> 3.60 kB </td></tr>\n",
       "    <tr><th> Shape </th><td> (13, 52, 15, 30) </td> <td> (1, 1, 15, 30) </td></tr>\n",
       "    <tr><th> Count </th><td> 4742 Tasks </td><td> 676 Chunks </td></tr>\n",
       "    <tr><th> Type </th><td> float64 </td><td> numpy.ndarray </td></tr>\n",
       "  </tbody>\n",
       "</table>\n",
       "</td>\n",
       "<td>\n",
       "<svg width=\"413\" height=\"164\" style=\"stroke:rgb(0,0,0);stroke-width:1\" >\n",
       "\n",
       "  <!-- Horizontal lines -->\n",
       "  <line x1=\"0\" y1=\"0\" x2=\"42\" y2=\"0\" style=\"stroke-width:2\" />\n",
       "  <line x1=\"0\" y1=\"28\" x2=\"42\" y2=\"28\" style=\"stroke-width:2\" />\n",
       "\n",
       "  <!-- Vertical lines -->\n",
       "  <line x1=\"0\" y1=\"0\" x2=\"0\" y2=\"28\" style=\"stroke-width:2\" />\n",
       "  <line x1=\"3\" y1=\"0\" x2=\"3\" y2=\"28\" />\n",
       "  <line x1=\"6\" y1=\"0\" x2=\"6\" y2=\"28\" />\n",
       "  <line x1=\"9\" y1=\"0\" x2=\"9\" y2=\"28\" />\n",
       "  <line x1=\"13\" y1=\"0\" x2=\"13\" y2=\"28\" />\n",
       "  <line x1=\"16\" y1=\"0\" x2=\"16\" y2=\"28\" />\n",
       "  <line x1=\"19\" y1=\"0\" x2=\"19\" y2=\"28\" />\n",
       "  <line x1=\"23\" y1=\"0\" x2=\"23\" y2=\"28\" />\n",
       "  <line x1=\"26\" y1=\"0\" x2=\"26\" y2=\"28\" />\n",
       "  <line x1=\"29\" y1=\"0\" x2=\"29\" y2=\"28\" />\n",
       "  <line x1=\"32\" y1=\"0\" x2=\"32\" y2=\"28\" />\n",
       "  <line x1=\"36\" y1=\"0\" x2=\"36\" y2=\"28\" />\n",
       "  <line x1=\"39\" y1=\"0\" x2=\"39\" y2=\"28\" />\n",
       "  <line x1=\"42\" y1=\"0\" x2=\"42\" y2=\"28\" style=\"stroke-width:2\" />\n",
       "\n",
       "  <!-- Colored Rectangle -->\n",
       "  <polygon points=\"0.000000,0.000000 42.898796,0.000000 42.898796,28.810739 0.000000,28.810739\" style=\"fill:#ECB172A0;stroke-width:0\"/>\n",
       "\n",
       "  <!-- Text -->\n",
       "  <text x=\"21.449398\" y=\"48.810739\" font-size=\"1.0rem\" font-weight=\"100\" text-anchor=\"middle\" >13</text>\n",
       "  <text x=\"62.898796\" y=\"14.405369\" font-size=\"1.0rem\" font-weight=\"100\" text-anchor=\"middle\" transform=\"rotate(0,62.898796,14.405369)\">1</text>\n",
       "\n",
       "\n",
       "  <!-- Horizontal lines -->\n",
       "  <line x1=\"112\" y1=\"0\" x2=\"182\" y2=\"70\" style=\"stroke-width:2\" />\n",
       "  <line x1=\"112\" y1=\"43\" x2=\"182\" y2=\"114\" style=\"stroke-width:2\" />\n",
       "\n",
       "  <!-- Vertical lines -->\n",
       "  <line x1=\"112\" y1=\"0\" x2=\"112\" y2=\"43\" style=\"stroke-width:2\" />\n",
       "  <line x1=\"113\" y1=\"1\" x2=\"113\" y2=\"44\" />\n",
       "  <line x1=\"114\" y1=\"2\" x2=\"114\" y2=\"46\" />\n",
       "  <line x1=\"116\" y1=\"4\" x2=\"116\" y2=\"47\" />\n",
       "  <line x1=\"117\" y1=\"5\" x2=\"117\" y2=\"48\" />\n",
       "  <line x1=\"118\" y1=\"6\" x2=\"118\" y2=\"50\" />\n",
       "  <line x1=\"120\" y1=\"8\" x2=\"120\" y2=\"51\" />\n",
       "  <line x1=\"121\" y1=\"9\" x2=\"121\" y2=\"52\" />\n",
       "  <line x1=\"122\" y1=\"10\" x2=\"122\" y2=\"54\" />\n",
       "  <line x1=\"124\" y1=\"12\" x2=\"124\" y2=\"55\" />\n",
       "  <line x1=\"125\" y1=\"13\" x2=\"125\" y2=\"56\" />\n",
       "  <line x1=\"126\" y1=\"14\" x2=\"126\" y2=\"58\" />\n",
       "  <line x1=\"128\" y1=\"16\" x2=\"128\" y2=\"59\" />\n",
       "  <line x1=\"129\" y1=\"17\" x2=\"129\" y2=\"61\" />\n",
       "  <line x1=\"131\" y1=\"19\" x2=\"131\" y2=\"62\" />\n",
       "  <line x1=\"132\" y1=\"20\" x2=\"132\" y2=\"63\" />\n",
       "  <line x1=\"133\" y1=\"21\" x2=\"133\" y2=\"65\" />\n",
       "  <line x1=\"135\" y1=\"23\" x2=\"135\" y2=\"66\" />\n",
       "  <line x1=\"136\" y1=\"24\" x2=\"136\" y2=\"67\" />\n",
       "  <line x1=\"137\" y1=\"25\" x2=\"137\" y2=\"69\" />\n",
       "  <line x1=\"139\" y1=\"27\" x2=\"139\" y2=\"70\" />\n",
       "  <line x1=\"140\" y1=\"28\" x2=\"140\" y2=\"71\" />\n",
       "  <line x1=\"141\" y1=\"29\" x2=\"141\" y2=\"73\" />\n",
       "  <line x1=\"143\" y1=\"31\" x2=\"143\" y2=\"74\" />\n",
       "  <line x1=\"144\" y1=\"32\" x2=\"144\" y2=\"75\" />\n",
       "  <line x1=\"145\" y1=\"33\" x2=\"145\" y2=\"77\" />\n",
       "  <line x1=\"147\" y1=\"35\" x2=\"147\" y2=\"78\" />\n",
       "  <line x1=\"148\" y1=\"36\" x2=\"148\" y2=\"80\" />\n",
       "  <line x1=\"150\" y1=\"38\" x2=\"150\" y2=\"81\" />\n",
       "  <line x1=\"151\" y1=\"39\" x2=\"151\" y2=\"82\" />\n",
       "  <line x1=\"152\" y1=\"40\" x2=\"152\" y2=\"84\" />\n",
       "  <line x1=\"154\" y1=\"42\" x2=\"154\" y2=\"85\" />\n",
       "  <line x1=\"155\" y1=\"43\" x2=\"155\" y2=\"86\" />\n",
       "  <line x1=\"156\" y1=\"44\" x2=\"156\" y2=\"88\" />\n",
       "  <line x1=\"158\" y1=\"46\" x2=\"158\" y2=\"89\" />\n",
       "  <line x1=\"159\" y1=\"47\" x2=\"159\" y2=\"90\" />\n",
       "  <line x1=\"160\" y1=\"48\" x2=\"160\" y2=\"92\" />\n",
       "  <line x1=\"162\" y1=\"50\" x2=\"162\" y2=\"93\" />\n",
       "  <line x1=\"163\" y1=\"51\" x2=\"163\" y2=\"94\" />\n",
       "  <line x1=\"164\" y1=\"52\" x2=\"164\" y2=\"96\" />\n",
       "  <line x1=\"166\" y1=\"54\" x2=\"166\" y2=\"97\" />\n",
       "  <line x1=\"167\" y1=\"55\" x2=\"167\" y2=\"99\" />\n",
       "  <line x1=\"169\" y1=\"57\" x2=\"169\" y2=\"100\" />\n",
       "  <line x1=\"170\" y1=\"58\" x2=\"170\" y2=\"101\" />\n",
       "  <line x1=\"171\" y1=\"59\" x2=\"171\" y2=\"103\" />\n",
       "  <line x1=\"173\" y1=\"61\" x2=\"173\" y2=\"104\" />\n",
       "  <line x1=\"174\" y1=\"62\" x2=\"174\" y2=\"105\" />\n",
       "  <line x1=\"175\" y1=\"63\" x2=\"175\" y2=\"107\" />\n",
       "  <line x1=\"177\" y1=\"65\" x2=\"177\" y2=\"108\" />\n",
       "  <line x1=\"178\" y1=\"66\" x2=\"178\" y2=\"109\" />\n",
       "  <line x1=\"179\" y1=\"67\" x2=\"179\" y2=\"111\" />\n",
       "  <line x1=\"181\" y1=\"69\" x2=\"181\" y2=\"112\" />\n",
       "  <line x1=\"182\" y1=\"70\" x2=\"182\" y2=\"114\" style=\"stroke-width:2\" />\n",
       "\n",
       "  <!-- Colored Rectangle -->\n",
       "  <polygon points=\"112.000000,0.000000 182.588235,70.588235 182.588235,114.000113 112.000000,43.411877\" style=\"fill:#ECB172A0;stroke-width:0\"/>\n",
       "\n",
       "  <!-- Horizontal lines -->\n",
       "  <line x1=\"112\" y1=\"0\" x2=\"181\" y2=\"0\" style=\"stroke-width:2\" />\n",
       "  <line x1=\"113\" y1=\"1\" x2=\"182\" y2=\"1\" />\n",
       "  <line x1=\"114\" y1=\"2\" x2=\"183\" y2=\"2\" />\n",
       "  <line x1=\"116\" y1=\"4\" x2=\"185\" y2=\"4\" />\n",
       "  <line x1=\"117\" y1=\"5\" x2=\"186\" y2=\"5\" />\n",
       "  <line x1=\"118\" y1=\"6\" x2=\"188\" y2=\"6\" />\n",
       "  <line x1=\"120\" y1=\"8\" x2=\"189\" y2=\"8\" />\n",
       "  <line x1=\"121\" y1=\"9\" x2=\"190\" y2=\"9\" />\n",
       "  <line x1=\"122\" y1=\"10\" x2=\"192\" y2=\"10\" />\n",
       "  <line x1=\"124\" y1=\"12\" x2=\"193\" y2=\"12\" />\n",
       "  <line x1=\"125\" y1=\"13\" x2=\"194\" y2=\"13\" />\n",
       "  <line x1=\"126\" y1=\"14\" x2=\"196\" y2=\"14\" />\n",
       "  <line x1=\"128\" y1=\"16\" x2=\"197\" y2=\"16\" />\n",
       "  <line x1=\"129\" y1=\"17\" x2=\"198\" y2=\"17\" />\n",
       "  <line x1=\"131\" y1=\"19\" x2=\"200\" y2=\"19\" />\n",
       "  <line x1=\"132\" y1=\"20\" x2=\"201\" y2=\"20\" />\n",
       "  <line x1=\"133\" y1=\"21\" x2=\"202\" y2=\"21\" />\n",
       "  <line x1=\"135\" y1=\"23\" x2=\"204\" y2=\"23\" />\n",
       "  <line x1=\"136\" y1=\"24\" x2=\"205\" y2=\"24\" />\n",
       "  <line x1=\"137\" y1=\"25\" x2=\"207\" y2=\"25\" />\n",
       "  <line x1=\"139\" y1=\"27\" x2=\"208\" y2=\"27\" />\n",
       "  <line x1=\"140\" y1=\"28\" x2=\"209\" y2=\"28\" />\n",
       "  <line x1=\"141\" y1=\"29\" x2=\"211\" y2=\"29\" />\n",
       "  <line x1=\"143\" y1=\"31\" x2=\"212\" y2=\"31\" />\n",
       "  <line x1=\"144\" y1=\"32\" x2=\"213\" y2=\"32\" />\n",
       "  <line x1=\"145\" y1=\"33\" x2=\"215\" y2=\"33\" />\n",
       "  <line x1=\"147\" y1=\"35\" x2=\"216\" y2=\"35\" />\n",
       "  <line x1=\"148\" y1=\"36\" x2=\"217\" y2=\"36\" />\n",
       "  <line x1=\"150\" y1=\"38\" x2=\"219\" y2=\"38\" />\n",
       "  <line x1=\"151\" y1=\"39\" x2=\"220\" y2=\"39\" />\n",
       "  <line x1=\"152\" y1=\"40\" x2=\"221\" y2=\"40\" />\n",
       "  <line x1=\"154\" y1=\"42\" x2=\"223\" y2=\"42\" />\n",
       "  <line x1=\"155\" y1=\"43\" x2=\"224\" y2=\"43\" />\n",
       "  <line x1=\"156\" y1=\"44\" x2=\"226\" y2=\"44\" />\n",
       "  <line x1=\"158\" y1=\"46\" x2=\"227\" y2=\"46\" />\n",
       "  <line x1=\"159\" y1=\"47\" x2=\"228\" y2=\"47\" />\n",
       "  <line x1=\"160\" y1=\"48\" x2=\"230\" y2=\"48\" />\n",
       "  <line x1=\"162\" y1=\"50\" x2=\"231\" y2=\"50\" />\n",
       "  <line x1=\"163\" y1=\"51\" x2=\"232\" y2=\"51\" />\n",
       "  <line x1=\"164\" y1=\"52\" x2=\"234\" y2=\"52\" />\n",
       "  <line x1=\"166\" y1=\"54\" x2=\"235\" y2=\"54\" />\n",
       "  <line x1=\"167\" y1=\"55\" x2=\"236\" y2=\"55\" />\n",
       "  <line x1=\"169\" y1=\"57\" x2=\"238\" y2=\"57\" />\n",
       "  <line x1=\"170\" y1=\"58\" x2=\"239\" y2=\"58\" />\n",
       "  <line x1=\"171\" y1=\"59\" x2=\"240\" y2=\"59\" />\n",
       "  <line x1=\"173\" y1=\"61\" x2=\"242\" y2=\"61\" />\n",
       "  <line x1=\"174\" y1=\"62\" x2=\"243\" y2=\"62\" />\n",
       "  <line x1=\"175\" y1=\"63\" x2=\"245\" y2=\"63\" />\n",
       "  <line x1=\"177\" y1=\"65\" x2=\"246\" y2=\"65\" />\n",
       "  <line x1=\"178\" y1=\"66\" x2=\"247\" y2=\"66\" />\n",
       "  <line x1=\"179\" y1=\"67\" x2=\"249\" y2=\"67\" />\n",
       "  <line x1=\"181\" y1=\"69\" x2=\"250\" y2=\"69\" />\n",
       "  <line x1=\"182\" y1=\"70\" x2=\"251\" y2=\"70\" style=\"stroke-width:2\" />\n",
       "\n",
       "  <!-- Vertical lines -->\n",
       "  <line x1=\"112\" y1=\"0\" x2=\"182\" y2=\"70\" style=\"stroke-width:2\" />\n",
       "  <line x1=\"181\" y1=\"0\" x2=\"251\" y2=\"70\" style=\"stroke-width:2\" />\n",
       "\n",
       "  <!-- Colored Rectangle -->\n",
       "  <polygon points=\"112.000000,0.000000 181.230769,0.000000 251.819005,70.588235 182.588235,70.588235\" style=\"fill:#ECB172A0;stroke-width:0\"/>\n",
       "\n",
       "  <!-- Horizontal lines -->\n",
       "  <line x1=\"182\" y1=\"70\" x2=\"251\" y2=\"70\" style=\"stroke-width:2\" />\n",
       "  <line x1=\"182\" y1=\"114\" x2=\"251\" y2=\"114\" style=\"stroke-width:2\" />\n",
       "\n",
       "  <!-- Vertical lines -->\n",
       "  <line x1=\"182\" y1=\"70\" x2=\"182\" y2=\"114\" style=\"stroke-width:2\" />\n",
       "  <line x1=\"251\" y1=\"70\" x2=\"251\" y2=\"114\" style=\"stroke-width:2\" />\n",
       "\n",
       "  <!-- Colored Rectangle -->\n",
       "  <polygon points=\"182.588235,70.588235 251.819005,70.588235 251.819005,114.000113 182.588235,114.000113\" style=\"fill:#ECB172A0;stroke-width:0\"/>\n",
       "\n",
       "  <!-- Text -->\n",
       "  <text x=\"217.203620\" y=\"134.000113\" font-size=\"1.0rem\" font-weight=\"100\" text-anchor=\"middle\" >30</text>\n",
       "  <text x=\"271.819005\" y=\"92.294174\" font-size=\"1.0rem\" font-weight=\"100\" text-anchor=\"middle\" transform=\"rotate(0,271.819005,92.294174)\">15</text>\n",
       "  <text x=\"137.294118\" y=\"98.705995\" font-size=\"1.0rem\" font-weight=\"100\" text-anchor=\"middle\" transform=\"rotate(45,137.294118,98.705995)\">52</text>\n",
       "</svg>\n",
       "</td>\n",
       "</tr>\n",
       "</table></pre></div></li><li class='xr-section-item'><input id='section-317a5f7c-37b3-4b40-a6f5-0ccad4583673' class='xr-section-summary-in' type='checkbox'  checked><label for='section-317a5f7c-37b3-4b40-a6f5-0ccad4583673' class='xr-section-summary' >Coordinates: <span>(4)</span></label><div class='xr-section-inline-details'></div><div class='xr-section-details'><ul class='xr-var-list'><li class='xr-var-item'><div class='xr-var-name'><span>mask</span></div><div class='xr-var-dims'>(latitude, longitude)</div><div class='xr-var-dtype'>float64</div><div class='xr-var-preview xr-preview'>1.0 1.0 1.0 1.0 ... 1.0 1.0 1.0 1.0</div><input id='attrs-c1e6ebf9-b5e4-44a7-abcc-56b7a1e64148' class='xr-var-attrs-in' type='checkbox' disabled><label for='attrs-c1e6ebf9-b5e4-44a7-abcc-56b7a1e64148' title='Show/Hide attributes'><svg class='icon xr-icon-file-text2'><use xlink:href='#icon-file-text2'></use></svg></label><input id='data-4dbad327-4d3d-4499-ae7f-ea0b08e7f6f7' class='xr-var-data-in' type='checkbox'><label for='data-4dbad327-4d3d-4499-ae7f-ea0b08e7f6f7' title='Show/Hide data repr'><svg class='icon xr-icon-database'><use xlink:href='#icon-database'></use></svg></label><div class='xr-var-attrs'><dl class='xr-attrs'></dl></div><pre class='xr-var-data'>array([[1., 1., 1., 1., 1., 1., 1., 1., 1., 1., 1., 1., 1., 1., 1., 1.,\n",
       "        1., 1., 1., 1., 1., 1., 1., 1., 1., 1., 1., 1., 1., 1.],\n",
       "       [1., 1., 1., 1., 1., 1., 1., 1., 1., 1., 1., 1., 1., 1., 1., 1.,\n",
       "        1., 1., 1., 1., 1., 1., 1., 1., 1., 1., 1., 1., 1., 1.],\n",
       "       [1., 1., 1., 1., 1., 1., 1., 1., 1., 1., 1., 1., 1., 1., 1., 1.,\n",
       "        1., 1., 1., 1., 1., 1., 1., 1., 1., 1., 1., 1., 1., 1.],\n",
       "       [1., 1., 1., 1., 1., 1., 1., 1., 1., 1., 1., 1., 1., 1., 1., 1.,\n",
       "        1., 1., 1., 1., 1., 1., 1., 1., 1., 1., 1., 1., 1., 1.],\n",
       "       [1., 1., 1., 1., 1., 1., 1., 1., 1., 1., 1., 1., 1., 1., 1., 1.,\n",
       "        1., 1., 1., 1., 1., 1., 1., 1., 1., 1., 1., 1., 1., 1.],\n",
       "       [1., 1., 1., 1., 1., 1., 1., 1., 1., 1., 1., 1., 1., 1., 1., 1.,\n",
       "        1., 1., 1., 1., 1., 1., 1., 1., 1., 1., 1., 1., 1., 1.],\n",
       "       [0., 1., 1., 1., 1., 1., 1., 1., 1., 1., 1., 1., 1., 1., 1., 1.,\n",
       "        1., 1., 1., 1., 1., 1., 1., 1., 1., 1., 1., 1., 1., 1.],\n",
       "       [0., 1., 1., 1., 1., 1., 1., 1., 1., 1., 1., 1., 1., 1., 1., 1.,\n",
       "        1., 1., 1., 1., 1., 1., 1., 1., 1., 1., 1., 1., 1., 1.],\n",
       "       [0., 0., 1., 1., 1., 1., 1., 1., 1., 1., 1., 1., 1., 1., 1., 1.,\n",
       "        1., 1., 1., 1., 1., 1., 1., 1., 1., 1., 1., 1., 1., 1.],\n",
       "       [0., 0., 0., 1., 1., 1., 1., 1., 1., 1., 1., 1., 1., 1., 1., 1.,\n",
       "        1., 1., 1., 1., 1., 1., 1., 1., 1., 1., 1., 1., 1., 1.],\n",
       "       [0., 0., 0., 0., 0., 0., 1., 1., 1., 1., 1., 1., 1., 1., 1., 1.,\n",
       "        1., 1., 1., 1., 1., 1., 1., 1., 1., 1., 1., 1., 1., 1.],\n",
       "       [0., 0., 0., 0., 0., 0., 0., 0., 0., 1., 1., 1., 1., 1., 1., 1.,\n",
       "        1., 1., 1., 1., 1., 1., 1., 1., 1., 1., 1., 1., 1., 1.],\n",
       "       [0., 0., 0., 0., 0., 0., 0., 0., 0., 0., 1., 1., 1., 1., 1., 1.,\n",
       "        1., 1., 1., 1., 1., 1., 1., 1., 1., 1., 1., 1., 1., 1.],\n",
       "       [0., 0., 0., 0., 0., 0., 0., 0., 0., 0., 0., 0., 0., 0., 1., 1.,\n",
       "        1., 1., 1., 1., 1., 1., 1., 1., 0., 0., 1., 1., 1., 1.],\n",
       "       [0., 0., 0., 0., 0., 0., 0., 0., 0., 0., 0., 0., 0., 0., 0., 0.,\n",
       "        0., 1., 1., 1., 1., 1., 0., 0., 0., 0., 1., 1., 1., 1.]])</pre></li><li class='xr-var-item'><div class='xr-var-name'><span class='xr-has-index'>longitude</span></div><div class='xr-var-dims'>(longitude)</div><div class='xr-var-dtype'>float64</div><div class='xr-var-preview xr-preview'>-74.88 -73.88 ... -46.88 -45.88</div><input id='attrs-170740ff-acb6-4d38-8177-05744d2528a6' class='xr-var-attrs-in' type='checkbox' ><label for='attrs-170740ff-acb6-4d38-8177-05744d2528a6' title='Show/Hide attributes'><svg class='icon xr-icon-file-text2'><use xlink:href='#icon-file-text2'></use></svg></label><input id='data-5c2fe2db-c861-4a20-b65f-a508bed759bb' class='xr-var-data-in' type='checkbox'><label for='data-5c2fe2db-c861-4a20-b65f-a508bed759bb' title='Show/Hide data repr'><svg class='icon xr-icon-database'><use xlink:href='#icon-database'></use></svg></label><div class='xr-var-attrs'><dl class='xr-attrs'><dt><span>axis :</span></dt><dd>X</dd><dt><span>long_name :</span></dt><dd>longitude</dd><dt><span>standard_name :</span></dt><dd>longitude</dd><dt><span>step :</span></dt><dd>0.25</dd><dt><span>unit_long :</span></dt><dd>degrees east</dd><dt><span>units :</span></dt><dd>degrees_east</dd></dl></div><pre class='xr-var-data'>array([-74.875, -73.875, -72.875, -71.875, -70.875, -69.875, -68.875, -67.875,\n",
       "       -66.875, -65.875, -64.875, -63.875, -62.875, -61.875, -60.875, -59.875,\n",
       "       -58.875, -57.875, -56.875, -55.875, -54.875, -53.875, -52.875, -51.875,\n",
       "       -50.875, -49.875, -48.875, -47.875, -46.875, -45.875])</pre></li><li class='xr-var-item'><div class='xr-var-name'><span class='xr-has-index'>latitude</span></div><div class='xr-var-dims'>(latitude)</div><div class='xr-var-dtype'>float64</div><div class='xr-var-preview xr-preview'>30.12 31.12 32.12 ... 43.12 44.12</div><input id='attrs-3a47482e-5553-4fca-9459-3d8725799dec' class='xr-var-attrs-in' type='checkbox' ><label for='attrs-3a47482e-5553-4fca-9459-3d8725799dec' title='Show/Hide attributes'><svg class='icon xr-icon-file-text2'><use xlink:href='#icon-file-text2'></use></svg></label><input id='data-bfb99b6d-a02f-4999-a3c8-fbb61750c304' class='xr-var-data-in' type='checkbox'><label for='data-bfb99b6d-a02f-4999-a3c8-fbb61750c304' title='Show/Hide data repr'><svg class='icon xr-icon-database'><use xlink:href='#icon-database'></use></svg></label><div class='xr-var-attrs'><dl class='xr-attrs'><dt><span>axis :</span></dt><dd>Y</dd><dt><span>long_name :</span></dt><dd>latitude</dd><dt><span>standard_name :</span></dt><dd>latitude</dd><dt><span>step :</span></dt><dd>0.25</dd><dt><span>unit_long :</span></dt><dd>degrees north</dd><dt><span>units :</span></dt><dd>degrees_north</dd></dl></div><pre class='xr-var-data'>array([30.125, 31.125, 32.125, 33.125, 34.125, 35.125, 36.125, 37.125, 38.125,\n",
       "       39.125, 40.125, 41.125, 42.125, 43.125, 44.125])</pre></li><li class='xr-var-item'><div class='xr-var-name'><span class='xr-has-index'>week</span></div><div class='xr-var-dims'>(week)</div><div class='xr-var-dtype'>int64</div><div class='xr-var-preview xr-preview'>1 2 3 4 5 6 7 ... 47 48 49 50 51 52</div><input id='attrs-4f6206fc-e2bc-4ac5-a944-037cc9b5e37a' class='xr-var-attrs-in' type='checkbox' disabled><label for='attrs-4f6206fc-e2bc-4ac5-a944-037cc9b5e37a' title='Show/Hide attributes'><svg class='icon xr-icon-file-text2'><use xlink:href='#icon-file-text2'></use></svg></label><input id='data-e35c6797-313d-4ada-90db-55d0992c9a5e' class='xr-var-data-in' type='checkbox'><label for='data-e35c6797-313d-4ada-90db-55d0992c9a5e' title='Show/Hide data repr'><svg class='icon xr-icon-database'><use xlink:href='#icon-database'></use></svg></label><div class='xr-var-attrs'><dl class='xr-attrs'></dl></div><pre class='xr-var-data'>array([ 1,  2,  3,  4,  5,  6,  7,  8,  9, 10, 11, 12, 13, 14, 15, 16, 17, 18,\n",
       "       19, 20, 21, 22, 23, 24, 25, 26, 27, 28, 29, 30, 31, 32, 33, 34, 35, 36,\n",
       "       37, 38, 39, 40, 41, 42, 43, 44, 45, 46, 47, 48, 49, 50, 51, 52])</pre></li></ul></div></li><li class='xr-section-item'><input id='section-caed8cfa-c6e4-4eb7-afd6-2ad759cae8e4' class='xr-section-summary-in' type='checkbox' disabled ><label for='section-caed8cfa-c6e4-4eb7-afd6-2ad759cae8e4' class='xr-section-summary'  title='Expand/collapse section'>Attributes: <span>(0)</span></label><div class='xr-section-inline-details'></div><div class='xr-section-details'><dl class='xr-attrs'></dl></div></li></ul></div></div>"
      ],
      "text/plain": [
       "<xarray.DataArray 'mlotst' (year: 13, week: 52, latitude: 15, longitude: 30)>\n",
       "dask.array<concatenate, shape=(13, 52, 15, 30), dtype=float64, chunksize=(1, 1, 15, 30), chunktype=numpy.ndarray>\n",
       "Coordinates:\n",
       "    mask       (latitude, longitude) float64 1.0 1.0 1.0 1.0 ... 1.0 1.0 1.0 1.0\n",
       "  * longitude  (longitude) float64 -74.88 -73.88 -72.88 ... -47.88 -46.88 -45.88\n",
       "  * latitude   (latitude) float64 30.12 31.12 32.12 33.12 ... 42.12 43.12 44.12\n",
       "  * week       (week) int64 1 2 3 4 5 6 7 8 9 10 ... 44 45 46 47 48 49 50 51 52\n",
       "Dimensions without coordinates: year"
      ]
     },
     "execution_count": 598,
     "metadata": {},
     "output_type": "execute_result"
    }
   ],
   "source": [
    "new_points"
   ]
  },
  {
   "cell_type": "code",
   "execution_count": 652,
   "metadata": {},
   "outputs": [
    {
     "data": {
      "text/plain": [
       "array(17.)"
      ]
     },
     "execution_count": 652,
     "metadata": {},
     "output_type": "execute_result"
    }
   ],
   "source": [
    "new_points[0,,0,0].values"
   ]
  },
  {
   "cell_type": "code",
   "execution_count": null,
   "metadata": {},
   "outputs": [],
   "source": []
  },
  {
   "cell_type": "markdown",
   "metadata": {},
   "source": [
    "### re-shape to 2D"
   ]
  },
  {
   "cell_type": "code",
   "execution_count": null,
   "metadata": {},
   "outputs": [],
   "source": []
  },
  {
   "cell_type": "code",
   "execution_count": 742,
   "metadata": {},
   "outputs": [],
   "source": [
    "lat = new_points['latitude'].values\n",
    "lon = new_points['longitude'].values\n",
    "mld = new_points.values"
   ]
  },
  {
   "cell_type": "code",
   "execution_count": 743,
   "metadata": {},
   "outputs": [],
   "source": [
    "lons, lats = np.meshgrid(lon, lat)"
   ]
  },
  {
   "cell_type": "code",
   "execution_count": 744,
   "metadata": {},
   "outputs": [
    {
     "data": {
      "text/plain": [
       "(13, 52, 15, 30)"
      ]
     },
     "execution_count": 744,
     "metadata": {},
     "output_type": "execute_result"
    }
   ],
   "source": [
    "mld.shape"
   ]
  },
  {
   "cell_type": "code",
   "execution_count": 745,
   "metadata": {},
   "outputs": [
    {
     "data": {
      "text/plain": [
       "(52, 15, 30)"
      ]
     },
     "execution_count": 745,
     "metadata": {},
     "output_type": "execute_result"
    }
   ],
   "source": [
    "mld[0].shape"
   ]
  },
  {
   "cell_type": "code",
   "execution_count": 746,
   "metadata": {},
   "outputs": [],
   "source": [
    "mld = np.moveaxis(mld, 0, 1)"
   ]
  },
  {
   "cell_type": "code",
   "execution_count": 748,
   "metadata": {},
   "outputs": [
    {
     "data": {
      "text/plain": [
       "(52, 13, 15, 30)"
      ]
     },
     "execution_count": 748,
     "metadata": {},
     "output_type": "execute_result"
    }
   ],
   "source": [
    "mld.shape"
   ]
  },
  {
   "cell_type": "code",
   "execution_count": 750,
   "metadata": {},
   "outputs": [],
   "source": [
    "X = np.reshape(mld, (mld.shape[0], mld.shape[1]*len(lat) * len(lon)), order='F')"
   ]
  },
  {
   "cell_type": "code",
   "execution_count": 751,
   "metadata": {},
   "outputs": [
    {
     "data": {
      "text/plain": [
       "(52, 5850)"
      ]
     },
     "execution_count": 751,
     "metadata": {},
     "output_type": "execute_result"
    }
   ],
   "source": [
    "X.shape"
   ]
  },
  {
   "cell_type": "code",
   "execution_count": null,
   "metadata": {},
   "outputs": [],
   "source": []
  },
  {
   "cell_type": "markdown",
   "metadata": {},
   "source": [
    "### masking the land grid points"
   ]
  },
  {
   "cell_type": "code",
   "execution_count": 752,
   "metadata": {},
   "outputs": [],
   "source": [
    "from numpy import ma"
   ]
  },
  {
   "cell_type": "code",
   "execution_count": 753,
   "metadata": {},
   "outputs": [
    {
     "data": {
      "text/plain": [
       "numpy.ndarray"
      ]
     },
     "execution_count": 753,
     "metadata": {},
     "output_type": "execute_result"
    }
   ],
   "source": [
    "type(X)"
   ]
  },
  {
   "cell_type": "code",
   "execution_count": 754,
   "metadata": {},
   "outputs": [],
   "source": [
    "X = np.ma.masked_array(X, np.isnan(X))"
   ]
  },
  {
   "cell_type": "code",
   "execution_count": 755,
   "metadata": {},
   "outputs": [
    {
     "data": {
      "text/plain": [
       "numpy.ma.core.MaskedArray"
      ]
     },
     "execution_count": 755,
     "metadata": {},
     "output_type": "execute_result"
    }
   ],
   "source": [
    "type(X)"
   ]
  },
  {
   "cell_type": "code",
   "execution_count": 756,
   "metadata": {},
   "outputs": [],
   "source": [
    "land = X.sum(0).mask"
   ]
  },
  {
   "cell_type": "code",
   "execution_count": 757,
   "metadata": {},
   "outputs": [],
   "source": [
    "ocean = ~land"
   ]
  },
  {
   "cell_type": "markdown",
   "metadata": {},
   "source": [
    "### keeping just (deep) ocean values"
   ]
  },
  {
   "cell_type": "code",
   "execution_count": 758,
   "metadata": {},
   "outputs": [],
   "source": [
    "X = X[:,ocean]"
   ]
  },
  {
   "cell_type": "code",
   "execution_count": 759,
   "metadata": {},
   "outputs": [
    {
     "data": {
      "text/plain": [
       "masked_array(\n",
       "  data=[[37.0, 18.0, 99.0, ..., 13.0, 13.0, 16.0],\n",
       "        [46.0, 61.0, 96.0, ..., 12.0, 13.0, 17.0],\n",
       "        [88.0, 27.0, 103.0, ..., 12.0, 13.0, 14.0],\n",
       "        ...,\n",
       "        [27.0, 31.0, 80.0, ..., 36.0, 16.0, 27.0],\n",
       "        [24.0, 30.0, 62.0, ..., 22.0, 16.0, 16.0],\n",
       "        [70.0, 76.0, 77.0, ..., 19.0, 14.0, 15.0]],\n",
       "  mask=[[False, False, False, ..., False, False, False],\n",
       "        [False, False, False, ..., False, False, False],\n",
       "        [False, False, False, ..., False, False, False],\n",
       "        ...,\n",
       "        [False, False, False, ..., False, False, False],\n",
       "        [False, False, False, ..., False, False, False],\n",
       "        [False, False, False, ..., False, False, False]],\n",
       "  fill_value=1e+20)"
      ]
     },
     "execution_count": 759,
     "metadata": {},
     "output_type": "execute_result"
    }
   ],
   "source": [
    "X"
   ]
  },
  {
   "cell_type": "code",
   "execution_count": 760,
   "metadata": {},
   "outputs": [
    {
     "name": "stdout",
     "output_type": "stream",
     "text": [
      "39.29065702230259\n",
      "41.80229699991215\n"
     ]
    }
   ],
   "source": [
    "print(X.mean())\n",
    "print(X.std())"
   ]
  },
  {
   "cell_type": "code",
   "execution_count": 761,
   "metadata": {},
   "outputs": [
    {
     "data": {
      "text/plain": [
       "False"
      ]
     },
     "execution_count": 761,
     "metadata": {},
     "output_type": "execute_result"
    }
   ],
   "source": [
    "np.any(np.isnan(X))"
   ]
  },
  {
   "cell_type": "code",
   "execution_count": 762,
   "metadata": {},
   "outputs": [
    {
     "data": {
      "text/plain": [
       "True"
      ]
     },
     "execution_count": 762,
     "metadata": {},
     "output_type": "execute_result"
    }
   ],
   "source": [
    "np.all(np.isfinite(X))"
   ]
  },
  {
   "cell_type": "code",
   "execution_count": 763,
   "metadata": {},
   "outputs": [],
   "source": [
    "X = X.astype(np.float)"
   ]
  },
  {
   "cell_type": "code",
   "execution_count": 764,
   "metadata": {},
   "outputs": [],
   "source": [
    "from sklearn.impute import SimpleImputer\n",
    "\n",
    "\n",
    "imp = SimpleImputer(missing_values=np.nan, strategy='mean')\n",
    "imp.fit(X)\n",
    "\n",
    "X3 = imp.transform(X)"
   ]
  },
  {
   "cell_type": "code",
   "execution_count": 794,
   "metadata": {},
   "outputs": [
    {
     "data": {
      "text/plain": [
       "(52, 4953)"
      ]
     },
     "execution_count": 794,
     "metadata": {},
     "output_type": "execute_result"
    }
   ],
   "source": [
    "X3.shape"
   ]
  },
  {
   "cell_type": "code",
   "execution_count": null,
   "metadata": {},
   "outputs": [],
   "source": []
  },
  {
   "cell_type": "code",
   "execution_count": null,
   "metadata": {},
   "outputs": [],
   "source": []
  },
  {
   "cell_type": "code",
   "execution_count": null,
   "metadata": {},
   "outputs": [],
   "source": []
  },
  {
   "cell_type": "markdown",
   "metadata": {},
   "source": [
    "# PCA for the original dataset"
   ]
  },
  {
   "cell_type": "markdown",
   "metadata": {},
   "source": [
    "## Seasonal cycle for some points in the region"
   ]
  },
  {
   "cell_type": "code",
   "execution_count": 765,
   "metadata": {},
   "outputs": [],
   "source": [
    "#new_points[:,100:138:5].T.plot(col=\"point\", col_wrap=3, hue='point')"
   ]
  },
  {
   "cell_type": "code",
   "execution_count": 766,
   "metadata": {},
   "outputs": [],
   "source": [
    "# Run the PCA analysis:\n",
    "n_components = 12  # Rq: n_components cannot exceed ncols !\n",
    "pca = PCA(n_components=n_components)"
   ]
  },
  {
   "cell_type": "code",
   "execution_count": 850,
   "metadata": {},
   "outputs": [],
   "source": [
    "# eigenvectors\n",
    "pca = pca.fit(X3.T)"
   ]
  },
  {
   "cell_type": "code",
   "execution_count": 851,
   "metadata": {},
   "outputs": [
    {
     "data": {
      "text/plain": [
       "(12, 52)"
      ]
     },
     "execution_count": 851,
     "metadata": {},
     "output_type": "execute_result"
    }
   ],
   "source": [
    "# Loadings\n",
    "pca.components_.shape"
   ]
  },
  {
   "cell_type": "code",
   "execution_count": 852,
   "metadata": {},
   "outputs": [
    {
     "name": "stdout",
     "output_type": "stream",
     "text": [
      "624 (12, 52)\n"
     ]
    }
   ],
   "source": [
    "print(pca.components_.size, pca.components_.shape)"
   ]
  },
  {
   "cell_type": "code",
   "execution_count": 853,
   "metadata": {},
   "outputs": [
    {
     "name": "stdout",
     "output_type": "stream",
     "text": [
      "[12175.44866037  5102.74181734  4171.12796206  3652.13072613\n",
      "  3441.95322151  3020.39378025  2902.28599702  2708.58933788\n",
      "  2666.25637687  2463.21288832  2413.06668652  2325.29534686] (12,)\n"
     ]
    }
   ],
   "source": [
    "print(pca.singular_values_, pca.singular_values_.shape)"
   ]
  },
  {
   "cell_type": "code",
   "execution_count": 854,
   "metadata": {},
   "outputs": [
    {
     "data": {
      "text/plain": [
       "(4953, 12)"
      ]
     },
     "execution_count": 854,
     "metadata": {},
     "output_type": "execute_result"
    }
   ],
   "source": [
    "# Principal components :: make the projection \n",
    "reduced_values = pca.transform(X3.T)\n",
    "reduced_values.shape"
   ]
  },
  {
   "cell_type": "code",
   "execution_count": 841,
   "metadata": {},
   "outputs": [
    {
     "data": {
      "text/plain": [
       "array([2318.92134947, -746.1741158 , -648.4876295 , -649.84653301,\n",
       "        405.73113303, -114.09199277, -106.49253699,  130.35305485,\n",
       "        123.20714019,  313.55580488, -159.26673421, -389.63997999])"
      ]
     },
     "execution_count": 841,
     "metadata": {},
     "output_type": "execute_result"
    }
   ],
   "source": [
    "# the shape is : (4550, 12)\n",
    "reduced_values[0]"
   ]
  },
  {
   "cell_type": "code",
   "execution_count": 842,
   "metadata": {},
   "outputs": [],
   "source": [
    "EOFs = pca.components_"
   ]
  },
  {
   "cell_type": "code",
   "execution_count": 843,
   "metadata": {},
   "outputs": [],
   "source": [
    "EOFs = EOFs[:12,:]"
   ]
  },
  {
   "cell_type": "code",
   "execution_count": 844,
   "metadata": {},
   "outputs": [
    {
     "data": {
      "text/plain": [
       "(12, 4953)"
      ]
     },
     "execution_count": 844,
     "metadata": {},
     "output_type": "execute_result"
    }
   ],
   "source": [
    "EOFs.shape"
   ]
  },
  {
   "cell_type": "code",
   "execution_count": 858,
   "metadata": {},
   "outputs": [
    {
     "data": {
      "text/plain": [
       "5850"
      ]
     },
     "execution_count": 858,
     "metadata": {},
     "output_type": "execute_result"
    }
   ],
   "source": [
    "mld.shape[1]*len(lat) * len(lon)"
   ]
  },
  {
   "cell_type": "code",
   "execution_count": 845,
   "metadata": {},
   "outputs": [],
   "source": [
    "#mld.shape[0], mld.shape[1]*len(lat) * len(lon))"
   ]
  },
  {
   "cell_type": "code",
   "execution_count": 859,
   "metadata": {},
   "outputs": [],
   "source": [
    "EOF_recons = np.ones((12, mld.shape[1] * len(lat) * len(lon))) * -999."
   ]
  },
  {
   "cell_type": "code",
   "execution_count": 860,
   "metadata": {},
   "outputs": [],
   "source": [
    "for i in range(12): \n",
    "    EOF_recons[i,ocean] = EOFs[i,:]"
   ]
  },
  {
   "cell_type": "code",
   "execution_count": 861,
   "metadata": {},
   "outputs": [],
   "source": [
    "EOF_recons = ma.masked_values(np.reshape(EOF_recons, (12, 13, len(lat), len(lon)), order='F'), -999.)"
   ]
  },
  {
   "cell_type": "code",
   "execution_count": 862,
   "metadata": {},
   "outputs": [
    {
     "data": {
      "text/plain": [
       "(12, 13, 15, 30)"
      ]
     },
     "execution_count": 862,
     "metadata": {},
     "output_type": "execute_result"
    }
   ],
   "source": [
    "EOF_recons.shape\n"
   ]
  },
  {
   "cell_type": "code",
   "execution_count": 879,
   "metadata": {},
   "outputs": [
    {
     "data": {
      "text/plain": [
       "<matplotlib.contour.QuadContourSet at 0x7f72678d8518>"
      ]
     },
     "execution_count": 879,
     "metadata": {},
     "output_type": "execute_result"
    },
    {
     "data": {
      "image/png": "[encoded data removed]",
      "text/plain": [
       "<Figure size 432x288 with 1 Axes>"
      ]
     },
     "metadata": {
      "needs_background": "light"
     },
     "output_type": "display_data"
    }
   ],
   "source": [
    "plt.contourf(lons, lats, EOF_recons[0,0],cmap=plt.get_cmap('RdBu_r'))"
   ]
  },
  {
   "cell_type": "code",
   "execution_count": 891,
   "metadata": {},
   "outputs": [
    {
     "data": {
      "text/plain": [
       "<matplotlib.contour.QuadContourSet at 0x7f7267fcbda0>"
      ]
     },
     "execution_count": 891,
     "metadata": {},
     "output_type": "execute_result"
    },
    {
     "data": {
      "image/png": "[encoded data removed]",
      "text/plain": [
       "<Figure size 432x288 with 1 Axes>"
      ]
     },
     "metadata": {
      "needs_background": "light"
     },
     "output_type": "display_data"
    }
   ],
   "source": [
    "plt.contourf(lons, lats, EOF_recons[0,12,:,:],cmap=plt.get_cmap('RdBu_r'))"
   ]
  },
  {
   "cell_type": "code",
   "execution_count": null,
   "metadata": {},
   "outputs": [],
   "source": []
  },
  {
   "cell_type": "markdown",
   "metadata": {},
   "source": [
    "## Preparing a new data array with the results"
   ]
  },
  {
   "cell_type": "code",
   "execution_count": 788,
   "metadata": {},
   "outputs": [],
   "source": [
    "samp = reduced_values.shape[0]\n",
    "eof = reduced_values.shape[1]\n",
    "w = new_points.week.size\n",
    "\n",
    "data = np.zeros((samp,eof,w))\n",
    "\n",
    "result = xr.DataArray(data, dims=['point', 'prin_comp', 'week'], name=\"fake_data\")"
   ]
  },
  {
   "cell_type": "code",
   "execution_count": 789,
   "metadata": {
    "collapsed": true,
    "jupyter": {
     "outputs_hidden": true
    }
   },
   "outputs": [
    {
     "ename": "ValueError",
     "evalue": "conflicting sizes for dimension 'week': length 52 on <this-array> and length 4953 on 'loadings'",
     "output_type": "error",
     "traceback": [
      "\u001b[0;31m---------------------------------------------------------------------------\u001b[0m",
      "\u001b[0;31mValueError\u001b[0m                                Traceback (most recent call last)",
      "\u001b[0;32m<ipython-input-789-925c1c9300ac>\u001b[0m in \u001b[0;36m<module>\u001b[0;34m\u001b[0m\n\u001b[1;32m      2\u001b[0m \u001b[0;34m\u001b[0m\u001b[0m\n\u001b[1;32m      3\u001b[0m result['loadings'] = xr.DataArray(pca.components_, dims=['prin_comp', 'week'], \n\u001b[0;32m----> 4\u001b[0;31m                                   attrs={'comment': 'Principal axes in feature space, representing the directions of maximum variance in the data. The components are sorted by explained_variance_.'})\n\u001b[0m\u001b[1;32m      5\u001b[0m result['explained_variance'] = xr.DataArray(pca.explained_variance_ratio_*100, \n\u001b[1;32m      6\u001b[0m                                         dims=['prin_comp'], attrs={'comment': 'Percentage of variance explained by each of the selected components'})\n",
      "\u001b[0;32m/venv/py3-phyocean/lib/python3.6/site-packages/xarray/core/dataarray.py\u001b[0m in \u001b[0;36m__setitem__\u001b[0;34m(self, key, value)\u001b[0m\n\u001b[1;32m    633\u001b[0m     \u001b[0;32mdef\u001b[0m \u001b[0m__setitem__\u001b[0m\u001b[0;34m(\u001b[0m\u001b[0mself\u001b[0m\u001b[0;34m,\u001b[0m \u001b[0mkey\u001b[0m\u001b[0;34m:\u001b[0m \u001b[0mAny\u001b[0m\u001b[0;34m,\u001b[0m \u001b[0mvalue\u001b[0m\u001b[0;34m:\u001b[0m \u001b[0mAny\u001b[0m\u001b[0;34m)\u001b[0m \u001b[0;34m->\u001b[0m \u001b[0;32mNone\u001b[0m\u001b[0;34m:\u001b[0m\u001b[0;34m\u001b[0m\u001b[0;34m\u001b[0m\u001b[0m\n\u001b[1;32m    634\u001b[0m         \u001b[0;32mif\u001b[0m \u001b[0misinstance\u001b[0m\u001b[0;34m(\u001b[0m\u001b[0mkey\u001b[0m\u001b[0;34m,\u001b[0m \u001b[0mstr\u001b[0m\u001b[0;34m)\u001b[0m\u001b[0;34m:\u001b[0m\u001b[0;34m\u001b[0m\u001b[0;34m\u001b[0m\u001b[0m\n\u001b[0;32m--> 635\u001b[0;31m             \u001b[0mself\u001b[0m\u001b[0;34m.\u001b[0m\u001b[0mcoords\u001b[0m\u001b[0;34m[\u001b[0m\u001b[0mkey\u001b[0m\u001b[0;34m]\u001b[0m \u001b[0;34m=\u001b[0m \u001b[0mvalue\u001b[0m\u001b[0;34m\u001b[0m\u001b[0;34m\u001b[0m\u001b[0m\n\u001b[0m\u001b[1;32m    636\u001b[0m         \u001b[0;32melse\u001b[0m\u001b[0;34m:\u001b[0m\u001b[0;34m\u001b[0m\u001b[0;34m\u001b[0m\u001b[0m\n\u001b[1;32m    637\u001b[0m             \u001b[0;31m# Coordinates in key, value and self[key] should be consistent.\u001b[0m\u001b[0;34m\u001b[0m\u001b[0;34m\u001b[0m\u001b[0;34m\u001b[0m\u001b[0m\n",
      "\u001b[0;32m/venv/py3-phyocean/lib/python3.6/site-packages/xarray/core/coordinates.py\u001b[0m in \u001b[0;36m__setitem__\u001b[0;34m(self, key, value)\u001b[0m\n\u001b[1;32m     38\u001b[0m \u001b[0;34m\u001b[0m\u001b[0m\n\u001b[1;32m     39\u001b[0m     \u001b[0;32mdef\u001b[0m \u001b[0m__setitem__\u001b[0m\u001b[0;34m(\u001b[0m\u001b[0mself\u001b[0m\u001b[0;34m,\u001b[0m \u001b[0mkey\u001b[0m\u001b[0;34m:\u001b[0m \u001b[0mHashable\u001b[0m\u001b[0;34m,\u001b[0m \u001b[0mvalue\u001b[0m\u001b[0;34m:\u001b[0m \u001b[0mAny\u001b[0m\u001b[0;34m)\u001b[0m \u001b[0;34m->\u001b[0m \u001b[0;32mNone\u001b[0m\u001b[0;34m:\u001b[0m\u001b[0;34m\u001b[0m\u001b[0;34m\u001b[0m\u001b[0m\n\u001b[0;32m---> 40\u001b[0;31m         \u001b[0mself\u001b[0m\u001b[0;34m.\u001b[0m\u001b[0mupdate\u001b[0m\u001b[0;34m(\u001b[0m\u001b[0;34m{\u001b[0m\u001b[0mkey\u001b[0m\u001b[0;34m:\u001b[0m \u001b[0mvalue\u001b[0m\u001b[0;34m}\u001b[0m\u001b[0;34m)\u001b[0m\u001b[0;34m\u001b[0m\u001b[0;34m\u001b[0m\u001b[0m\n\u001b[0m\u001b[1;32m     41\u001b[0m \u001b[0;34m\u001b[0m\u001b[0m\n\u001b[1;32m     42\u001b[0m     \u001b[0;34m@\u001b[0m\u001b[0mproperty\u001b[0m\u001b[0;34m\u001b[0m\u001b[0;34m\u001b[0m\u001b[0m\n",
      "\u001b[0;32m/venv/py3-phyocean/lib/python3.6/site-packages/xarray/core/coordinates.py\u001b[0m in \u001b[0;36mupdate\u001b[0;34m(self, other)\u001b[0m\n\u001b[1;32m    116\u001b[0m             \u001b[0;34m[\u001b[0m\u001b[0mself\u001b[0m\u001b[0;34m.\u001b[0m\u001b[0mvariables\u001b[0m\u001b[0;34m,\u001b[0m \u001b[0mother_vars\u001b[0m\u001b[0;34m]\u001b[0m\u001b[0;34m,\u001b[0m \u001b[0mpriority_arg\u001b[0m\u001b[0;34m=\u001b[0m\u001b[0;36m1\u001b[0m\u001b[0;34m,\u001b[0m \u001b[0mindexes\u001b[0m\u001b[0;34m=\u001b[0m\u001b[0mself\u001b[0m\u001b[0;34m.\u001b[0m\u001b[0mindexes\u001b[0m\u001b[0;34m\u001b[0m\u001b[0;34m\u001b[0m\u001b[0m\n\u001b[1;32m    117\u001b[0m         )\n\u001b[0;32m--> 118\u001b[0;31m         \u001b[0mself\u001b[0m\u001b[0;34m.\u001b[0m\u001b[0m_update_coords\u001b[0m\u001b[0;34m(\u001b[0m\u001b[0mcoords\u001b[0m\u001b[0;34m,\u001b[0m \u001b[0mindexes\u001b[0m\u001b[0;34m)\u001b[0m\u001b[0;34m\u001b[0m\u001b[0;34m\u001b[0m\u001b[0m\n\u001b[0m\u001b[1;32m    119\u001b[0m \u001b[0;34m\u001b[0m\u001b[0m\n\u001b[1;32m    120\u001b[0m     \u001b[0;32mdef\u001b[0m \u001b[0m_merge_raw\u001b[0m\u001b[0;34m(\u001b[0m\u001b[0mself\u001b[0m\u001b[0;34m,\u001b[0m \u001b[0mother\u001b[0m\u001b[0;34m)\u001b[0m\u001b[0;34m:\u001b[0m\u001b[0;34m\u001b[0m\u001b[0;34m\u001b[0m\u001b[0m\n",
      "\u001b[0;32m/venv/py3-phyocean/lib/python3.6/site-packages/xarray/core/coordinates.py\u001b[0m in \u001b[0;36m_update_coords\u001b[0;34m(self, coords, indexes)\u001b[0m\n\u001b[1;32m    289\u001b[0m         \u001b[0mcoords_plus_data\u001b[0m \u001b[0;34m=\u001b[0m \u001b[0mcoords\u001b[0m\u001b[0;34m.\u001b[0m\u001b[0mcopy\u001b[0m\u001b[0;34m(\u001b[0m\u001b[0;34m)\u001b[0m\u001b[0;34m\u001b[0m\u001b[0;34m\u001b[0m\u001b[0m\n\u001b[1;32m    290\u001b[0m         \u001b[0mcoords_plus_data\u001b[0m\u001b[0;34m[\u001b[0m\u001b[0m_THIS_ARRAY\u001b[0m\u001b[0;34m]\u001b[0m \u001b[0;34m=\u001b[0m \u001b[0mself\u001b[0m\u001b[0;34m.\u001b[0m\u001b[0m_data\u001b[0m\u001b[0;34m.\u001b[0m\u001b[0mvariable\u001b[0m\u001b[0;34m\u001b[0m\u001b[0;34m\u001b[0m\u001b[0m\n\u001b[0;32m--> 291\u001b[0;31m         \u001b[0mdims\u001b[0m \u001b[0;34m=\u001b[0m \u001b[0mcalculate_dimensions\u001b[0m\u001b[0;34m(\u001b[0m\u001b[0mcoords_plus_data\u001b[0m\u001b[0;34m)\u001b[0m\u001b[0;34m\u001b[0m\u001b[0;34m\u001b[0m\u001b[0m\n\u001b[0m\u001b[1;32m    292\u001b[0m         \u001b[0;32mif\u001b[0m \u001b[0;32mnot\u001b[0m \u001b[0mset\u001b[0m\u001b[0;34m(\u001b[0m\u001b[0mdims\u001b[0m\u001b[0;34m)\u001b[0m \u001b[0;34m<=\u001b[0m \u001b[0mset\u001b[0m\u001b[0;34m(\u001b[0m\u001b[0mself\u001b[0m\u001b[0;34m.\u001b[0m\u001b[0mdims\u001b[0m\u001b[0;34m)\u001b[0m\u001b[0;34m:\u001b[0m\u001b[0;34m\u001b[0m\u001b[0;34m\u001b[0m\u001b[0m\n\u001b[1;32m    293\u001b[0m             raise ValueError(\n",
      "\u001b[0;32m/venv/py3-phyocean/lib/python3.6/site-packages/xarray/core/dataset.py\u001b[0m in \u001b[0;36mcalculate_dimensions\u001b[0;34m(variables)\u001b[0m\n\u001b[1;32m    203\u001b[0m                     \u001b[0;34m\"conflicting sizes for dimension %r: \"\u001b[0m\u001b[0;34m\u001b[0m\u001b[0;34m\u001b[0m\u001b[0m\n\u001b[1;32m    204\u001b[0m                     \u001b[0;34m\"length %s on %r and length %s on %r\"\u001b[0m\u001b[0;34m\u001b[0m\u001b[0;34m\u001b[0m\u001b[0m\n\u001b[0;32m--> 205\u001b[0;31m                     \u001b[0;34m%\u001b[0m \u001b[0;34m(\u001b[0m\u001b[0mdim\u001b[0m\u001b[0;34m,\u001b[0m \u001b[0msize\u001b[0m\u001b[0;34m,\u001b[0m \u001b[0mk\u001b[0m\u001b[0;34m,\u001b[0m \u001b[0mdims\u001b[0m\u001b[0;34m[\u001b[0m\u001b[0mdim\u001b[0m\u001b[0;34m]\u001b[0m\u001b[0;34m,\u001b[0m \u001b[0mlast_used\u001b[0m\u001b[0;34m[\u001b[0m\u001b[0mdim\u001b[0m\u001b[0;34m]\u001b[0m\u001b[0;34m)\u001b[0m\u001b[0;34m\u001b[0m\u001b[0;34m\u001b[0m\u001b[0m\n\u001b[0m\u001b[1;32m    206\u001b[0m                 )\n\u001b[1;32m    207\u001b[0m     \u001b[0;32mreturn\u001b[0m \u001b[0mdims\u001b[0m\u001b[0;34m\u001b[0m\u001b[0;34m\u001b[0m\u001b[0m\n",
      "\u001b[0;31mValueError\u001b[0m: conflicting sizes for dimension 'week': length 52 on <this-array> and length 4953 on 'loadings'"
     ]
    }
   ],
   "source": [
    "result['reduced_data'] = xr.DataArray(reduced_values, dims=['point', 'prin_comp'])\n",
    "\n",
    "result['loadings'] = xr.DataArray(pca.components_, dims=['prin_comp', 'week'], \n",
    "                                  attrs={'comment': 'Principal axes in feature space, representing the directions of maximum variance in the data. The components are sorted by explained_variance_.'})\n",
    "result['explained_variance'] = xr.DataArray(pca.explained_variance_ratio_*100, \n",
    "                                        dims=['prin_comp'], attrs={'comment': 'Percentage of variance explained by each of the selected components'})"
   ]
  },
  {
   "cell_type": "markdown",
   "metadata": {},
   "source": [
    "## Plotting the loadings"
   ]
  },
  {
   "cell_type": "code",
   "execution_count": 791,
   "metadata": {},
   "outputs": [],
   "source": [
    "exp_var =  pca.explained_variance_ratio_*100"
   ]
  },
  {
   "cell_type": "code",
   "execution_count": 811,
   "metadata": {},
   "outputs": [
    {
     "data": {
      "image/png": "[encoded data removed]",
      "text/plain": [
       "<Figure size 1080x1080 with 12 Axes>"
      ]
     },
     "metadata": {
      "needs_background": "light"
     },
     "output_type": "display_data"
    }
   ],
   "source": [
    "n_cols = 3\n",
    "n_rows = 4\n",
    "\n",
    "coeff = 0\n",
    "\n",
    "fig, ax = plt.subplots(nrows=n_rows, ncols=n_cols, figsize=(15,15), sharex=True, sharey=True)\n",
    "\n",
    "for i in range(n_rows):\n",
    "    for j in range(n_cols):\n",
    "        y = EOFs[coeff] #result['loadings'][coeff]\n",
    "\n",
    "        ev = str('{:.2f}'.format(exp_var[coeff]))  \n",
    "        name = 'exp. variance = ' + ev + '%'\n",
    "        \n",
    "        ax[i,j].plot(y) \n",
    "        ax[i,j].set_title(name)    \n",
    "        ax[i,j].grid(linestyle='--', alpha=0.5)\n",
    "        coeff += 1\n",
    "\n",
    "plt.show()"
   ]
  },
  {
   "cell_type": "code",
   "execution_count": null,
   "metadata": {},
   "outputs": [],
   "source": []
  },
  {
   "cell_type": "markdown",
   "metadata": {},
   "source": [
    "## Explained variance of the eigenvalues"
   ]
  },
  {
   "cell_type": "code",
   "execution_count": null,
   "metadata": {},
   "outputs": [],
   "source": [
    "result['explained_variance'].plot(label='exp.var. alone')\n",
    "result['explained_variance'].cumsum(dim='prin_comp').plot(label='exp.var. sum')\n",
    "plt.legend()\n",
    "plt.grid(alpha=0.5)\n",
    "plt.show()"
   ]
  },
  {
   "cell_type": "markdown",
   "metadata": {},
   "source": [
    "## Plot of the data projected over the PC space"
   ]
  },
  {
   "cell_type": "code",
   "execution_count": null,
   "metadata": {},
   "outputs": [],
   "source": [
    "ncols = 4\n",
    "nrows = 4\n",
    "\n",
    "fig, ax = plt.subplots(nrows=nrows, ncols=ncols, figsize=(10,10), sharex=True, sharey=True, constrained_layout=True)\n",
    "\n",
    "for i in range(nrows):\n",
    "    for j in range(ncols):\n",
    "        x = result['reduced_data'][:,j]#PC[j]\n",
    "        y = result['reduced_data'][:,i]#PC[i]\n",
    "        \n",
    "        pc_x = 'PC' + str(j+1)\n",
    "        pc_y = 'PC' + str(i+1)\n",
    "\n",
    "        ax[i,j].scatter(x, y)\n",
    "\n",
    "        ax[i,j].set_xlabel(pc_x)\n",
    "        ax[i,j].set_ylabel(pc_y)\n",
    "        ax[i,j].grid(linestyle='--', alpha=0.5)\n",
    "        \n",
    "\n",
    "plt.xlim(-600., 800)\n",
    "plt.ylim(-600., 800)\n",
    "\n",
    "plt.show()"
   ]
  },
  {
   "cell_type": "code",
   "execution_count": null,
   "metadata": {},
   "outputs": [],
   "source": [
    "result"
   ]
  },
  {
   "cell_type": "code",
   "execution_count": null,
   "metadata": {},
   "outputs": [],
   "source": [
    "result.reduced_data"
   ]
  },
  {
   "cell_type": "code",
   "execution_count": null,
   "metadata": {},
   "outputs": [],
   "source": [
    "result.reduced_data[0:450,0].plot()"
   ]
  },
  {
   "cell_type": "code",
   "execution_count": null,
   "metadata": {},
   "outputs": [],
   "source": []
  }
 ],
 "metadata": {
  "kernelspec": {
   "display_name": "Python 3",
   "language": "python",
   "name": "py3phyocean"
  },
  "language_info": {
   "codemirror_mode": {
    "name": "ipython",
    "version": 3
   },
   "file_extension": ".py",
   "mimetype": "text/x-python",
   "name": "python",
   "nbconvert_exporter": "python",
   "pygments_lexer": "ipython3",
   "version": "3.6.9"
  }
 },
 "nbformat": 4,
 "nbformat_minor": 4
}
