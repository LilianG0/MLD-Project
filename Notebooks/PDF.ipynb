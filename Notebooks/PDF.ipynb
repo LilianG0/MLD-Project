{
 "cells": [
  {
   "cell_type": "code",
   "execution_count": 1,
   "metadata": {},
   "outputs": [],
   "source": [
    "#########################\n",
    "######### ROUTINE TO PLOT THE SEASONAL MEAN OF ANY VARIABLE OVER AN ALREADY \n",
    "######### SELECTED REGION.\n",
    "#########################\n",
    "\n",
    "import cartopy\n",
    "\n",
    "import cartopy.feature as cfeat\n",
    "import cartopy.crs as ccrs\n",
    "from cartopy.mpl.ticker import LongitudeFormatter, LatitudeFormatter\n",
    "import xarray as xr\n",
    "import numpy as np\n",
    "\n",
    "import datetime\n",
    "import pandas\n",
    "\n",
    "import matplotlib as mpl\n",
    "import matplotlib.pyplot as plt\n",
    "from matplotlib import colors\n",
    "from matplotlib.colors import BoundaryNorm\n",
    "from matplotlib.ticker import MaxNLocator\n",
    "from mpl_toolkits.axes_grid1 import make_axes_locatable"
   ]
  },
  {
   "cell_type": "code",
   "execution_count": 2,
   "metadata": {},
   "outputs": [],
   "source": [
    "#########################\n",
    "######### DICTIONARIES DEFINITION \n",
    "#########################\n",
    "\n",
    "Range_MLD = {\n",
    "    'lab' : {\n",
    "        'vmin' : 20, \n",
    "        'vmax' : 2000},\n",
    "    'gul' : {\n",
    "        'vmin' : 20, \n",
    "        'vmax' : 1000},\n",
    "    'noe' : {\n",
    "        'vmin' : 10, \n",
    "        'vmax' : 1600},\n",
    "}\n",
    "\n",
    "\n",
    "#Colorbar parameters\n",
    "color_bar = {\n",
    "    'cmap' : 'YlGnBu',\n",
    "    'orientation' : 'vertical',\n",
    "    'title_cbr' : 'depth [m]'\n",
    "}\n",
    "\n",
    "\n",
    "\n",
    "reg_ext = {\n",
    "    'lab': {\n",
    "        'lon' : (-60, -30),\n",
    "        'lat' : (50, 65),\n",
    "        'name' : 'Labrador and Irminger Seas'\n",
    "    },\n",
    "    'gul': {\n",
    "        'lon' : (-75, -45),\n",
    "        'lat' : (30, 45),\n",
    "        'name' : 'Gulf Stream'\n",
    "    },\n",
    "    'noe': {\n",
    "        'lon' : (-30, -5),\n",
    "        'lat' : (45, 60),\n",
    "        'name' : 'North East Sea'\n",
    "    }\n",
    "}"
   ]
  },
  {
   "cell_type": "code",
   "execution_count": 3,
   "metadata": {},
   "outputs": [],
   "source": [
    "def Grid(data_set):\n",
    "    x = data_set.longitude\n",
    "    y = data_set.latitude\n",
    "    \n",
    "    x, y = np.meshgrid(x, y)\n",
    "    return(x, y)\n"
   ]
  },
  {
   "cell_type": "code",
   "execution_count": 4,
   "metadata": {},
   "outputs": [],
   "source": [
    "dir_1 = '/home/lgarcia/Documents/data_ARMOR/'\n",
    "fl_n1 = 'ARMOR_*.nc'\n",
    "\n",
    "c_armor = xr.open_mfdataset(dir_1 + fl_n1)\n",
    "mld_a = c_armor.mlotst"
   ]
  },
  {
   "cell_type": "markdown",
   "metadata": {},
   "source": [
    "## Just a test to plot histograms"
   ]
  },
  {
   "cell_type": "code",
   "execution_count": null,
   "metadata": {},
   "outputs": [],
   "source": [
    "## some other packages\n",
    "from scipy import stats\n",
    "from matplotlib import ticker"
   ]
  },
  {
   "cell_type": "code",
   "execution_count": null,
   "metadata": {},
   "outputs": [],
   "source": [
    "mx = np.nanmax(mld_a[:])\n",
    "mn = np.nanmin(mld_a[:])\n",
    "\n",
    "print(mx, mn)\n",
    "d_frame = mld_a[250].to_dataframe()\n",
    "d_nonan = d_frame.dropna(how='any')\n",
    "\n",
    "#%matplotlib notebook\n",
    "\n",
    "plt.yscale(\"log\")\n",
    "\n",
    "values = d_nonan.mlotst\n",
    "n, bins, patches = plt.hist(values, 20, range=(mn, mx), facecolor='g', alpha=0.75)\n",
    "\n",
    "#plt.grid()\n",
    "#plt.show()\n",
    "\n",
    "#print(patches)\n",
    "#print(bins)\n"
   ]
  },
  {
   "cell_type": "markdown",
   "metadata": {},
   "source": [
    "## Making the histogram for each time stamp"
   ]
  },
  {
   "cell_type": "code",
   "execution_count": 5,
   "metadata": {},
   "outputs": [],
   "source": [
    "## Function to crop the dataset\n",
    "\n",
    "def Crops(coord, d_set):\n",
    "    lon1, lon2 = reg_ext[coord]['lon']\n",
    "    lat1, lat2 = reg_ext[coord]['lat']\n",
    "    name_fig = reg_ext[coord]['name']\n",
    "\n",
    "    return(d_set.sel(longitude=slice(lon1, lon2), latitude=slice(lat1, lat2)))\n"
   ]
  },
  {
   "cell_type": "code",
   "execution_count": 52,
   "metadata": {},
   "outputs": [],
   "source": [
    "def Hist_params(data_set, n_bins):\n",
    "    \"\"\"\n",
    "        Hist_param is a function that generates an histogram for each time step\n",
    "        of a DataArray.\n",
    "        \n",
    "        Parameters:\n",
    "        ------------\n",
    "        data_set : DataArray\n",
    "            Is the dataset we are working on\n",
    "            \n",
    "        n_bins : integer\n",
    "            Is the number of bins we assign for the histogram\n",
    "        \n",
    "        Output:\n",
    "        -------\n",
    "        h : Numpy Arrray\n",
    "            Array with the parameters of the histogram for each time stamp. \n",
    "            It has dimension time_stamps x n_bins \n",
    "    \"\"\"\n",
    "    heigth = np.empty(n_bins)\n",
    "    \n",
    "    for i in range(len(data_set.week)):\n",
    "        d_frame = data_set[i].dropna(dim='longitude', how='any')\n",
    "        d_frame = data_set[i].dropna(dim='latitude', how='any')\n",
    "\n",
    "        #mean = d_nonan.mlotst.mean()\n",
    "        #sd = d_nonan.std()\n",
    "        #a = np.append(a, mean)\n",
    "        #s = np.append(s, sd)\n",
    "\n",
    "        values = d_frame\n",
    "        hist, bins = np.histogram(values, bins=n_bins, range=(mn, mx), normed=False)\n",
    "\n",
    "        heigth = np.vstack((heigth, hist))\n",
    "        \n",
    "    h = np.delete(heigth, 0, 0)\n",
    "    \n",
    "    return(h)\n",
    "    \n",
    "\n",
    "def PDF_time(data_set, mini, maxi, n_bins, *limits):\n",
    "    \"\"\"\n",
    "        PDF_time is a function that generates a 2D plot from histograms\n",
    "        and time steps. This is the plot will have as 'x' axis values of MLD\n",
    "        classes in meters, and the 'y' axis will have time dimensions. The \n",
    "        colors indicate the number of grid points in each MLD class.\n",
    "        \n",
    "        Parameters:\n",
    "        ------------\n",
    "        data_set : DataArray\n",
    "            Is the dataset we are working on\n",
    "            \n",
    "        mini : float\n",
    "            minimum value to create the 'y' axis\n",
    "            \n",
    "        maxi : float\n",
    "            maximum value to create the 'y' axis\n",
    "            \n",
    "        n_bins : integer\n",
    "            Is the number of bins we assign for the histogram\n",
    "        \n",
    "        Output:\n",
    "        -------\n",
    "        h : Numpy Arrray\n",
    "            Array with the parameters of the histogram for each time stamp. \n",
    "            It has dimension time_stamps x n_bins \n",
    "    \"\"\"\n",
    "    x = data_set.week\n",
    "    y = np.arange(mini, maxi, abs((mini-maxi)/n_bins))\n",
    "    X, Y = np.meshgrid(x, y)\n",
    "\n",
    "    hist = Hist_params(data_set, n_bins)\n",
    "    \n",
    "    #Minimum and maximum values for the color bar\n",
    "    vmin = hist.min()\n",
    "    vmax = hist.max()\n",
    "\n",
    "    fig, ax = plt.subplots()\n",
    "\n",
    "    #ax.set_yscale(\"log\", nonposy='clip')\n",
    "    cs = ax.contourf(X, Y, hist.T, np.linspace(limits[0], limits[1], 25), cmap='viridis', extend='max')\n",
    "\n",
    "    ax.set_xlabel('time [weeks]')\n",
    "    ax.set_ylabel('MLD [m]')\n",
    "    #ax.set_title('Gulf Stream MLD distribution')\n",
    "\n",
    "    cb = fig.colorbar(cs, ax=ax, orientation='vertical')\n",
    "    cb.set_label('# of grid points')\n",
    "    #ax.set_clim(10., 4000.)\n",
    "    \n",
    "    plt.show()\n",
    "    ##Deberia regresar o no la figura?\n",
    "    \n",
    "    \n",
    "    \n",
    "def Save_fig(name):\n",
    "    fig.savefig(name, bbox_inches='tight')\n",
    "    \n",
    "\n",
    "def Masking(data_set, cond):\n",
    "    \"\"\"\n",
    "        Maskin is a function that makes a mask of an array depending on the \n",
    "        entering condition. The condition is evaluated over finite numbers.\n",
    "        At the final, the mask is appended in the original DataArray as a \n",
    "        new coordinate.\n",
    "        \n",
    "        Parameters:\n",
    "        ------------\n",
    "        data_set : DataArray\n",
    "            Is the array we want to make the mask of.\n",
    "            \n",
    "        cond : array\n",
    "            Codition to meet. \n",
    "\n",
    "\n",
    "        Output:\n",
    "        -------\n",
    "        data_set : Numpy Arrray\n",
    "            Array with new coordinates 'mask'\n",
    "    \"\"\"\n",
    "    \n",
    "    mask = 1 * np.ones((data_set.dims['latitude'], data_set.dims['longitude'])) * np.isfinite(cond)  \n",
    "    data_set.coords['mask'] = (('latitude', 'longitude'), mask)\n",
    "    return(data_set)"
   ]
  },
  {
   "cell_type": "markdown",
   "metadata": {},
   "source": [
    "### Gulf stream"
   ]
  },
  {
   "cell_type": "code",
   "execution_count": 41,
   "metadata": {},
   "outputs": [],
   "source": [
    "from matplotlib.colors import LogNorm\n",
    "coord = 'gul'\n",
    "gulf_data = Crops(coord, c_armor)\n",
    "gulf_data = Masking(gulf_data, gulf_data.to[0,25])\n",
    "\n",
    "gulf_data = gulf_data.groupby('time.week').mean(dim='time')"
   ]
  },
  {
   "cell_type": "code",
   "execution_count": 42,
   "metadata": {},
   "outputs": [
    {
     "data": {
      "text/plain": [
       "<xarray.DataArray 'mlotst' (week: 53, latitude: 60, longitude: 120)>\n",
       "dask.array<shape=(53, 60, 120), dtype=float32, chunksize=(1, 60, 120)>\n",
       "Coordinates:\n",
       "  * latitude   (latitude) float32 30.125 30.375 30.625 ... 44.375 44.625 44.875\n",
       "  * longitude  (longitude) float32 -74.875 -74.625 -74.375 ... -45.375 -45.125\n",
       "    mask       (latitude, longitude) float64 1.0 1.0 1.0 1.0 ... 1.0 1.0 1.0 1.0\n",
       "  * week       (week) int64 1 2 3 4 5 6 7 8 9 10 ... 45 46 47 48 49 50 51 52 53"
      ]
     },
     "execution_count": 42,
     "metadata": {},
     "output_type": "execute_result"
    }
   ],
   "source": [
    "gulf_data.mlotst"
   ]
  },
  {
   "cell_type": "code",
   "execution_count": 56,
   "metadata": {},
   "outputs": [
    {
     "name": "stderr",
     "output_type": "stream",
     "text": [
      "/usr/local/lib/python3.5/dist-packages/dask/array/numpy_compat.py:28: RuntimeWarning: invalid value encountered in true_divide\n",
      "  x = np.divide(x1, x2, out)\n",
      "/usr/local/lib/python3.5/dist-packages/ipykernel_launcher.py:32: DeprecationWarning: Passing normed=False is deprecated, and has no effect. Consider passing the density argument instead.\n",
      "/usr/local/lib/python3.5/dist-packages/numpy/ma/core.py:6449: MaskedArrayFutureWarning: In the future the default for ma.maximum.reduce will be axis=0, not the current None, to match np.maximum.reduce. Explicitly pass 0 or None to silence this warning.\n",
      "  return self.reduce(a)\n",
      "/usr/local/lib/python3.5/dist-packages/numpy/ma/core.py:6449: MaskedArrayFutureWarning: In the future the default for ma.minimum.reduce will be axis=0, not the current None, to match np.minimum.reduce. Explicitly pass 0 or None to silence this warning.\n",
      "  return self.reduce(a)\n"
     ]
    },
    {
     "data": {
      "image/png": "[encoded data removed]",
      "text/plain": [
       "<matplotlib.figure.Figure at 0x7f4bcbb6ca20>"
      ]
     },
     "metadata": {},
     "output_type": "display_data"
    }
   ],
   "source": [
    "n_bins = 100\n",
    "mn = 0.\n",
    "mx = 300.\n",
    "\n",
    "clims_g = (0., 2000.)\n",
    "values = gulf_data.mlotst.where(gulf_data.mask==1)\n",
    "\n",
    "PDF_time(values, mn, mx, n_bins, *clims_g)"
   ]
  },
  {
   "cell_type": "markdown",
   "metadata": {},
   "source": [
    "### Labrador and Irminger seas"
   ]
  },
  {
   "cell_type": "code",
   "execution_count": 38,
   "metadata": {},
   "outputs": [],
   "source": [
    "coord = 'lab'\n",
    "lab_data = Crops(coord, c_armor)\n",
    "lab_data = Masking(lab_data, lab_data.to[0,25])\n",
    "lab_data = lab_data.groupby('time.week').mean(dim='time')"
   ]
  },
  {
   "cell_type": "code",
   "execution_count": 58,
   "metadata": {},
   "outputs": [
    {
     "name": "stderr",
     "output_type": "stream",
     "text": [
      "/usr/local/lib/python3.5/dist-packages/dask/array/numpy_compat.py:28: RuntimeWarning: invalid value encountered in true_divide\n",
      "  x = np.divide(x1, x2, out)\n",
      "/usr/local/lib/python3.5/dist-packages/ipykernel_launcher.py:32: DeprecationWarning: Passing normed=False is deprecated, and has no effect. Consider passing the density argument instead.\n",
      "/usr/local/lib/python3.5/dist-packages/numpy/ma/core.py:6449: MaskedArrayFutureWarning: In the future the default for ma.maximum.reduce will be axis=0, not the current None, to match np.maximum.reduce. Explicitly pass 0 or None to silence this warning.\n",
      "  return self.reduce(a)\n",
      "/usr/local/lib/python3.5/dist-packages/numpy/ma/core.py:6449: MaskedArrayFutureWarning: In the future the default for ma.minimum.reduce will be axis=0, not the current None, to match np.minimum.reduce. Explicitly pass 0 or None to silence this warning.\n",
      "  return self.reduce(a)\n"
     ]
    },
    {
     "data": {
      "image/png": "[encoded data removed]",
      "text/plain": [
       "<matplotlib.figure.Figure at 0x7f4bcbff3cf8>"
      ]
     },
     "metadata": {},
     "output_type": "display_data"
    }
   ],
   "source": [
    "n_bins = 100\n",
    "\n",
    "mn = 0.\n",
    "mx = 1600.\n",
    "\n",
    "clims_l = (1., 2000.)\n",
    "values_l = lab_data.mlotst\n",
    "\n",
    "PDF_time(values_l, mn, mx, n_bins, *clims_l)"
   ]
  },
  {
   "cell_type": "markdown",
   "metadata": {},
   "source": [
    "### North East"
   ]
  },
  {
   "cell_type": "code",
   "execution_count": 60,
   "metadata": {
    "scrolled": true
   },
   "outputs": [
    {
     "name": "stderr",
     "output_type": "stream",
     "text": [
      "/usr/local/lib/python3.5/dist-packages/dask/array/numpy_compat.py:28: RuntimeWarning: invalid value encountered in true_divide\n",
      "  x = np.divide(x1, x2, out)\n",
      "/usr/local/lib/python3.5/dist-packages/ipykernel_launcher.py:32: DeprecationWarning: Passing normed=False is deprecated, and has no effect. Consider passing the density argument instead.\n",
      "/usr/local/lib/python3.5/dist-packages/numpy/ma/core.py:6449: MaskedArrayFutureWarning: In the future the default for ma.maximum.reduce will be axis=0, not the current None, to match np.maximum.reduce. Explicitly pass 0 or None to silence this warning.\n",
      "  return self.reduce(a)\n",
      "/usr/local/lib/python3.5/dist-packages/numpy/ma/core.py:6449: MaskedArrayFutureWarning: In the future the default for ma.minimum.reduce will be axis=0, not the current None, to match np.minimum.reduce. Explicitly pass 0 or None to silence this warning.\n",
      "  return self.reduce(a)\n"
     ]
    },
    {
     "data": {
      "image/png": "[encoded data removed]",
      "text/plain": [
       "<matplotlib.figure.Figure at 0x7f4bf295ba58>"
      ]
     },
     "metadata": {},
     "output_type": "display_data"
    }
   ],
   "source": [
    "coord = 'noe'\n",
    "noe_data = Crops(coord, c_armor)\n",
    "noe_data = Masking(noe_data, noe_data.to[0,25])\n",
    "noe_data = noe_data.groupby('time.week').mean(dim='time')\n",
    "\n",
    "n_bins = 100\n",
    "\n",
    "mn = 0.\n",
    "mx = 450.\n",
    "\n",
    "clims_n = (0., 900.)\n",
    "values_n = noe_data.mlotst.where(noe_data.mask==1)\n",
    "\n",
    "PDF_time(values_n, mn, mx, n_bins, *clims_n)"
   ]
  },
  {
   "cell_type": "code",
   "execution_count": null,
   "metadata": {},
   "outputs": [],
   "source": []
  },
  {
   "cell_type": "markdown",
   "metadata": {},
   "source": []
  }
 ],
 "metadata": {
  "kernelspec": {
   "display_name": "Python 3",
   "language": "python",
   "name": "python3"
  },
  "language_info": {
   "codemirror_mode": {
    "name": "ipython",
    "version": 3
   },
   "file_extension": ".py",
   "mimetype": "text/x-python",
   "name": "python",
   "nbconvert_exporter": "python",
   "pygments_lexer": "ipython3",
   "version": "3.5.2"
  }
 },
 "nbformat": 4,
 "nbformat_minor": 4
}
