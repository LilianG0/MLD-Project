{
 "cells": [
  {
   "cell_type": "code",
   "execution_count": 1,
   "metadata": {},
   "outputs": [],
   "source": [
    "import xarray as xr\n",
    "import numpy as np\n",
    "import datetime\n",
    "import pandas as pd\n",
    "import gsw\n",
    "from scipy import interpolate\n",
    "\n",
    "import matplotlib as mpl\n",
    "import matplotlib.pyplot as plt\n"
   ]
  },
  {
   "cell_type": "code",
   "execution_count": 2,
   "metadata": {},
   "outputs": [],
   "source": [
    "################################################################################\n",
    "########    DICTIONARIES\n",
    "################################################################################\n",
    "\n",
    "reg_ext = {\n",
    "    'lab': {\n",
    "        'lon' : (-60, -30),\n",
    "        'lat' : (50, 65),\n",
    "        'name' : 'Labrador and Irminger Seas'\n",
    "    },\n",
    "    'gul': {\n",
    "        'lon' : (-75, -45),\n",
    "        'lat' : (30, 45),\n",
    "        'name' : 'Gulf Stream'\n",
    "    },\n",
    "    'noe': {\n",
    "        'lon' : (-30, -5),\n",
    "        'lat' : (45, 60),\n",
    "        'name' : 'North East Sea'\n",
    "    }\n",
    "}\n",
    "\n",
    "## Selected points in the regions\n",
    "### Gulf S: (60W, 35N)\n",
    "### Lab -I: (50W, 55N)\n",
    "### Nor E: (17.5W, 52.5N)\n",
    "points = {\n",
    "    'gul': {\n",
    "        'lon': -60., \n",
    "        'lat': 35.\n",
    "    },\n",
    "    'lab': {\n",
    "        'lon': -50., \n",
    "        'lat': 55.\n",
    "    },\n",
    "    'noe': {\n",
    "        'lon': -17.5, \n",
    "        'lat': 52.5}\n",
    "}\n",
    "\n",
    "\n",
    "gulf = {\n",
    "    12 : {\n",
    "        't': (17.5, 19.), \n",
    "        's': (36.4, 37),\n",
    "        'd': (26.3, 26.6)\n",
    "    },\n",
    "    25 : {\n",
    "        't': (17.5, 25.), \n",
    "        's': (36.25, 36.75),\n",
    "        'd': (24., 27.)\n",
    "    },\n",
    "    38 : {\n",
    "        't': (17.5, 26.), \n",
    "        's': (36.4, 36.8),\n",
    "        'd': (24., 26.5)\n",
    "    },\n",
    "    51 : {\n",
    "        't': (18., 22.2), \n",
    "        's': (36.4, 36.7),\n",
    "        'd': (25., 26.5)\n",
    "    }\n",
    "}\n",
    "\n",
    "\n",
    "labrador = {\n",
    "    12 : {\n",
    "        't': (2.75, 3.5), \n",
    "        's': (34.65, 34.85),\n",
    "        'd': (27.6, 27.75)\n",
    "    },\n",
    "    25 : {\n",
    "        't': (3., 8.), \n",
    "        's': (34.5, 35.),\n",
    "        'd': (26., 29.)\n",
    "    },\n",
    "    38 : {\n",
    "        't': (3., 11.), \n",
    "        's': (34.5, 35.),\n",
    "        'd': (26., 28.)\n",
    "    },\n",
    "    51 : {\n",
    "        't': (4., 5.5), \n",
    "        's': (34.25, 35.),\n",
    "        'd': (27.2, 27.7)\n",
    "    }\n",
    "}\n",
    "\n",
    "\n",
    "north = {\n",
    "    12 : {\n",
    "        't': (10.7, 11.7), \n",
    "        's': (35.35, 35.5),\n",
    "        'd': (26.9, 27.3)\n",
    "    },\n",
    "    25 : {\n",
    "        't': (10., 15.), \n",
    "        's': (35.3, 35.7),\n",
    "        'd': (26.2, 27.2)\n",
    "    },\n",
    "    38 : {\n",
    "        't': (11., 16.), \n",
    "        's': (35.3, 35.7),\n",
    "        'd': (26., 28.)\n",
    "    },\n",
    "    51 : {\n",
    "        't': (11., 13.), \n",
    "        's': (35.45, 35.65),\n",
    "        'd': (26.8, 27.2)\n",
    "    }\n",
    "}\n",
    "\n",
    "\n",
    "mld_lines = {\n",
    "    'MLDa' : {\n",
    "        'color' : 'k',\n",
    "        'linestyle' :'solid', \n",
    "        'linewidth' : 3\n",
    "    },\n",
    "    'MLDf' : {\n",
    "        'color' : 'm', \n",
    "        'linestyle' : 'solid', \n",
    "        'linewidth' : 3\n",
    "    },\n",
    "    'MLDv' : {\n",
    "        'color' : 'c', \n",
    "        'linestyle' : 'solid', \n",
    "        'linewidth' : 1\n",
    "    },\n",
    "    'MLDint' : {\n",
    "        'color' : 'r', \n",
    "        'linestyle' : 'dashdot', \n",
    "        'linewidth' : 2\n",
    "    }\n",
    "}"
   ]
  },
  {
   "cell_type": "code",
   "execution_count": 3,
   "metadata": {},
   "outputs": [],
   "source": [
    "################################################################################\n",
    "########    FUNCTIONS\n",
    "################################################################################\n",
    "\n",
    "## Function to make the (x,y)-> (lon,lat) grid\n",
    "def Grid(data_set):\n",
    "    \"\"\"\n",
    "        Grid is a function that creates a rectangular grid using as x a longitude\n",
    "        array and for y a latitude array.\n",
    "        \n",
    "        Parameters:\n",
    "        ------------\n",
    "            \n",
    "        data_set : DataArray\n",
    "            Is the dataset from which we will plot the histogram.\n",
    "        \n",
    "        Output:\n",
    "        -------\n",
    "        (x, y) : n-arrays\n",
    "            Arrays that correspond for each (lon,lat) point\n",
    "    \"\"\"\n",
    "    x = data_set.longitude\n",
    "    y = data_set.latitude\n",
    "    \n",
    "    x, y = np.meshgrid(x, y)\n",
    "    return(x, y)\n",
    "\n",
    "\n",
    "\n",
    "## Function to crop the dataset\n",
    "def Crops(coord, d_set):\n",
    "    \"\"\"\n",
    "        Crops is a function that takes a data set and crops it into smaller\n",
    "        region, using as parameters the values given by the dictionary \n",
    "        reg_ext.\n",
    "        \n",
    "        Parameters:\n",
    "        ------------\n",
    "            \n",
    "        coord : string\n",
    "            Key value that identifies the region to obtain\n",
    "        \n",
    "        d_set : DataArray\n",
    "            Dataset to be cropped\n",
    "        \n",
    "        Output:\n",
    "        -------\n",
    "        new_ds : DataArray\n",
    "            New data array corresponding to the region stated by 'coord'\n",
    "    \"\"\"\n",
    "    \n",
    "    lon1, lon2 = reg_ext[coord]['lon']\n",
    "    lat1, lat2 = reg_ext[coord]['lat']\n",
    "    name_fig = reg_ext[coord]['name']\n",
    "    \n",
    "    new_ds = d_set.sel(longitude=slice(lon1, lon2), latitude=slice(lat1, lat2))\n",
    "    return(new_ds)\n",
    "\n",
    "\n",
    "def Limits(dictionary, t):\n",
    "    a = dictionary[t]['t']\n",
    "    b = dictionary[t]['s']\n",
    "    c = dictionary[t]['d']\n",
    "    \n",
    "    return(a, b, c)\n",
    "\n",
    "def Convert(data_set, t=None):\n",
    "    dep = - data_set.depth\n",
    "    sal = data_set.so.values\n",
    "    tem = data_set.to.values\n",
    "    lon = float(data_set.longitude.values)\n",
    "    lat = float(data_set.latitude.values)\n",
    "    \n",
    "    # Pressure -> depth latitudde\n",
    "    pr = gsw.p_from_z(dep, lat)\n",
    "    sa = gsw.conversions.SA_from_SP(sal, pr, lon, lat)\n",
    "    ct = gsw.conversions.CT_from_t(sa, tem, pr)\n",
    "    ds = gsw.density.sigma0(sa, ct)\n",
    "\n",
    "    return(dep, sa, ct, ds, pr)\n",
    "\n",
    "\n",
    "def New_density(tem_10, sal_10, pss_10):\n",
    "    pot_10 = gsw.pt0_from_t(sal_10, tem_10, pss_10)\n",
    "    dpt = pot_10 - 0.2\n",
    "\n",
    "    tem_02 = gsw.conversions.CT_from_pt(sal_10, dpt)\n",
    "    ds_02 = gsw.density.sigma0(sal_10, tem_02)\n",
    "\n",
    "    return (ds_02, tem_02)\n",
    "\n",
    "\n",
    "def Point(data_set, coord):\n",
    "    point = data_set.sel(longitude=points[coord]['lon'], \n",
    "           latitude=points[coord]['lat'], method='nearest')\n",
    "    return(point)\n",
    "\n",
    "\n",
    "#Function to calculate MLD, according to a threshold value\n",
    "def ML_depth(depth, density, delta):\n",
    "\n",
    "    for i in range(2, len(density)):\n",
    "        diff = density[i] - density[1]\n",
    "        if (diff >= delta):\n",
    "            return(float(depth[i]), i)\n",
    "            break\n",
    "\n",
    "            \n",
    "\n",
    "def Densities_delta(den, tem, sal, pss, t):\n",
    "    # Calculating the density at dT = 0.2 degrees\n",
    "    # pot temp_10, sal_10m -> New density at dT = 0.2\n",
    "    den10 = den[1]\n",
    "    tem10 = tem[1]\n",
    "    sal10 = sal[1]\n",
    "    pre10 = pre[1]\n",
    "\n",
    "    den02, tem02 = New_density(tem10, sal10, pre10)\n",
    "    dDv = den02 - den10\n",
    "    \n",
    "    return(den02, dDv)"
   ]
  },
  {
   "cell_type": "code",
   "execution_count": 4,
   "metadata": {},
   "outputs": [],
   "source": [
    "################ PLOTS\n",
    "## dep, tem, sal, ds_g\n",
    "\n",
    "def Plot_density(ax, dep, tem, sal, den, depth, t=None, name=None, **mld_values):\n",
    "    \"\"\"\n",
    "        Plot_density is a function that plots the vertical profiles of\n",
    "        density, temperature and salinity. It also draws horizontal lines\n",
    "        indicating the position of the MLD, given the values.    \n",
    "        \n",
    "        Parameters:\n",
    "        ------------\n",
    "            \n",
    "        ax : axes.Axes object\n",
    "            Current axes in which we make the draw.\n",
    "            \n",
    "        dep : Array\n",
    "            Array with the depth coordinates. Positive going upwards.\n",
    "        \n",
    "        tem : Array\n",
    "            Temperature [oC] profile values.\n",
    "        \n",
    "        sal : Array\n",
    "            Salinity [PSU] profile values.\n",
    "        \n",
    "        depth : float\n",
    "            Limit on y-axis.\n",
    "        \n",
    "        t : int\n",
    "            Number of week that corresponds to the plot. This value works together\n",
    "            with the function 'Limits(reg_name, t)', retrieving the correct axis\n",
    "            limits. If None, the axis imits are automatically set.\n",
    "        \n",
    "        name : string\n",
    "            Saving name for the output plot. It is recomended to include the path of \n",
    "            objective directory. If None, the plot is not saved, and just shown. \n",
    "        \n",
    "        mld_values : float [kwarg]\n",
    "            Is the list of the MLD estimations. To draw horizontal lines.\n",
    "            \n",
    "    \"\"\"\n",
    "    lims_t = (np.nanmin(tem[0:14])-0.5, np.nanmax(tem[0:14])+0.5)\n",
    "    lims_s = (np.nanmin(sal[0:14])-0.05, np.nanmax(sal[0:14])+0.05)\n",
    "    lims_d = (np.nanmin(den[0:14])-0.1, np.nanmax(den[0:14])+0.1)\n",
    "    \n",
    "    # Temperature\n",
    "    color = 'orange'\n",
    "    ax.set_xlabel('Temperature [$^o$C]', color=color)\n",
    "    ax.set_ylabel('Depth [m]')\n",
    "    ax.plot(tem, dep, color=color)\n",
    "    ax.tick_params(axis='x', labelcolor=color)\n",
    "    ax.set_xlim(lims_t)\n",
    "    \n",
    "    #xmin = tem.min(skipna=True).values\n",
    "    #xmax = tem.max(skipna=True).values\n",
    "    \n",
    "    for mld, v in mld_values.items(): \n",
    "        cl = mld_lines[mld]['color']\n",
    "        ls = mld_lines[mld]['linestyle']\n",
    "        lw = mld_lines[mld]['linewidth']\n",
    "        ax.hlines(v, lims_t[0], lims_t[1], colors=cl, linestyles=ls, linewidths=lw )\n",
    "\n",
    "    # Salinity\n",
    "    color = 'blue'\n",
    "    ax2 = ax.twiny()\n",
    "    ax2.set_xlabel('Salinity [PSU]', color=color)  \n",
    "    ax2.plot(sal, dep, color=color)\n",
    "    ax2.tick_params(axis='x', labelcolor=color)\n",
    "    ax2.set_xlim(lims_s)\n",
    "    \n",
    "    # Density\n",
    "    color = 'green'\n",
    "    ax3 = ax.twiny()\n",
    "    ax3.set_xlabel('Density [kg m$^{-3}$]', color=color)\n",
    "    ax3.plot(den, dep, color=color)\n",
    "    ax3.spines[\"top\"].set_position((\"axes\", 1.10))\n",
    "    ax3.tick_params(axis='x', labelcolor=color)\n",
    "    ax3.set_xlim(lims_d)\n",
    "    \n",
    "    plt.ylim(depth, 0)\n",
    "    fig.tight_layout()  # otherwise the right y-label is slightly clipped\n",
    "\n",
    "    if name:\n",
    "        plt.savefig(name)\n",
    "        "
   ]
  },
  {
   "cell_type": "code",
   "execution_count": 5,
   "metadata": {},
   "outputs": [],
   "source": [
    "def Year_sel(data_set, yr):\n",
    "    \"\"\"\n",
    "        Year_sel slects an specific year from a dataset.  \n",
    "        \n",
    "        Parameters:\n",
    "        ------------\n",
    "            \n",
    "        data_set : DataArray\n",
    "            Array from we extract the year.\n",
    "        \n",
    "        yr : int\n",
    "            Number of the year we want \n",
    "        \n",
    "        Output:\n",
    "        ------------\n",
    "        y : dataArray\n",
    "            DataArray containing only the data corresponding to yr\n",
    "            \n",
    "    \"\"\"\n",
    "    cond = data_set.time.dt.year.isin([yr])\n",
    "    y = data_set.sel(time=cond)\n",
    "    \n",
    "    return(y)\n",
    "\n",
    "def Point_sel(data_set, lon, lat, isel=True):\n",
    "    \"\"\"\n",
    "        Point_sel selects a point given the latitude and longitude, or the \n",
    "        index of the array. The default function is using isel. If sel() wants\n",
    "        to be used, the nearest method is used to select the point.\n",
    "        \n",
    "        \n",
    "        Parameters:\n",
    "        ------------\n",
    "            \n",
    "        data_set : DataArray\n",
    "            Array from we extract the year.\n",
    "        \n",
    "        lon : float\n",
    "            Coordinate for longitude.\n",
    "        \n",
    "        lat : float\n",
    "            Coordinate for latitude.\n",
    "        \n",
    "        Output:\n",
    "        ------------\n",
    "        p : dataArray\n",
    "            DataArray containing only the data corresponding to (lon, lat)\n",
    "            \n",
    "    \"\"\"\n",
    "    if isel:\n",
    "        p = data_set.isel(longitude=lon, latitude=lat)\n",
    "    else:\n",
    "        p = data_set.sel(longitude=lon, latitude=lat, method='nearest')\n",
    "    \n",
    "    return(p)\n",
    "\n",
    "\n",
    "def Inversion(den):\n",
    "    \"\"\"\n",
    "        Inversion is a function that evaluates if the vertical profile in a\n",
    "        grid point contains a density inversion. The criterion used here is\n",
    "        that the density at 10m is greater or equal to 0.05kg/m3.\n",
    "        \n",
    "        Parameters:\n",
    "        ------------\n",
    "            \n",
    "        den : DataArray\n",
    "            Density array.\n",
    "        \n",
    "        \n",
    "        Output:\n",
    "        ------------\n",
    "        0/1 : integer\n",
    "            Returns 0 if no inversion found.\n",
    "            Returns 1 is an inversion is found.\n",
    "            \n",
    "    \"\"\"\n",
    "    eps = 0.1\n",
    "    l = 2\n",
    "    diff = 0.01\n",
    "    \n",
    "    while diff <= eps:\n",
    "        diff = den[1] - den[l]\n",
    "        l += 1\n",
    "        \n",
    "        if l == 13:\n",
    "            #print(l, diff)\n",
    "            return(0)\n",
    "            break\n",
    "            \n",
    "    #print(l, diff)\n",
    "    return(1)\n",
    "    \n",
    "    #for l in range(2, 14):\n",
    "    #    diff = den[1]- den[l]\n",
    "    #    if diff >= eps:\n",
    "    #        print(l, diff, den[1], den[l])\n",
    "    #        return(1)\n",
    "    #        break\n",
    "    \n",
    "        \n",
    "        \n",
    "    "
   ]
  },
  {
   "cell_type": "code",
   "execution_count": 6,
   "metadata": {},
   "outputs": [
    {
     "name": "stderr",
     "output_type": "stream",
     "text": [
      "/venv/py3-phyocean/lib/python3.6/site-packages/ipykernel_launcher.py:9: FutureWarning: In xarray version 0.15 the default behaviour of `open_mfdataset`\n",
      "will change. To retain the existing behavior, pass\n",
      "combine='nested'. To use future default behavior, pass\n",
      "combine='by_coords'. See\n",
      "http://xarray.pydata.org/en/stable/combining.html#combining-multi\n",
      "\n",
      "  if __name__ == '__main__':\n",
      "/venv/py3-phyocean/lib/python3.6/site-packages/xarray/backends/api.py:933: FutureWarning: The datasets supplied have global dimension coordinates. You may want\n",
      "to use the new `combine_by_coords` function (or the\n",
      "`combine='by_coords'` option to `open_mfdataset`) to order the datasets\n",
      "before concatenation. Alternatively, to continue concatenating based\n",
      "on the order the datasets are supplied in future, please use the new\n",
      "`combine_nested` function (or the `combine='nested'` option to\n",
      "open_mfdataset).\n",
      "  from_openmfds=True,\n"
     ]
    }
   ],
   "source": [
    "###############################################################################\n",
    "###########         MAIN PROGRAM\n",
    "###############################################################################\n",
    "\n",
    "dir_1 = '../../data_ARMOR/'\n",
    "dir_2 = '../Vertical-prof/'\n",
    "fl_n1 = 'ARMOR_*.nc'\n",
    "\n",
    "c_armor = xr.open_mfdataset(dir_1 + fl_n1)\n",
    "\n",
    "## Selected points in the regions\n",
    "### Gulf S: (60W, 35N)\n",
    "### Lab -I: (50W, 55N)\n",
    "### Nor E: (17.5W, 52.5N)\n",
    "\n",
    "gl = Crops('gul', c_armor)\n",
    "lb = Crops('lab', c_armor)\n",
    "nr = Crops('noe', c_armor)"
   ]
  },
  {
   "cell_type": "code",
   "execution_count": 7,
   "metadata": {},
   "outputs": [],
   "source": [
    "# Time step we work on:: 12, 25, 38, 51\n",
    "p_gl = Point(gl, 'gul')\n",
    "place = gulf\n",
    "t = 12\n"
   ]
  },
  {
   "cell_type": "code",
   "execution_count": null,
   "metadata": {},
   "outputs": [],
   "source": []
  },
  {
   "cell_type": "code",
   "execution_count": null,
   "metadata": {
    "jupyter": {
     "source_hidden": true
    }
   },
   "outputs": [],
   "source": [
    "# Convert(data_set, t) -> (dep, sal, tem, den, temp_pot)\n",
    "dep, sal, tem, den, pre = Convert(p_gl, t)\n",
    "\n",
    "## Calculating the deltas\n",
    "dn02_gl, Ddv_gl = Densities_delta(den, tem, sal, pre, t)\n",
    "Ddf_gl = 0.03\n",
    "\n",
    "MLD_a = p_gl.mlotst[t].values\n",
    "MLD_f, jf = ML_depth(dep, den, Ddf_gl)\n",
    "MLD_v, jv = ML_depth(dep, den, Ddv_gl)\n",
    "\n",
    "# Calculating depth from density :: Interpolation\n",
    "x = den[jv-1:jv+2]\n",
    "y = dep[jv-1:jv+2]\n",
    "dep_dens = interpolate.interp1d(x, y, kind='linear')\n",
    "\n",
    "MLD_int = dep_dens(dn02_gl)\n",
    "print(\"MDL by ARMOR: % 5.2f\" %(MLD_a))\n",
    "print(\"MDL fixed: % 5.2f\" %(MLD_f))\n",
    "print(\"MDL by variable: % 5.2f\" %(MLD_v))\n",
    "print(\"MDL by variable+interpolation: % 5.2f\" %(MLD_int))\n",
    "\n",
    "\n",
    "mld_values =  {'MLDa' : - MLD_a, 'MLDf' : MLD_f, 'MLDv' : MLD_v, 'MLDint' : MLD_int}\n",
    "\n",
    "## reg_name:: gulf, labrador, north\n",
    "\n",
    "## Making plot\n",
    "#name_fig = dir_2 + 'Gulf-'+ str(t)+'.png'"
   ]
  },
  {
   "cell_type": "code",
   "execution_count": null,
   "metadata": {},
   "outputs": [],
   "source": [
    "fig, ax = plt.subplots(nrows=1, ncols=1, figsize=(4, 9))\n",
    "Plot_density(ax, dep, tem, sal, den, -500., t=None, name=None, **mld_values)\n",
    "\n",
    "plt.show()"
   ]
  },
  {
   "cell_type": "markdown",
   "metadata": {},
   "source": [
    "## Selecting the anomalous point: (50W, 42N)"
   ]
  },
  {
   "cell_type": "code",
   "execution_count": 8,
   "metadata": {},
   "outputs": [
    {
     "name": "stdout",
     "output_type": "stream",
     "text": [
      "-49.875 42.125\n"
     ]
    },
    {
     "data": {
      "text/html": [
       "<pre>&lt;xarray.Dataset&gt;\n",
       "Dimensions:    (depth: 33, time: 730)\n",
       "Coordinates:\n",
       "    longitude  float32 -49.875\n",
       "    latitude   float32 42.125\n",
       "  * depth      (depth) float64 0.0 10.0 20.0 30.0 ... 4.5e+03 5e+03 5.5e+03\n",
       "  * time       (time) datetime64[ns] 2005-01-05 2005-01-12 ... 2018-12-26\n",
       "Data variables:\n",
       "    mlotst     (time) float32 dask.array&lt;chunksize=(52,), meta=np.ndarray&gt;\n",
       "    so         (time, depth) float32 dask.array&lt;chunksize=(52, 33), meta=np.ndarray&gt;\n",
       "    to         (time, depth) float32 dask.array&lt;chunksize=(52, 33), meta=np.ndarray&gt;\n",
       "    ugo        (time, depth) float32 dask.array&lt;chunksize=(52, 33), meta=np.ndarray&gt;\n",
       "    vgo        (time, depth) float32 dask.array&lt;chunksize=(52, 33), meta=np.ndarray&gt;\n",
       "    zo         (time, depth) float32 dask.array&lt;chunksize=(52, 33), meta=np.ndarray&gt;\n",
       "Attributes:\n",
       "    CDI:          Climate Data Interface version ?? (http://mpimet.mpg.de/cdi)\n",
       "    Conventions:  CF-1.0\n",
       "    history:      Mon Mar  9 15:25:32 2020: ncks -d latitude,10.,85. -d longi...\n",
       "    institution:  CLS\n",
       "    description:  ARMOR3D REP CMEMS - April 2019 Release\n",
       "    title:        ARMOR3D REP - TSHUVMld Global Ocean Observation-based Product\n",
       "    domain_name:  GLO\n",
       "    CDO:          Climate Data Operators version 1.9.3 (http://mpimet.mpg.de/...\n",
       "    NCO:          4.7.2</pre>"
      ],
      "text/plain": [
       "<xarray.Dataset>\n",
       "Dimensions:    (depth: 33, time: 730)\n",
       "Coordinates:\n",
       "    longitude  float32 -49.875\n",
       "    latitude   float32 42.125\n",
       "  * depth      (depth) float64 0.0 10.0 20.0 30.0 ... 4.5e+03 5e+03 5.5e+03\n",
       "  * time       (time) datetime64[ns] 2005-01-05 2005-01-12 ... 2018-12-26\n",
       "Data variables:\n",
       "    mlotst     (time) float32 dask.array<chunksize=(52,), meta=np.ndarray>\n",
       "    so         (time, depth) float32 dask.array<chunksize=(52, 33), meta=np.ndarray>\n",
       "    to         (time, depth) float32 dask.array<chunksize=(52, 33), meta=np.ndarray>\n",
       "    ugo        (time, depth) float32 dask.array<chunksize=(52, 33), meta=np.ndarray>\n",
       "    vgo        (time, depth) float32 dask.array<chunksize=(52, 33), meta=np.ndarray>\n",
       "    zo         (time, depth) float32 dask.array<chunksize=(52, 33), meta=np.ndarray>\n",
       "Attributes:\n",
       "    CDI:          Climate Data Interface version ?? (http://mpimet.mpg.de/cdi)\n",
       "    Conventions:  CF-1.0\n",
       "    history:      Mon Mar  9 15:25:32 2020: ncks -d latitude,10.,85. -d longi...\n",
       "    institution:  CLS\n",
       "    description:  ARMOR3D REP CMEMS - April 2019 Release\n",
       "    title:        ARMOR3D REP - TSHUVMld Global Ocean Observation-based Product\n",
       "    domain_name:  GLO\n",
       "    CDO:          Climate Data Operators version 1.9.3 (http://mpimet.mpg.de/...\n",
       "    NCO:          4.7.2"
      ]
     },
     "execution_count": 8,
     "metadata": {},
     "output_type": "execute_result"
    }
   ],
   "source": [
    "## Here the dataset is gl!!\n",
    "\n",
    "lon = -50.\n",
    "lat = 42.\n",
    "dl = 0.25\n",
    "\n",
    "p0 = Point_sel(gl, lon, lat, isel=False)\n",
    "\n",
    "print(p0.longitude.values, p0.latitude.values)\n",
    "p0"
   ]
  },
  {
   "cell_type": "code",
   "execution_count": 9,
   "metadata": {},
   "outputs": [],
   "source": [
    "## selecting the year, as a check\n",
    "\n",
    "p0_2008 = Year_sel(p0, 2008)\n",
    "\n"
   ]
  },
  {
   "cell_type": "code",
   "execution_count": null,
   "metadata": {},
   "outputs": [],
   "source": []
  },
  {
   "cell_type": "markdown",
   "metadata": {},
   "source": [
    "# Checking in 2008"
   ]
  },
  {
   "cell_type": "markdown",
   "metadata": {},
   "source": [
    "## The points around the anomalous"
   ]
  },
  {
   "cell_type": "code",
   "execution_count": 10,
   "metadata": {},
   "outputs": [],
   "source": [
    "## So here, I have the coordinates of the center point p0. It is already selected\n",
    "## We are going to select other 4 points arrounf the central one, in the same year\n",
    "## to see how they are behaving. Also from here I should check the vertical profile.\n",
    "## This points contain all years.\n",
    "\n",
    "\n",
    "## Dataset filtered this region correspond to \n",
    "\n",
    "p1 = Point_sel(gl, lon, lat+dl, isel=False)\n",
    "p2 = Point_sel(gl, lon+dl, lat, isel=False)\n",
    "p3 = Point_sel(gl, lon, lat-dl, isel=False)\n",
    "p4 = Point_sel(gl, lon-dl, lat, isel=False)\n",
    "\n",
    "p0_2008 = Year_sel(p0, 2008)\n",
    "p1_2008 = Year_sel(p1, 2008)\n",
    "p2_2008 = Year_sel(p2, 2008)\n",
    "p3_2008 = Year_sel(p3, 2008)\n",
    "p4_2008 = Year_sel(p4, 2008)"
   ]
  },
  {
   "cell_type": "code",
   "execution_count": 11,
   "metadata": {},
   "outputs": [
    {
     "data": {
      "text/plain": [
       "array(356.30005, dtype=float32)"
      ]
     },
     "execution_count": 11,
     "metadata": {},
     "output_type": "execute_result"
    }
   ],
   "source": [
    "p0_2008.mlotst[10].values"
   ]
  },
  {
   "cell_type": "code",
   "execution_count": 12,
   "metadata": {},
   "outputs": [],
   "source": [
    "t0 = p0_2008.mlotst.argmax(dim='time', skipna=True).values"
   ]
  },
  {
   "cell_type": "code",
   "execution_count": 13,
   "metadata": {},
   "outputs": [
    {
     "data": {
      "text/plain": [
       "array(500.)"
      ]
     },
     "execution_count": 13,
     "metadata": {},
     "output_type": "execute_result"
    }
   ],
   "source": [
    "p0_2008.depth[13].values"
   ]
  },
  {
   "cell_type": "code",
   "execution_count": null,
   "metadata": {},
   "outputs": [],
   "source": []
  },
  {
   "cell_type": "markdown",
   "metadata": {},
   "source": [
    "## Making a mask for the density inversions"
   ]
  },
  {
   "cell_type": "code",
   "execution_count": null,
   "metadata": {},
   "outputs": [],
   "source": []
  },
  {
   "cell_type": "code",
   "execution_count": 15,
   "metadata": {},
   "outputs": [
    {
     "name": "stdout",
     "output_type": "stream",
     "text": [
      "120 60\n"
     ]
    }
   ],
   "source": [
    "nt = gl.time.size\n",
    "nlon = gl.longitude.size\n",
    "nlat = gl.latitude.size\n",
    "\n",
    "inv = np.empty((nt, nlon, nlat))\n",
    "print(nlon, nlat)"
   ]
  },
  {
   "cell_type": "code",
   "execution_count": 16,
   "metadata": {},
   "outputs": [],
   "source": [
    "point = gl.isel(longitude=6, latitude=5)"
   ]
  },
  {
   "cell_type": "code",
   "execution_count": null,
   "metadata": {},
   "outputs": [],
   "source": [
    "# Convert(data_set, t) -> (dep, sal, tem, den, temp_pot)\n",
    "\n",
    "#for ti in range(nt):\n",
    "#    print(ti)\n",
    "#    for lo in range(nlon):\n",
    "#        for la in range(nlat):\n",
    "#            point = Point_sel(gl, lo, la, isel=True)\n",
    "#            dep, sal, tem, den, pre = Convert(point, ti)\n",
    "#            inv[ti,lo,la] = Inversion(dep)#\n",
    "#\n",
    "#            del den\n",
    "#            del sal\n",
    "#            del tem\n",
    "#            del pre"
   ]
  },
  {
   "cell_type": "code",
   "execution_count": null,
   "metadata": {},
   "outputs": [],
   "source": []
  },
  {
   "cell_type": "code",
   "execution_count": null,
   "metadata": {},
   "outputs": [],
   "source": []
  },
  {
   "cell_type": "code",
   "execution_count": null,
   "metadata": {},
   "outputs": [],
   "source": []
  },
  {
   "cell_type": "markdown",
   "metadata": {},
   "source": [
    "## Masking using percentiles"
   ]
  },
  {
   "cell_type": "code",
   "execution_count": 19,
   "metadata": {},
   "outputs": [
    {
     "name": "stderr",
     "output_type": "stream",
     "text": [
      "/venv/py3-phyocean/lib/python3.6/site-packages/dask/array/core.py:1333: FutureWarning: The `numpy.nanpercentile` function is not implemented by Dask array. You may want to use the da.map_blocks function or something similar to silence this warning. Your code may stop working in a future release.\n",
      "  FutureWarning,\n",
      "/venv/py3-phyocean/lib/python3.6/site-packages/dask/array/numpy_compat.py:40: RuntimeWarning: invalid value encountered in true_divide\n",
      "  x = np.divide(x1, x2, out)\n",
      "/venv/py3-phyocean/lib/python3.6/site-packages/dask/array/numpy_compat.py:40: RuntimeWarning: invalid value encountered in true_divide\n",
      "  x = np.divide(x1, x2, out)\n",
      "/venv/py3-phyocean/lib/python3.6/site-packages/dask/core.py:119: RuntimeWarning: invalid value encountered in greater_equal\n",
      "  return func(*args2)\n",
      "/venv/py3-phyocean/lib/python3.6/site-packages/dask/array/numpy_compat.py:40: RuntimeWarning: invalid value encountered in true_divide\n",
      "  x = np.divide(x1, x2, out)\n"
     ]
    },
    {
     "name": "stdout",
     "output_type": "stream",
     "text": [
      "<xarray.DataArray 'mlotst' ()>\n",
      "array(133.73160919)\n"
     ]
    },
    {
     "name": "stderr",
     "output_type": "stream",
     "text": [
      "/venv/py3-phyocean/lib/python3.6/site-packages/dask/core.py:119: RuntimeWarning: invalid value encountered in greater_equal\n",
      "  return func(*args2)\n"
     ]
    }
   ],
   "source": [
    "percents = gl.mlotst.std(dim='time').reduce(np.nanpercentile, \n",
    "                                              q=98, dim=('longitude', 'latitude'))\n",
    "\n",
    "mask_i = 1 * np.ones((gl.dims['latitude'], \n",
    "                    gl.dims['longitude'])) * (gl.mlotst.std(dim='time') >= percents) \n",
    "gl.coords['mask_i'] = (('latitude', 'longitude'), mask_i)\n",
    "\n",
    "print(percents)"
   ]
  },
  {
   "cell_type": "code",
   "execution_count": 18,
   "metadata": {},
   "outputs": [
    {
     "data": {
      "text/plain": [
       "<matplotlib.collections.QuadMesh at 0x7f7b143a9390>"
      ]
     },
     "execution_count": 18,
     "metadata": {},
     "output_type": "execute_result"
    },
    {
     "data": {
      "image/png": "[encoded data removed]",
      "text/plain": [
       "<Figure size 432x288 with 2 Axes>"
      ]
     },
     "metadata": {
      "needs_background": "light"
     },
     "output_type": "display_data"
    }
   ],
   "source": [
    "spurious = gl.where(gl.mask_i==1)\n",
    "\n",
    "spurious.mlotst[0].plot()"
   ]
  },
  {
   "cell_type": "code",
   "execution_count": null,
   "metadata": {},
   "outputs": [],
   "source": []
  },
  {
   "cell_type": "code",
   "execution_count": 30,
   "metadata": {},
   "outputs": [
    {
     "data": {
      "text/html": [
       "<pre>&lt;xarray.Dataset&gt;\n",
       "Dimensions:    (depth: 33, latitude: 4, longitude: 4)\n",
       "Coordinates:\n",
       "  * longitude  (longitude) float32 -46.875 -46.625 -46.375 -46.125\n",
       "  * latitude   (latitude) float32 41.125 41.375 41.625 41.875\n",
       "  * depth      (depth) float64 0.0 10.0 20.0 30.0 ... 4.5e+03 5e+03 5.5e+03\n",
       "    mask_i     (latitude, longitude) float64 1.0 1.0 1.0 0.0 ... 1.0 0.0 0.0 0.0\n",
       "Data variables:\n",
       "    mlotst     (latitude, longitude) float32 dask.array&lt;chunksize=(4, 4), meta=np.ndarray&gt;\n",
       "    so         (depth, latitude, longitude) float32 dask.array&lt;chunksize=(33, 4, 4), meta=np.ndarray&gt;\n",
       "    to         (depth, latitude, longitude) float32 dask.array&lt;chunksize=(33, 4, 4), meta=np.ndarray&gt;\n",
       "    ugo        (depth, latitude, longitude) float32 dask.array&lt;chunksize=(33, 4, 4), meta=np.ndarray&gt;\n",
       "    vgo        (depth, latitude, longitude) float32 dask.array&lt;chunksize=(33, 4, 4), meta=np.ndarray&gt;\n",
       "    zo         (depth, latitude, longitude) float32 dask.array&lt;chunksize=(33, 4, 4), meta=np.ndarray&gt;</pre>"
      ],
      "text/plain": [
       "<xarray.Dataset>\n",
       "Dimensions:    (depth: 33, latitude: 4, longitude: 4)\n",
       "Coordinates:\n",
       "  * longitude  (longitude) float32 -46.875 -46.625 -46.375 -46.125\n",
       "  * latitude   (latitude) float32 41.125 41.375 41.625 41.875\n",
       "  * depth      (depth) float64 0.0 10.0 20.0 30.0 ... 4.5e+03 5e+03 5.5e+03\n",
       "    mask_i     (latitude, longitude) float64 1.0 1.0 1.0 0.0 ... 1.0 0.0 0.0 0.0\n",
       "Data variables:\n",
       "    mlotst     (latitude, longitude) float32 dask.array<chunksize=(4, 4), meta=np.ndarray>\n",
       "    so         (depth, latitude, longitude) float32 dask.array<chunksize=(33, 4, 4), meta=np.ndarray>\n",
       "    to         (depth, latitude, longitude) float32 dask.array<chunksize=(33, 4, 4), meta=np.ndarray>\n",
       "    ugo        (depth, latitude, longitude) float32 dask.array<chunksize=(33, 4, 4), meta=np.ndarray>\n",
       "    vgo        (depth, latitude, longitude) float32 dask.array<chunksize=(33, 4, 4), meta=np.ndarray>\n",
       "    zo         (depth, latitude, longitude) float32 dask.array<chunksize=(33, 4, 4), meta=np.ndarray>"
      ]
     },
     "execution_count": 30,
     "metadata": {},
     "output_type": "execute_result"
    }
   ],
   "source": [
    "\n",
    "smally = gl.sel(longitude=slice(-47, -46), latitude=slice(41,42)).mean(dim='time')\n",
    "\n",
    "nt = 26\n",
    "nlon = 4\n",
    "nlat = 4\n",
    "\n",
    "smally"
   ]
  },
  {
   "cell_type": "code",
   "execution_count": 31,
   "metadata": {
    "collapsed": true,
    "jupyter": {
     "outputs_hidden": true
    }
   },
   "outputs": [
    {
     "name": "stdout",
     "output_type": "stream",
     "text": [
      "4 4\n",
      "0\n"
     ]
    },
    {
     "name": "stderr",
     "output_type": "stream",
     "text": [
      "/venv/py3-phyocean/lib/python3.6/site-packages/dask/array/numpy_compat.py:40: RuntimeWarning: invalid value encountered in true_divide\n",
      "  x = np.divide(x1, x2, out)\n",
      "/venv/py3-phyocean/lib/python3.6/site-packages/dask/array/numpy_compat.py:40: RuntimeWarning: invalid value encountered in true_divide\n",
      "  x = np.divide(x1, x2, out)\n",
      "/venv/py3-phyocean/lib/python3.6/site-packages/dask/array/numpy_compat.py:40: RuntimeWarning: invalid value encountered in true_divide\n",
      "  x = np.divide(x1, x2, out)\n",
      "/venv/py3-phyocean/lib/python3.6/site-packages/dask/array/numpy_compat.py:40: RuntimeWarning: invalid value encountered in true_divide\n",
      "  x = np.divide(x1, x2, out)\n",
      "/venv/py3-phyocean/lib/python3.6/site-packages/dask/array/numpy_compat.py:40: RuntimeWarning: invalid value encountered in true_divide\n",
      "  x = np.divide(x1, x2, out)\n",
      "/venv/py3-phyocean/lib/python3.6/site-packages/dask/array/numpy_compat.py:40: RuntimeWarning: invalid value encountered in true_divide\n",
      "  x = np.divide(x1, x2, out)\n",
      "/venv/py3-phyocean/lib/python3.6/site-packages/dask/array/numpy_compat.py:40: RuntimeWarning: invalid value encountered in true_divide\n",
      "  x = np.divide(x1, x2, out)\n",
      "/venv/py3-phyocean/lib/python3.6/site-packages/dask/array/numpy_compat.py:40: RuntimeWarning: invalid value encountered in true_divide\n",
      "  x = np.divide(x1, x2, out)\n"
     ]
    },
    {
     "name": "stdout",
     "output_type": "stream",
     "text": [
      "1\n"
     ]
    },
    {
     "name": "stderr",
     "output_type": "stream",
     "text": [
      "/venv/py3-phyocean/lib/python3.6/site-packages/dask/array/numpy_compat.py:40: RuntimeWarning: invalid value encountered in true_divide\n",
      "  x = np.divide(x1, x2, out)\n",
      "/venv/py3-phyocean/lib/python3.6/site-packages/dask/array/numpy_compat.py:40: RuntimeWarning: invalid value encountered in true_divide\n",
      "  x = np.divide(x1, x2, out)\n",
      "/venv/py3-phyocean/lib/python3.6/site-packages/dask/array/numpy_compat.py:40: RuntimeWarning: invalid value encountered in true_divide\n",
      "  x = np.divide(x1, x2, out)\n",
      "/venv/py3-phyocean/lib/python3.6/site-packages/dask/array/numpy_compat.py:40: RuntimeWarning: invalid value encountered in true_divide\n",
      "  x = np.divide(x1, x2, out)\n",
      "/venv/py3-phyocean/lib/python3.6/site-packages/dask/array/numpy_compat.py:40: RuntimeWarning: invalid value encountered in true_divide\n",
      "  x = np.divide(x1, x2, out)\n",
      "/venv/py3-phyocean/lib/python3.6/site-packages/dask/array/numpy_compat.py:40: RuntimeWarning: invalid value encountered in true_divide\n",
      "  x = np.divide(x1, x2, out)\n",
      "/venv/py3-phyocean/lib/python3.6/site-packages/dask/array/numpy_compat.py:40: RuntimeWarning: invalid value encountered in true_divide\n",
      "  x = np.divide(x1, x2, out)\n",
      "/venv/py3-phyocean/lib/python3.6/site-packages/dask/array/numpy_compat.py:40: RuntimeWarning: invalid value encountered in true_divide\n",
      "  x = np.divide(x1, x2, out)\n"
     ]
    },
    {
     "name": "stdout",
     "output_type": "stream",
     "text": [
      "2\n"
     ]
    },
    {
     "name": "stderr",
     "output_type": "stream",
     "text": [
      "/venv/py3-phyocean/lib/python3.6/site-packages/dask/array/numpy_compat.py:40: RuntimeWarning: invalid value encountered in true_divide\n",
      "  x = np.divide(x1, x2, out)\n",
      "/venv/py3-phyocean/lib/python3.6/site-packages/dask/array/numpy_compat.py:40: RuntimeWarning: invalid value encountered in true_divide\n",
      "  x = np.divide(x1, x2, out)\n",
      "/venv/py3-phyocean/lib/python3.6/site-packages/dask/array/numpy_compat.py:40: RuntimeWarning: invalid value encountered in true_divide\n",
      "  x = np.divide(x1, x2, out)\n",
      "/venv/py3-phyocean/lib/python3.6/site-packages/dask/array/numpy_compat.py:40: RuntimeWarning: invalid value encountered in true_divide\n",
      "  x = np.divide(x1, x2, out)\n",
      "/venv/py3-phyocean/lib/python3.6/site-packages/dask/array/numpy_compat.py:40: RuntimeWarning: invalid value encountered in true_divide\n",
      "  x = np.divide(x1, x2, out)\n",
      "/venv/py3-phyocean/lib/python3.6/site-packages/dask/array/numpy_compat.py:40: RuntimeWarning: invalid value encountered in true_divide\n",
      "  x = np.divide(x1, x2, out)\n",
      "/venv/py3-phyocean/lib/python3.6/site-packages/dask/array/numpy_compat.py:40: RuntimeWarning: invalid value encountered in true_divide\n",
      "  x = np.divide(x1, x2, out)\n",
      "/venv/py3-phyocean/lib/python3.6/site-packages/dask/array/numpy_compat.py:40: RuntimeWarning: invalid value encountered in true_divide\n",
      "  x = np.divide(x1, x2, out)\n"
     ]
    },
    {
     "name": "stdout",
     "output_type": "stream",
     "text": [
      "3\n"
     ]
    },
    {
     "name": "stderr",
     "output_type": "stream",
     "text": [
      "/venv/py3-phyocean/lib/python3.6/site-packages/dask/array/numpy_compat.py:40: RuntimeWarning: invalid value encountered in true_divide\n",
      "  x = np.divide(x1, x2, out)\n",
      "/venv/py3-phyocean/lib/python3.6/site-packages/dask/array/numpy_compat.py:40: RuntimeWarning: invalid value encountered in true_divide\n",
      "  x = np.divide(x1, x2, out)\n",
      "/venv/py3-phyocean/lib/python3.6/site-packages/dask/array/numpy_compat.py:40: RuntimeWarning: invalid value encountered in true_divide\n",
      "  x = np.divide(x1, x2, out)\n",
      "/venv/py3-phyocean/lib/python3.6/site-packages/dask/array/numpy_compat.py:40: RuntimeWarning: invalid value encountered in true_divide\n",
      "  x = np.divide(x1, x2, out)\n",
      "/venv/py3-phyocean/lib/python3.6/site-packages/dask/array/numpy_compat.py:40: RuntimeWarning: invalid value encountered in true_divide\n",
      "  x = np.divide(x1, x2, out)\n",
      "/venv/py3-phyocean/lib/python3.6/site-packages/dask/array/numpy_compat.py:40: RuntimeWarning: invalid value encountered in true_divide\n",
      "  x = np.divide(x1, x2, out)\n",
      "/venv/py3-phyocean/lib/python3.6/site-packages/dask/array/numpy_compat.py:40: RuntimeWarning: invalid value encountered in true_divide\n",
      "  x = np.divide(x1, x2, out)\n",
      "/venv/py3-phyocean/lib/python3.6/site-packages/dask/array/numpy_compat.py:40: RuntimeWarning: invalid value encountered in true_divide\n",
      "  x = np.divide(x1, x2, out)\n"
     ]
    }
   ],
   "source": [
    "# Convert(data_set, t) -> (dep, sal, tem, den, temp_pot)\n",
    "\n",
    "inv2 = np.empty((nlon, nlat))\n",
    "print(nlon, nlat)\n",
    "ti = 0\n",
    "#for ti in range(nt):\n",
    "#print(ti)\n",
    "for lo in range(nlon):\n",
    "    print(lo)\n",
    "    for la in range(nlat):\n",
    "        point = Point_sel(smally, lo, la, isel=True)\n",
    "        dep, sal, tem, den, pre = Convert(point, t=None)\n",
    "        inv2[lo, la] = Inversion(den)\n",
    "        del den\n",
    "        del sal\n",
    "        del tem\n",
    "        del pre\n"
   ]
  },
  {
   "cell_type": "code",
   "execution_count": null,
   "metadata": {},
   "outputs": [],
   "source": [
    "plt.close()\n",
    "x, y = Grid(smally)\n",
    "#for ti in range(nt):\n",
    "ii = plt.contourf(inv2, levels=np.linspace(0., 1., 3))\n",
    "plt.colorbar(ii)\n",
    "plt.title('inversions 1')\n",
    "plt.show()"
   ]
  },
  {
   "cell_type": "code",
   "execution_count": null,
   "metadata": {},
   "outputs": [],
   "source": [
    "P"
   ]
  },
  {
   "cell_type": "code",
   "execution_count": null,
   "metadata": {},
   "outputs": [],
   "source": []
  },
  {
   "cell_type": "code",
   "execution_count": null,
   "metadata": {},
   "outputs": [],
   "source": []
  },
  {
   "cell_type": "code",
   "execution_count": null,
   "metadata": {},
   "outputs": [],
   "source": []
  },
  {
   "cell_type": "markdown",
   "metadata": {},
   "source": [
    "##  Vertical profile of central point"
   ]
  },
  {
   "cell_type": "code",
   "execution_count": null,
   "metadata": {},
   "outputs": [],
   "source": [
    "p0 = p0_2008\n",
    "t0 = p0_2008.mlotst.argmax(dim='time', skipna=True).values\n",
    "print(t0)"
   ]
  },
  {
   "cell_type": "code",
   "execution_count": null,
   "metadata": {},
   "outputs": [],
   "source": [
    "# Convert(data_set, t) -> (dep, sal, tem, den, temp_pot)\n",
    "dep, sal, tem, den, pre = Convert(p0, t0)\n",
    "\n",
    "## Calculating the deltas\n",
    "dn02_gl, Ddv_gl = Densities_delta(den, tem, sal, pre, t0)\n",
    "Ddf_gl = 0.03\n",
    "\n",
    "MLD_a = p0.mlotst[t0].values\n",
    "MLD_f, jf = ML_depth(dep, den, Ddf_gl)\n",
    "MLD_v, jv = ML_depth(dep, den, Ddv_gl)\n",
    "\n",
    "# Calculating depth from density :: Interpolation\n",
    "x = den[jv-1:jv+2]\n",
    "y = dep[jv-1:jv+2]\n",
    "dep_dens = interpolate.interp1d(x, y, kind='linear')\n",
    "\n",
    "MLD_int = dep_dens(dn02_gl)\n",
    "print(\"MDL by ARMOR: % 5.2f\" %(MLD_a))\n",
    "print(\"MDL fixed: % 5.2f\" %(MLD_f))\n",
    "print(\"MDL by variable: % 5.2f\" %(MLD_v))\n",
    "print(\"MDL by variable+interpolation: % 5.2f\" %(MLD_int))\n",
    "\n",
    "\n",
    "mld_values =  {'MLDa' : - MLD_a, 'MLDf' : MLD_f, 'MLDv' : MLD_v, 'MLDint' : MLD_int}\n",
    "\n",
    "## reg_name:: gulf, labrador, north"
   ]
  },
  {
   "cell_type": "code",
   "execution_count": null,
   "metadata": {},
   "outputs": [],
   "source": [
    "## Making plot\n",
    "#name_fig = dir_2 + 'Gulf-'+ str(t)+'.png'\n",
    "\n",
    "plt.close()\n",
    "fig, ax = plt.subplots(nrows=1, ncols=1, figsize=(4, 9))\n",
    "Plot_density(ax, dep, tem, sal, den, -500., t=None, name=None, **mld_values)\n",
    "\n",
    "plt.show()"
   ]
  },
  {
   "cell_type": "code",
   "execution_count": null,
   "metadata": {},
   "outputs": [],
   "source": []
  },
  {
   "cell_type": "markdown",
   "metadata": {},
   "source": [
    "### Point up"
   ]
  },
  {
   "cell_type": "markdown",
   "metadata": {},
   "source": [
    "In this case, t is always the same than for the central point"
   ]
  },
  {
   "cell_type": "code",
   "execution_count": null,
   "metadata": {},
   "outputs": [],
   "source": [
    "p1 = p1_2008\n",
    "t1 = p0_2008.mlotst.argmax(dim='time', skipna=True).values\n",
    "print(t1)"
   ]
  },
  {
   "cell_type": "code",
   "execution_count": null,
   "metadata": {},
   "outputs": [],
   "source": [
    "# Convert(data_set, t) -> (dep, sal, tem, den, temp_pot)\n",
    "dep, sal, tem, den, pre = Convert(p1, t1)\n",
    "\n",
    "## Calculating the deltas\n",
    "dn02_gl, Ddv_gl = Densities_delta(den, tem, sal, pre, t1)\n",
    "Ddf_gl = 0.03\n",
    "\n",
    "MLD_a = p1.mlotst[t1].values\n",
    "MLD_f, jf = ML_depth(dep, den, Ddf_gl)\n",
    "MLD_v, jv = ML_depth(dep, den, Ddv_gl)\n",
    "\n",
    "# Calculating depth from density :: Interpolation\n",
    "x = den[jv-1:jv+2]\n",
    "y = dep[jv-1:jv+2]\n",
    "dep_dens = interpolate.interp1d(x, y, kind='linear')\n",
    "\n",
    "MLD_int = dep_dens(dn02_gl)\n",
    "print(\"MDL by ARMOR: % 5.2f\" %(MLD_a))\n",
    "print(\"MDL fixed: % 5.2f\" %(MLD_f))\n",
    "print(\"MDL by variable: % 5.2f\" %(MLD_v))\n",
    "print(\"MDL by variable+interpolation: % 5.2f\" %(MLD_int))\n",
    "\n",
    "\n",
    "mld_values =  {'MLDa' : - MLD_a, 'MLDf' : MLD_f, 'MLDv' : MLD_v, 'MLDint' : MLD_int}\n",
    "\n",
    "## reg_name:: gulf, labrador, north"
   ]
  },
  {
   "cell_type": "code",
   "execution_count": null,
   "metadata": {},
   "outputs": [],
   "source": [
    "## Making plot\n",
    "#name_fig = dir_2 + 'Gulf-'+ str(t)+'.png'\n",
    "\n",
    "plt.close()\n",
    "fig, ax = plt.subplots(nrows=1, ncols=1, figsize=(4, 9))\n",
    "Plot_density(ax, dep, tem, sal, den, -500., t=None, name=None, **mld_values)\n",
    "\n",
    "plt.show()"
   ]
  },
  {
   "cell_type": "code",
   "execution_count": null,
   "metadata": {},
   "outputs": [],
   "source": []
  },
  {
   "cell_type": "markdown",
   "metadata": {},
   "source": [
    "### Point rigth"
   ]
  },
  {
   "cell_type": "code",
   "execution_count": null,
   "metadata": {},
   "outputs": [],
   "source": []
  },
  {
   "cell_type": "code",
   "execution_count": null,
   "metadata": {},
   "outputs": [],
   "source": [
    "p1 = p2_2008\n",
    "t1 = p0_2008.mlotst.argmax(dim='time', skipna=True).values\n",
    "print(t1)"
   ]
  },
  {
   "cell_type": "code",
   "execution_count": null,
   "metadata": {},
   "outputs": [],
   "source": [
    "# Convert(data_set, t) -> (dep, sal, tem, den, temp_pot)\n",
    "dep, sal, tem, den, pre = Convert(p1, t1)\n",
    "\n",
    "## Calculating the deltas\n",
    "dn02_gl, Ddv_gl = Densities_delta(den, tem, sal, pre, t1)\n",
    "Ddf_gl = 0.03\n",
    "\n",
    "MLD_a = p1.mlotst[t1].values\n",
    "MLD_f, jf = ML_depth(dep, den, Ddf_gl)\n",
    "MLD_v, jv = ML_depth(dep, den, Ddv_gl)\n",
    "\n",
    "# Calculating depth from density :: Interpolation\n",
    "x = den[jv-1:jv+2]\n",
    "y = dep[jv-1:jv+2]\n",
    "dep_dens = interpolate.interp1d(x, y, kind='linear')\n",
    "\n",
    "MLD_int = dep_dens(dn02_gl)\n",
    "print(\"MDL by ARMOR: % 5.2f\" %(MLD_a))\n",
    "print(\"MDL fixed: % 5.2f\" %(MLD_f))\n",
    "print(\"MDL by variable: % 5.2f\" %(MLD_v))\n",
    "print(\"MDL by variable+interpolation: % 5.2f\" %(MLD_int))\n",
    "\n",
    "\n",
    "mld_values =  {'MLDa' : - MLD_a, 'MLDf' : MLD_f, 'MLDv' : MLD_v, 'MLDint' : MLD_int}\n",
    "\n",
    "## reg_name:: gulf, labrador, north"
   ]
  },
  {
   "cell_type": "code",
   "execution_count": null,
   "metadata": {},
   "outputs": [],
   "source": [
    "## Making plot\n",
    "#name_fig = dir_2 + 'Gulf-'+ str(t)+'.png'\n",
    "\n",
    "plt.close()\n",
    "fig, ax = plt.subplots(nrows=1, ncols=1, figsize=(4, 9))\n",
    "Plot_density(ax, dep, tem, sal, den, -500., t=None, name=None, **mld_values)\n",
    "\n",
    "plt.show()"
   ]
  },
  {
   "cell_type": "code",
   "execution_count": null,
   "metadata": {},
   "outputs": [],
   "source": []
  },
  {
   "cell_type": "markdown",
   "metadata": {},
   "source": [
    "### Point Down"
   ]
  },
  {
   "cell_type": "code",
   "execution_count": null,
   "metadata": {},
   "outputs": [],
   "source": []
  },
  {
   "cell_type": "code",
   "execution_count": null,
   "metadata": {},
   "outputs": [],
   "source": [
    "p1 = p3_2008\n",
    "t1 = p0_2008.mlotst.argmax(dim='time', skipna=True).values\n",
    "print(t1)"
   ]
  },
  {
   "cell_type": "code",
   "execution_count": null,
   "metadata": {},
   "outputs": [],
   "source": [
    "# Convert(data_set, t) -> (dep, sal, tem, den, temp_pot)\n",
    "dep, sal, tem, den, pre = Convert(p1, t1)\n",
    "\n",
    "## Calculating the deltas\n",
    "dn02_gl, Ddv_gl = Densities_delta(den, tem, sal, pre, t1)\n",
    "Ddf_gl = 0.03\n",
    "\n",
    "MLD_a = p1.mlotst[t1].values\n",
    "MLD_f, jf = ML_depth(dep, den, Ddf_gl)\n",
    "MLD_v, jv = ML_depth(dep, den, Ddv_gl)\n",
    "\n",
    "# Calculating depth from density :: Interpolation\n",
    "x = den[jv-1:jv+2]\n",
    "y = dep[jv-1:jv+2]\n",
    "dep_dens = interpolate.interp1d(x, y, kind='linear')\n",
    "\n",
    "MLD_int = dep_dens(dn02_gl)\n",
    "print(\"MDL by ARMOR: % 5.2f\" %(MLD_a))\n",
    "print(\"MDL fixed: % 5.2f\" %(MLD_f))\n",
    "print(\"MDL by variable: % 5.2f\" %(MLD_v))\n",
    "print(\"MDL by variable+interpolation: % 5.2f\" %(MLD_int))\n",
    "\n",
    "\n",
    "mld_values =  {'MLDa' : - MLD_a, 'MLDf' : MLD_f, 'MLDv' : MLD_v, 'MLDint' : MLD_int}\n",
    "\n",
    "## reg_name:: gulf, labrador, north"
   ]
  },
  {
   "cell_type": "code",
   "execution_count": null,
   "metadata": {},
   "outputs": [],
   "source": [
    "## Making plot\n",
    "#name_fig = dir_2 + 'Gulf-'+ str(t)+'.png'\n",
    "\n",
    "plt.close()\n",
    "fig, ax = plt.subplots(nrows=1, ncols=1, figsize=(4, 9))\n",
    "Plot_density(ax, dep, tem, sal, den, -600., t=None, name=None, **mld_values)\n",
    "\n",
    "plt.show()"
   ]
  },
  {
   "cell_type": "code",
   "execution_count": null,
   "metadata": {},
   "outputs": [],
   "source": []
  },
  {
   "cell_type": "markdown",
   "metadata": {},
   "source": [
    "### Point left"
   ]
  },
  {
   "cell_type": "code",
   "execution_count": null,
   "metadata": {},
   "outputs": [],
   "source": [
    "p1 = p4_2008\n",
    "t1 = p0_2008.mlotst.argmax(dim='time', skipna=True).values\n",
    "print(t1)"
   ]
  },
  {
   "cell_type": "code",
   "execution_count": null,
   "metadata": {},
   "outputs": [],
   "source": [
    "# Convert(data_set, t) -> (dep, sal, tem, den, temp_pot)\n",
    "dep, sal, tem, den, pre = Convert(p1, t1)\n",
    "\n",
    "## Calculating the deltas\n",
    "dn02_gl, Ddv_gl = Densities_delta(den, tem, sal, pre, t1)\n",
    "Ddf_gl = 0.03\n",
    "\n",
    "MLD_a = p1.mlotst[t1].values\n",
    "MLD_f, jf = ML_depth(dep, den, Ddf_gl)\n",
    "MLD_v, jv = ML_depth(dep, den, Ddv_gl)\n",
    "\n",
    "# Calculating depth from density :: Interpolation\n",
    "x = den[jv-1:jv+2]\n",
    "y = dep[jv-1:jv+2]\n",
    "dep_dens = interpolate.interp1d(x, y, kind='linear')\n",
    "\n",
    "MLD_int = dep_dens(dn02_gl)\n",
    "print(\"MDL by ARMOR: % 5.2f\" %(MLD_a))\n",
    "print(\"MDL fixed: % 5.2f\" %(MLD_f))\n",
    "print(\"MDL by variable: % 5.2f\" %(MLD_v))\n",
    "print(\"MDL by variable+interpolation: % 5.2f\" %(MLD_int))\n",
    "\n",
    "\n",
    "mld_values =  {'MLDa' : - MLD_a, 'MLDf' : MLD_f, 'MLDv' : MLD_v, 'MLDint' : MLD_int}\n",
    "\n",
    "## reg_name:: gulf, labrador, north"
   ]
  },
  {
   "cell_type": "code",
   "execution_count": null,
   "metadata": {},
   "outputs": [],
   "source": [
    "## Making plot\n",
    "#name_fig = dir_2 + 'Gulf-'+ str(t)+'.png'\n",
    "\n",
    "plt.close()\n",
    "fig, ax = plt.subplots(nrows=1, ncols=1, figsize=(4, 9))\n",
    "Plot_density(ax, dep, tem, sal, den, -500., t=None, name=None, **mld_values)\n",
    "\n",
    "plt.show()"
   ]
  },
  {
   "cell_type": "markdown",
   "metadata": {},
   "source": [
    "## Checking 2017"
   ]
  },
  {
   "cell_type": "code",
   "execution_count": null,
   "metadata": {},
   "outputs": [],
   "source": [
    "p0_2017 = Year_sel(p0, 2017)"
   ]
  },
  {
   "cell_type": "code",
   "execution_count": null,
   "metadata": {},
   "outputs": [],
   "source": [
    "t = p0_2017.mlotst.argmax(dim='time', skipna=True).values\n",
    "print(t)"
   ]
  },
  {
   "cell_type": "code",
   "execution_count": null,
   "metadata": {},
   "outputs": [],
   "source": [
    "p = p0_2017\n",
    "# Convert(data_set, t) -> (dep, sal, tem, den, temp_pot)\n",
    "\n",
    "dep, sal, tem, den, pre = Convert(p, t)\n",
    "\n",
    "## Calculating the deltas\n",
    "dn02_gl, Ddv_gl = Densities_delta(den, tem, sal, pre, t)\n",
    "Ddf_gl = 0.03\n",
    "\n",
    "MLD_a = p.mlotst[t].values\n",
    "MLD_f, jf = ML_depth(dep, den, Ddf_gl)\n",
    "MLD_v, jv = ML_depth(dep, den, Ddv_gl)\n",
    "\n",
    "# Calculating depth from density :: Interpolation\n",
    "x = den[jv-1:jv+2]\n",
    "y = dep[jv-1:jv+2]\n",
    "dep_dens = interpolate.interp1d(x, y, kind='linear')\n",
    "\n",
    "MLD_int = dep_dens(dn02_gl)\n",
    "print(\"MDL by ARMOR: % 5.2f\" %(MLD_a))\n",
    "print(\"MDL fixed: % 5.2f\" %(MLD_f))\n",
    "print(\"MDL by variable: % 5.2f\" %(MLD_v))\n",
    "print(\"MDL by variable+interpolation: % 5.2f\" %(MLD_int))\n",
    "\n",
    "\n",
    "mld_values =  {'MLDa' : - MLD_a, 'MLDf' : MLD_f, 'MLDv' : MLD_v, 'MLDint' : MLD_int}\n",
    "\n",
    "## reg_name:: gulf, labrador, north"
   ]
  },
  {
   "cell_type": "code",
   "execution_count": null,
   "metadata": {},
   "outputs": [],
   "source": [
    "## Making plot\n",
    "#name_fig = dir_2 + 'Gulf-'+ str(t)+'.png'\n",
    "plt.close()\n",
    "\n",
    "fig, ax = plt.subplots(nrows=1, ncols=1, figsize=(4, 9))\n",
    "Plot_density(ax, dep, tem, sal, den, -400., t=None, name=None, **mld_values)\n",
    "\n",
    "plt.show()"
   ]
  },
  {
   "cell_type": "code",
   "execution_count": null,
   "metadata": {},
   "outputs": [],
   "source": []
  },
  {
   "cell_type": "markdown",
   "metadata": {},
   "source": [
    "##  Checking 2014"
   ]
  },
  {
   "cell_type": "code",
   "execution_count": null,
   "metadata": {},
   "outputs": [],
   "source": [
    "p0_2014 = Year_sel(p0, 2014)"
   ]
  },
  {
   "cell_type": "code",
   "execution_count": null,
   "metadata": {},
   "outputs": [],
   "source": [
    "t = p0_2014.mlotst.argmax(dim='time', skipna=True).values\n",
    "print(t)"
   ]
  },
  {
   "cell_type": "code",
   "execution_count": null,
   "metadata": {},
   "outputs": [],
   "source": [
    "p = p0_2014\n",
    "# Convert(data_set, t) -> (dep, sal, tem, den, temp_pot)\n",
    "dep, sal, tem, den, pre = Convert(p, t)\n",
    "\n",
    "## Calculating the deltas\n",
    "dn02_gl, Ddv_gl = Densities_delta(den, tem, sal, pre, t)\n",
    "Ddf_gl = 0.03\n",
    "\n",
    "MLD_a = p.mlotst[t].values\n",
    "MLD_f, jf = ML_depth(dep, den, Ddf_gl)\n",
    "MLD_v, jv = ML_depth(dep, den, Ddv_gl)\n",
    "\n",
    "# Calculating depth from density :: Interpolation\n",
    "x = den[jv-1:jv+2]\n",
    "y = dep[jv-1:jv+2]\n",
    "dep_dens = interpolate.interp1d(x, y, kind='linear')\n",
    "\n",
    "MLD_int = dep_dens(dn02_gl)\n",
    "print(\"MDL by ARMOR: % 5.2f\" %(MLD_a))\n",
    "print(\"MDL fixed: % 5.2f\" %(MLD_f))\n",
    "print(\"MDL by variable: % 5.2f\" %(MLD_v))\n",
    "print(\"MDL by variable+interpolation: % 5.2f\" %(MLD_int))\n",
    "\n",
    "\n",
    "mld_values =  {'MLDa' : - MLD_a, 'MLDf' : MLD_f, 'MLDv' : MLD_v, 'MLDint' : MLD_int}\n",
    "\n",
    "## reg_name:: gulf, labrador, north"
   ]
  },
  {
   "cell_type": "code",
   "execution_count": null,
   "metadata": {},
   "outputs": [],
   "source": [
    "## Making plot\n",
    "#name_fig = dir_2 + 'Gulf-'+ str(t)+'.png'\n",
    "\n",
    "plt.close()\n",
    "\n",
    "fig, ax = plt.subplots(nrows=1, ncols=1, figsize=(4, 9))\n",
    "Plot_density(ax, dep, tem, sal, den, -200., t=None, name=None, **mld_values)\n",
    "\n",
    "plt.show()"
   ]
  },
  {
   "cell_type": "code",
   "execution_count": null,
   "metadata": {},
   "outputs": [],
   "source": []
  },
  {
   "cell_type": "markdown",
   "metadata": {},
   "source": [
    "## Checking 2013"
   ]
  },
  {
   "cell_type": "code",
   "execution_count": null,
   "metadata": {},
   "outputs": [],
   "source": [
    "p0_2013 = Year_sel(p0, 2013)"
   ]
  },
  {
   "cell_type": "code",
   "execution_count": null,
   "metadata": {},
   "outputs": [],
   "source": [
    "t = p0_2013.mlotst.argmax(dim='time', skipna=True).values\n",
    "print(t)"
   ]
  },
  {
   "cell_type": "code",
   "execution_count": null,
   "metadata": {},
   "outputs": [],
   "source": [
    "p = p0_2013\n",
    "# Convert(data_set, t) -> (dep, sal, tem, den, temp_pot)\n",
    "dep, sal, tem, den, pre = Convert(p, t)\n",
    "\n",
    "## Calculating the deltas\n",
    "dn02_gl, Ddv_gl = Densities_delta(den, tem, sal, pre, t)\n",
    "Ddf_gl = 0.03\n",
    "\n",
    "MLD_a = p.mlotst[t].values\n",
    "MLD_f, jf = ML_depth(dep, den, Ddf_gl)\n",
    "MLD_v, jv = ML_depth(dep, den, Ddv_gl)\n",
    "\n",
    "# Calculating depth from density :: Interpolation\n",
    "x = den[jv-1:jv+2]\n",
    "y = dep[jv-1:jv+2]\n",
    "dep_dens = interpolate.interp1d(x, y, kind='linear')\n",
    "\n",
    "MLD_int = dep_dens(dn02_gl)\n",
    "print(\"MDL by ARMOR: % 5.2f\" %(MLD_a))\n",
    "print(\"MDL fixed: % 5.2f\" %(MLD_f))\n",
    "print(\"MDL by variable: % 5.2f\" %(MLD_v))\n",
    "print(\"MDL by variable+interpolation: % 5.2f\" %(MLD_int))\n",
    "\n",
    "\n",
    "mld_values =  {'MLDa' : - MLD_a, 'MLDf' : MLD_f, 'MLDv' : MLD_v, 'MLDint' : MLD_int}\n",
    "\n",
    "## reg_name:: gulf, labrador, north"
   ]
  },
  {
   "cell_type": "code",
   "execution_count": null,
   "metadata": {},
   "outputs": [],
   "source": []
  },
  {
   "cell_type": "code",
   "execution_count": null,
   "metadata": {},
   "outputs": [],
   "source": [
    "## Making plot\n",
    "#name_fig = dir_2 + 'Gulf-'+ str(t)+'.png'\n",
    "\n",
    "plt.close()\n",
    "\n",
    "fig, ax = plt.subplots(nrows=1, ncols=1, figsize=(4, 9))\n",
    "Plot_density(ax, dep, tem, sal, den, -200., t=None, name=None, **mld_values)\n",
    "\n",
    "plt.show()"
   ]
  },
  {
   "cell_type": "markdown",
   "metadata": {},
   "source": [
    "### What about a not 'extreme' value?"
   ]
  },
  {
   "cell_type": "code",
   "execution_count": null,
   "metadata": {},
   "outputs": [],
   "source": [
    "t = 22  #This is a not extreme value"
   ]
  },
  {
   "cell_type": "code",
   "execution_count": null,
   "metadata": {},
   "outputs": [],
   "source": [
    "p = p0_2013\n",
    "# Convert(data_set, t) -> (dep, sal, tem, den, temp_pot)\n",
    "dep, sal, tem, den, pre = Convert(p, t)\n",
    "\n",
    "## Calculating the deltas\n",
    "dn02_gl, Ddv_gl = Densities_delta(den, tem, sal, pre, t)\n",
    "Ddf_gl = 0.03\n",
    "\n",
    "MLD_a = p.mlotst[t].values\n",
    "MLD_f, jf = ML_depth(dep, den, Ddf_gl)\n",
    "MLD_v, jv = ML_depth(dep, den, Ddv_gl)\n",
    "\n",
    "# Calculating depth from density :: Interpolation\n",
    "x = den[jv-1:jv+2]\n",
    "y = dep[jv-1:jv+2]\n",
    "dep_dens = interpolate.interp1d(x, y, kind='linear')\n",
    "\n",
    "MLD_int = dep_dens(dn02_gl)\n",
    "print(\"MDL by ARMOR: % 5.2f\" %(MLD_a))\n",
    "print(\"MDL fixed: % 5.2f\" %(MLD_f))\n",
    "print(\"MDL by variable: % 5.2f\" %(MLD_v))\n",
    "print(\"MDL by variable+interpolation: % 5.2f\" %(MLD_int))\n",
    "\n",
    "\n",
    "mld_values =  {'MLDa' : - MLD_a, 'MLDf' : MLD_f, 'MLDv' : MLD_v, 'MLDint' : MLD_int}\n",
    "\n",
    "## reg_name:: gulf, labrador, north"
   ]
  },
  {
   "cell_type": "code",
   "execution_count": null,
   "metadata": {},
   "outputs": [],
   "source": [
    "## Making plot\n",
    "#name_fig = dir_2 + 'Gulf-'+ str(t)+'.png'\n",
    "\n",
    "fig, ax = plt.subplots(nrows=1, ncols=1, figsize=(4, 9))\n",
    "Plot_density(ax, dep, tem, sal, den, -200., t=None, name=None, **mld_values)\n",
    "\n",
    "plt.show()"
   ]
  },
  {
   "cell_type": "code",
   "execution_count": null,
   "metadata": {},
   "outputs": [],
   "source": []
  },
  {
   "cell_type": "markdown",
   "metadata": {},
   "source": [
    "## Checking 2011"
   ]
  },
  {
   "cell_type": "code",
   "execution_count": null,
   "metadata": {},
   "outputs": [],
   "source": [
    "p0_2011 = Year_sel(p0, 2011)"
   ]
  },
  {
   "cell_type": "markdown",
   "metadata": {},
   "source": [
    "In this case, the maximum value of the MLD along the year corresponds to the maximum in March, that falls in the range od the std. The one chosen here, t=40, corresponds to a MLD value that is larger than the std."
   ]
  },
  {
   "cell_type": "code",
   "execution_count": null,
   "metadata": {},
   "outputs": [],
   "source": [
    "t = 40 #p0_2011.mlotst.argmax(dim='time', skipna=True).values\n",
    "print(t)"
   ]
  },
  {
   "cell_type": "code",
   "execution_count": null,
   "metadata": {},
   "outputs": [],
   "source": [
    "p = p0_2011\n",
    "# Convert(data_set, t) -> (dep, sal, tem, den, temp_pot)\n",
    "dep, sal, tem, den, pre = Convert(p, t)\n",
    "\n",
    "## Calculating the deltas\n",
    "dn02_gl, Ddv_gl = Densities_delta(den, tem, sal, pre, t)\n",
    "Ddf_gl = 0.03\n",
    "\n",
    "MLD_a = p.mlotst[t].values\n",
    "MLD_f, jf = ML_depth(dep, den, Ddf_gl)\n",
    "MLD_v, jv = ML_depth(dep, den, Ddv_gl)\n",
    "\n",
    "# Calculating depth from density :: Interpolation\n",
    "x = den[jv-1:jv+2]\n",
    "y = dep[jv-1:jv+2]\n",
    "dep_dens = interpolate.interp1d(x, y, kind='linear')\n",
    "\n",
    "MLD_int = dep_dens(dn02_gl)\n",
    "print(\"MDL by ARMOR: % 5.2f\" %(MLD_a))\n",
    "print(\"MDL fixed: % 5.2f\" %(MLD_f))\n",
    "print(\"MDL by variable: % 5.2f\" %(MLD_v))\n",
    "print(\"MDL by variable+interpolation: % 5.2f\" %(MLD_int))\n",
    "\n",
    "\n",
    "mld_values =  {'MLDa' : - MLD_a, 'MLDf' : MLD_f, 'MLDv' : MLD_v, 'MLDint' : MLD_int}\n",
    "\n",
    "## reg_name:: gulf, labrador, north"
   ]
  },
  {
   "cell_type": "code",
   "execution_count": null,
   "metadata": {},
   "outputs": [],
   "source": [
    "## Making plot\n",
    "#name_fig = dir_2 + 'Gulf-'+ str(t)+'.png'\n",
    "\n",
    "fig, ax = plt.subplots(nrows=1, ncols=1, figsize=(4, 9))\n",
    "Plot_density(ax, dep, tem, sal, den, -200., t=None, name=None, **mld_values)\n",
    "\n",
    "plt.show()"
   ]
  },
  {
   "cell_type": "code",
   "execution_count": null,
   "metadata": {},
   "outputs": [],
   "source": []
  },
  {
   "cell_type": "code",
   "execution_count": null,
   "metadata": {},
   "outputs": [],
   "source": []
  },
  {
   "cell_type": "code",
   "execution_count": null,
   "metadata": {},
   "outputs": [],
   "source": [
    "t = 9 #p0_2011.mlotst.argmax(dim='time', skipna=True).values\n",
    "print(t)"
   ]
  },
  {
   "cell_type": "code",
   "execution_count": null,
   "metadata": {},
   "outputs": [],
   "source": [
    "p = p0_2011\n",
    "# Convert(data_set, t) -> (dep, sal, tem, den, temp_pot)\n",
    "dep, sal, tem, den, pre = Convert(p, t)\n",
    "\n",
    "## Calculating the deltas\n",
    "dn02_gl, Ddv_gl = Densities_delta(den, tem, sal, pre, t)\n",
    "Ddf_gl = 0.03\n",
    "\n",
    "MLD_a = p.mlotst[t].values\n",
    "MLD_f, jf = ML_depth(dep, den, Ddf_gl)\n",
    "MLD_v, jv = ML_depth(dep, den, Ddv_gl)\n",
    "\n",
    "# Calculating depth from density :: Interpolation\n",
    "x = den[jv-1:jv+2]\n",
    "y = dep[jv-1:jv+2]\n",
    "dep_dens = interpolate.interp1d(x, y, kind='linear')\n",
    "\n",
    "MLD_int = dep_dens(dn02_gl)\n",
    "print(\"MDL by ARMOR: % 5.2f\" %(MLD_a))\n",
    "print(\"MDL fixed: % 5.2f\" %(MLD_f))\n",
    "print(\"MDL by variable: % 5.2f\" %(MLD_v))\n",
    "print(\"MDL by variable+interpolation: % 5.2f\" %(MLD_int))\n",
    "\n",
    "\n",
    "mld_values =  {'MLDa' : - MLD_a, 'MLDf' : MLD_f, 'MLDv' : MLD_v, 'MLDint' : MLD_int}\n",
    "\n",
    "## reg_name:: gulf, labrador, north"
   ]
  },
  {
   "cell_type": "code",
   "execution_count": null,
   "metadata": {},
   "outputs": [],
   "source": [
    "## Making plot\n",
    "#name_fig = dir_2 + 'Gulf-'+ str(t)+'.png'\n",
    "plt.close()\n",
    "\n",
    "fig, ax = plt.subplots(nrows=1, ncols=1, figsize=(4, 9))\n",
    "Plot_density(ax, dep, tem, sal, den, -200., t=None, name=None, **mld_values)\n",
    "\n",
    "plt.show()"
   ]
  },
  {
   "cell_type": "code",
   "execution_count": null,
   "metadata": {},
   "outputs": [],
   "source": []
  }
 ],
 "metadata": {
  "kernelspec": {
   "display_name": "Python 3",
   "language": "python",
   "name": "python3"
  },
  "language_info": {
   "codemirror_mode": {
    "name": "ipython",
    "version": 3
   },
   "file_extension": ".py",
   "mimetype": "text/x-python",
   "name": "python",
   "nbconvert_exporter": "python",
   "pygments_lexer": "ipython3",
   "version": "3.6.9"
  }
 },
 "nbformat": 4,
 "nbformat_minor": 4
}
