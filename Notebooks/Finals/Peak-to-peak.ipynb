{
 "cells": [
  {
   "cell_type": "markdown",
   "metadata": {},
   "source": [
    "# Peak to peak: Amplitude of the Seasonal Cycle"
   ]
  },
  {
   "cell_type": "markdown",
   "metadata": {},
   "source": [
    "On this notebook we find described the code used to get a plot of the (mean) amplitude of the seasonal cycle of the mixed layer depth in the regions named in the notebook [Regions](./Distribution-regions.ipynb). \n",
    "\n",
    "For the sake of brevity, the notebook only considers one example for one of the subregions, the Nordic Sea. This notebook has the following structure:\n",
    "\n",
    "   [1. Imported modules](#1.-Imported-modules)\n",
    "   [2. Dictionaries used](#2.-Dictionaries-used)\n",
    "   [3. Functions](#3.-Functions)\n",
    "   [4. Example plot](#4.-Example-plot)\n",
    "    \n",
    "Figures of this kind can be found in the written report [MLD project](https://www.overleaf.com/read/rmjfbdbbrsbf\n",
    "), in the Section (3.2.2), (4.2.2), (5.2.2) and Chapter 6.\n",
    "\n",
    "The Nordic Sea was chosen to plot here in order to have the algorithm to obtain the region using a non rectangular projection."
   ]
  },
  {
   "cell_type": "markdown",
   "metadata": {},
   "source": [
    "## 1. Imported modules"
   ]
  },
  {
   "cell_type": "code",
   "execution_count": 1,
   "metadata": {},
   "outputs": [],
   "source": [
    "import xarray as xr\n",
    "import numpy as np\n",
    "import datetime\n",
    "import pandas as pd\n",
    "from scipy import interpolate\n",
    "\n",
    "import matplotlib as mpl\n",
    "import matplotlib.pyplot as plt\n",
    "import matplotlib.path as mpath\n",
    "\n",
    "\n",
    "\n",
    "import cartopy\n",
    "import cartopy.feature as cfeat\n",
    "import cartopy.crs as ccrs\n",
    "from cartopy.mpl.ticker import LongitudeFormatter, LatitudeFormatter\n",
    "import xarray as xr\n",
    "import numpy as np\n",
    "\n",
    "from matplotlib import colors\n",
    "from matplotlib import ticker\n",
    "from matplotlib.colors import BoundaryNorm\n",
    "from matplotlib.ticker import MaxNLocator\n",
    "from mpl_toolkits.axes_grid1 import make_axes_locatable\n",
    "\n",
    "import matplotlib.animation as animation\n",
    "from IPython.display import HTML\n",
    "\n",
    "import warnings; warnings.simplefilter('ignore')"
   ]
  },
  {
   "cell_type": "markdown",
   "metadata": {},
   "source": [
    "## 2. Dictionaries used"
   ]
  },
  {
   "cell_type": "code",
   "execution_count": 2,
   "metadata": {},
   "outputs": [],
   "source": [
    "\"\"\"\n",
    "subregions is a dictionary that has the coordinate\n",
    "boundaries of the sub-regions. The format is:\n",
    "<subregion> :\n",
    "  <lon> : (lon1, lon2)\n",
    "  <lat> : (lat1,  lat2)\n",
    "  <name> : title for an eventual ploting title\n",
    "\"\"\"\n",
    "\n",
    "subregions = {\n",
    "    'lab': {\n",
    "        'lon' : (-55, -51),\n",
    "        'lat' : (56, 59),\n",
    "        'name' : 'Labrador Sea'\n",
    "    },\n",
    "    'irm': {\n",
    "        'lon' : (-39, -35),\n",
    "        'lat' : (58, 61),\n",
    "        'name' : 'Irminger Sea'\n",
    "    },\n",
    "    'gul': {\n",
    "        'lon' : (-57, -53),\n",
    "        'lat' : (34, 38),\n",
    "        'name' : 'Gulf Stream'\n",
    "    },\n",
    "    'noe': {\n",
    "        'lon' : (-20, -16),\n",
    "        'lat' : (50, 53),\n",
    "        'name' : 'North East Sea'\n",
    "    },\n",
    "    'nor1': {\n",
    "        'lon' : (-2, 2),\n",
    "        'lat' : (73, 76),\n",
    "        'name' : 'Nordic Sea- Northern'\n",
    "    },\n",
    "    'nor2': {\n",
    "        'lon' : (0, 4),\n",
    "        'lat' : (68, 71),\n",
    "        'name' : 'Nordic Sea- Southern'\n",
    "    }   \n",
    "}\n",
    "\n",
    "\n",
    "\"\"\"\n",
    "reg_ext is a dictionary that has the coordinate\n",
    "boundaries of the main regions. The format is:\n",
    "<region> :\n",
    "  <lon> : (lon1, lon2)\n",
    "  <lat> : (lat1,  lat2)\n",
    "  <name> : title for an eventual ploting title\n",
    "\"\"\"\n",
    "\n",
    "reg_ext = {\n",
    "    'lab': {\n",
    "        'lon' : (-60, -30),\n",
    "        'lat' : (50, 65),\n",
    "        'name' : 'Labrador and Irminger Seas'\n",
    "    },\n",
    "    'gul': {\n",
    "        'lon' : (-75, -45),\n",
    "        'lat' : (30, 45),\n",
    "        'name' : 'Gulf Stream'\n",
    "    },\n",
    "    'noe': {\n",
    "        'lon' : (-30, -5),\n",
    "        'lat' : (45, 60),\n",
    "        'name' : 'North East Sea'\n",
    "    },\n",
    "    'nor':{\n",
    "        'lon' : (-25, 20),\n",
    "        'lat' : (65, 80),\n",
    "        'name' : 'North Atlantic Ocean'\n",
    "    },\n",
    "    'noa':{\n",
    "        'lon' : (-90, 50.),\n",
    "        'lat' : (10, 85),\n",
    "        'name' : 'North Atlantic Ocean'\n",
    "    }\n",
    "}\n"
   ]
  },
  {
   "cell_type": "markdown",
   "metadata": {},
   "source": [
    "## 3. Functions"
   ]
  },
  {
   "cell_type": "code",
   "execution_count": 3,
   "metadata": {},
   "outputs": [],
   "source": [
    "## Function to crop the dataset\n",
    "def Crops(coord, d_set):\n",
    "    \"\"\"\n",
    "        Crops is a function that takes a data set and crops it into smaller\n",
    "        region, using as parameters the values given by the dictionary \n",
    "        reg_ext.\n",
    "        \n",
    "        Parameters:\n",
    "        ------------\n",
    "            \n",
    "        coord : string\n",
    "            Key value that identifies the region to obtain\n",
    "        \n",
    "        d_set : DataArray\n",
    "            Dataset to be cropped\n",
    "        \n",
    "        Output:\n",
    "        -------\n",
    "        new_ds : DataArray\n",
    "            New data array corresponding to the region stated by 'coord'\n",
    "    \"\"\"\n",
    "    \n",
    "    lon1, lon2 = reg_ext[coord]['lon']\n",
    "    lat1, lat2 = reg_ext[coord]['lat']\n",
    "    name_fig = reg_ext[coord]['name']\n",
    "    \n",
    "    new_ds = d_set.sel(longitude=slice(lon1, lon2), latitude=slice(lat1, lat2))\n",
    "    return(new_ds)\n",
    "\n",
    "\n",
    "def Grid(data_set):\n",
    "    x = data_set.longitude\n",
    "    y = data_set.latitude\n",
    "    \n",
    "    x, y = np.meshgrid(x, y)\n",
    "    return(x, y)\n",
    "\n",
    "def Map(ax, region, xtick, ytick):\n",
    "    \"\"\"\n",
    "        Map is a function that helps to plot the map on a certain projection\n",
    "        of a region. It always uses 50m definition of coastlines. In Cartopy \n",
    "        0.16.0 it is not possible to use xticks and yticks for non-rectangular\n",
    "        projections, this function is available for Cartopy 0.18.0\n",
    "\n",
    "        Parameters:\n",
    "        ------------\n",
    "        ax : axes\n",
    "            Current axes object in which is drawn the map.\n",
    "\n",
    "        region : list\n",
    "            Set of limit coordinates of the region to plot.\n",
    "            It has the shape [lon1, lon2, lat1, lat2]\n",
    "\n",
    "        xtick : np.array\n",
    "            array containing the number and spacement of ticks \n",
    "            in x-axis.\n",
    "\n",
    "        ytick : np.array\n",
    "            Array containing the number and spacement of ticks \n",
    "            in y-axis.\n",
    "    \"\"\"\n",
    "    ax.set_global()\n",
    "    ax.coastlines('50m')\n",
    "    #ax.set_xticks(xtick, crs=ccrs.PlateCarree())  \n",
    "    #ax.set_yticks(ytick, crs=ccrs.PlateCarree())\n",
    "    lon_formatter = LongitudeFormatter(zero_direction_label=True)\n",
    "    lat_formatter = LatitudeFormatter()\n",
    "\n",
    "    ax.xaxis.set_major_formatter(lon_formatter)\n",
    "    ax.yaxis.set_major_formatter(lat_formatter)\n",
    "    ax.add_feature(cartopy.feature.BORDERS, linestyle=':')\n",
    "    ax.set_extent(region, crs=ccrs.PlateCarree())     #lat, lon\n",
    "    ax.gridlines(crs=ccrs.PlateCarree(), linewidth=1, \n",
    "                 color='gray', alpha=0.5, linestyle='-.')\n",
    "\n",
    "\n",
    "\n",
    "def Masking(data_set, cond):\n",
    "    \"\"\"\n",
    "        Maskin is a function that makes a mask of an array depending on the \n",
    "        entering condition. The condition is evaluated over finite numbers.\n",
    "        At the final, the mask is appended in the original DataArray as a \n",
    "        new coordinate.\n",
    "        \n",
    "        Parameters:\n",
    "        ------------\n",
    "        data_set : DataArray\n",
    "            Is the array we want to make the mask of.\n",
    "            \n",
    "        cond : array\n",
    "            Codition to meet. \n",
    "\n",
    "\n",
    "        Output:\n",
    "        -------\n",
    "        data_set : Numpy Arrray\n",
    "            Array with new coordinates 'mask'\n",
    "    \"\"\"\n",
    "    \n",
    "    mask = 1 * np.ones((data_set.dims['latitude'], data_set.dims['longitude'])) * np.isfinite(cond)  \n",
    "    data_set.coords['mask'] = (('latitude', 'longitude'), mask)\n",
    "    return(data_set)"
   ]
  },
  {
   "cell_type": "markdown",
   "metadata": {},
   "source": [
    "## 4. Example plot"
   ]
  },
  {
   "cell_type": "code",
   "execution_count": 4,
   "metadata": {},
   "outputs": [],
   "source": [
    "###############################################################################\n",
    "###########         MAIN PROGRAM\n",
    "###############################################################################\n",
    "\n",
    "dir_1 = '../../../New_ARMOR/'\n",
    "dir_15 = '/net/data0-gw/data0/project/drakkar/USERS/lgarcia/data_ARMOR/'\n",
    "\n",
    "dir_o = '/home/lgarcia/Documents/Scripts/Images_01/'\n",
    "\n",
    "\n",
    "fl_n1 = 'NARMOR_*.nc'\n",
    "fl_n15 = 'ARMOR_*.nc'\n",
    "\n",
    "c_armor1 = xr.open_mfdataset(dir_1 + fl_n1, concat_dim='time')\n",
    "c_armor15 = xr.open_mfdataset(dir_15 + fl_n15)"
   ]
  },
  {
   "cell_type": "code",
   "execution_count": 5,
   "metadata": {},
   "outputs": [],
   "source": [
    "d1 = datetime.datetime(2005,1,1)\n",
    "d2 = datetime.datetime(2018,12,20)\n",
    "\n",
    "weeks = pd.date_range(start=d1, end=d2, freq='7D')\n",
    "c_armor1.coords['time'] = (('time'), weeks)"
   ]
  },
  {
   "cell_type": "markdown",
   "metadata": {},
   "source": [
    "# Nordic Sea"
   ]
  },
  {
   "cell_type": "markdown",
   "metadata": {},
   "source": [
    "## Amplitude of the Seasonal Cycle"
   ]
  },
  {
   "cell_type": "markdown",
   "metadata": {},
   "source": [
    "The procedure here is to find the maximum and minimum MLD values for each year, finding each year's amplitude. At the final, the mean between the years is computed. "
   ]
  },
  {
   "cell_type": "code",
   "execution_count": 6,
   "metadata": {},
   "outputs": [],
   "source": [
    "## Croping the region from the complete dataset\n",
    "\n",
    "r4 = 'nor'\n",
    "nor1 = Crops(r4, c_armor1)\n",
    "nor15 = Crops(r4, c_armor15)\n",
    "nor15 = Masking(nor15, nor15.to[0,18])"
   ]
  },
  {
   "cell_type": "code",
   "execution_count": 7,
   "metadata": {},
   "outputs": [],
   "source": [
    "## Taking the max & min from each year, and\n",
    "## computing the amplitude of the seasonal cycle.\n",
    "## Computing the mean of amplitude seasonal cycle.\n",
    "\n",
    "rr_min = nor1.groupby('time.year').min(dim='time')\n",
    "rr_max = nor1.groupby('time.year').max(dim='time')\n",
    "\n",
    "amp_yr = rr_max - rr_min\n",
    "amp_mean_r = amp_yr.mean(dim='year') "
   ]
  },
  {
   "cell_type": "code",
   "execution_count": 8,
   "metadata": {},
   "outputs": [
    {
     "name": "stdout",
     "output_type": "stream",
     "text": [
      "8.785714285714286 1469.7142857142858\n"
     ]
    }
   ],
   "source": [
    "## Getting min&max values of amplitude, for the\n",
    "## limits of the color bar.\n",
    "\n",
    "min_amp_r = amp_mean_r.mlotst.where(nor15.mask==1).min(skipna=True).values\n",
    "max_amp_r = amp_mean_r.mlotst.where(nor15.mask==1).max(skipna=True).values\n",
    "\n",
    "print(min_amp_r, max_amp_r)"
   ]
  },
  {
   "cell_type": "code",
   "execution_count": 9,
   "metadata": {},
   "outputs": [],
   "source": [
    "## Information of the plot::\n",
    "## Title for the figure\n",
    "## label, colormap and number of intervals of the color bar\n",
    "\n",
    "fig_title = 'Nordic Seas \\n Amplitude of the Seasonal Cycle'\n",
    "cb_label='Amplitude [m]'\n",
    "cmap='magma_r'\n",
    "levels = np.linspace(5., 1500., 20)\n",
    "\n",
    "\n",
    "## Variable to plot\n",
    "var = amp_mean_r.mlotst.where(nor15.mask==1)"
   ]
  },
  {
   "cell_type": "code",
   "execution_count": 12,
   "metadata": {},
   "outputs": [],
   "source": [
    "## Information about the region and projection.\n",
    "\n",
    "## Boundary latitudes and longitudes\n",
    "lon1, lon2 = reg_ext[r4]['lon']\n",
    "lat1, lat2 = reg_ext[r4]['lat']\n",
    "region = [lon1, lon2, lat1, lat2]\n",
    "\n",
    "## Number of ticks in x&y axis.\n",
    "## In this Cartopy version is not useful.\n",
    "## Anyway I computed them, because I use them in a function below.\n",
    "xtick = np.linspace(lon1, lon2, num=5)\n",
    "ytick = np.linspace(lat1, lat2, num=4)\n",
    "\n",
    "## Type of projection\n",
    "projection = projection = ccrs.AlbersEqualArea(central_longitude=-2.5,\n",
    "                            central_latitude=75,\n",
    "                            standard_parallels=(lat1, lat2))\n",
    "data_crs = ccrs.PlateCarree()\n",
    "\n",
    "## x&y mesh to plot\n",
    "x_n, y_n = Grid(nor1)"
   ]
  },
  {
   "cell_type": "code",
   "execution_count": 13,
   "metadata": {},
   "outputs": [
    {
     "data": {
      "image/png": "[encoded data removed]",
      "text/plain": [
       "<matplotlib.figure.Figure at 0x7fdb70ae4198>"
      ]
     },
     "metadata": {},
     "output_type": "display_data"
    }
   ],
   "source": [
    "plt.close()\n",
    "\n",
    "fig, ax = plt.subplots(nrows=1, ncols=1, subplot_kw=dict(projection=projection), figsize=(7,5))\n",
    "\n",
    "ax = plt.axes(projection=projection)\n",
    "\n",
    "Map(ax, region, xtick, ytick)\n",
    "\n",
    "contr = ax.contourf(x_n, y_n, var, levels=levels, cmap=cmap, extend='neither', transform=data_crs)\n",
    "cbar = fig.colorbar(contr, ax=ax, shrink=0.95, orientation='vertical',\n",
    "                    label=cb_label) \n",
    "\n",
    "\n",
    "## This plots the shape and boundary of the projection.\n",
    "vertices = [(lon, lat1) for lon in range(int(lon1), int(lon2+1), 1)]+ \\\n",
    "           [(lon, lat2) for lon in range(int(lon2), int(lon1+1), -1)]\n",
    "boundary = mpath.Path(vertices)\n",
    "ax.set_boundary(boundary, transform=data_crs)\n",
    "\n",
    "\n",
    "ax.set_title(fig_title, fontsize=14)\n",
    "\n",
    "#plt.savefig(dir_o + 'Nor-p2p.png', bbox_inches='tight')\n",
    "plt.show()"
   ]
  },
  {
   "cell_type": "code",
   "execution_count": null,
   "metadata": {},
   "outputs": [],
   "source": []
  }
 ],
 "metadata": {
  "kernelspec": {
   "display_name": "Python 3",
   "language": "python",
   "name": "python3"
  },
  "language_info": {
   "codemirror_mode": {
    "name": "ipython",
    "version": 3
   },
   "file_extension": ".py",
   "mimetype": "text/x-python",
   "name": "python",
   "nbconvert_exporter": "python",
   "pygments_lexer": "ipython3",
   "version": "3.5.2"
  }
 },
 "nbformat": 4,
 "nbformat_minor": 4
}
