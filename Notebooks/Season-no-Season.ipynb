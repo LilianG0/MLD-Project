{
 "cells": [
  {
   "cell_type": "code",
   "execution_count": 1,
   "metadata": {},
   "outputs": [],
   "source": [
    "import xarray as xr\n",
    "import numpy as np\n",
    "import datetime\n",
    "import pandas as pd\n",
    "from scipy import interpolate\n",
    "\n",
    "import matplotlib as mpl\n",
    "import matplotlib.pyplot as plt\n",
    "\n",
    "\n",
    "import cartopy\n",
    "import cartopy.feature as cfeat\n",
    "import cartopy.crs as ccrs\n",
    "from cartopy.mpl.ticker import LongitudeFormatter, LatitudeFormatter\n",
    "import xarray as xr\n",
    "import numpy as np\n",
    "\n",
    "from matplotlib import colors\n",
    "from matplotlib import ticker\n",
    "from matplotlib.colors import BoundaryNorm\n",
    "from matplotlib.ticker import MaxNLocator\n",
    "from mpl_toolkits.axes_grid1 import make_axes_locatable\n",
    "\n",
    "import matplotlib.animation as animation\n",
    "from IPython.display import HTML"
   ]
  },
  {
   "cell_type": "code",
   "execution_count": 2,
   "metadata": {},
   "outputs": [],
   "source": [
    "\n",
    "reg_ext = {\n",
    "    'lab': {\n",
    "        'lon' : (-60, -30),\n",
    "        'lat' : (50, 65),\n",
    "        'name' : 'Labrador and Irminger Seas'\n",
    "    },\n",
    "    'gul': {\n",
    "        'lon' : (-75, -45),\n",
    "        'lat' : (30, 45),\n",
    "        'name' : 'Gulf Stream'\n",
    "    },\n",
    "    'noe': {\n",
    "        'lon' : (-30, -5),\n",
    "        'lat' : (45, 60),\n",
    "        'name' : 'North East Sea'\n",
    "    }\n",
    "}"
   ]
  },
  {
   "cell_type": "code",
   "execution_count": 3,
   "metadata": {},
   "outputs": [],
   "source": [
    "## Function to crop the dataset\n",
    "def Crops(coord, d_set):\n",
    "    \"\"\"\n",
    "        Crops is a function that takes a data set and crops it into smaller\n",
    "        region, using as parameters the values given by the dictionary \n",
    "        reg_ext.\n",
    "        \n",
    "        Parameters:\n",
    "        ------------\n",
    "            \n",
    "        coord : string\n",
    "            Key value that identifies the region to obtain\n",
    "        \n",
    "        d_set : DataArray\n",
    "            Dataset to be cropped\n",
    "        \n",
    "        Output:\n",
    "        -------\n",
    "        new_ds : DataArray\n",
    "            New data array corresponding to the region stated by 'coord'\n",
    "    \"\"\"\n",
    "    \n",
    "    lon1, lon2 = reg_ext[coord]['lon']\n",
    "    lat1, lat2 = reg_ext[coord]['lat']\n",
    "    name_fig = reg_ext[coord]['name']\n",
    "    \n",
    "    new_ds = d_set.sel(longitude=slice(lon1, lon2), latitude=slice(lat1, lat2))\n",
    "    return(new_ds)\n",
    "\n",
    "\n",
    "def Grid(data_set):\n",
    "    x = data_set.longitude\n",
    "    y = data_set.latitude\n",
    "    \n",
    "    x, y = np.meshgrid(x, y)\n",
    "    return(x, y)\n",
    "\n",
    "\n",
    "def No_nan(a):\n",
    "    \"\"\"\n",
    "        No_nan is a function that helps to filter an array from nan values.\n",
    "        \n",
    "        Parameters:\n",
    "        ------------\n",
    "        a : Numpy Array\n",
    "            Is the array we want to filter\n",
    "        \n",
    "        Output:\n",
    "        -------\n",
    "        a2 : Numpy Arrray\n",
    "            Array with no nan values in it\n",
    "    \"\"\"\n",
    "    nan_array = np.isnan(a)\n",
    "    not_nan_array = ~ nan_array\n",
    "    a2 = a[not_nan_array]\n",
    "    \n",
    "    return(a2)\n",
    "\n",
    "\n",
    "def Map(ax, region, xtick, ytick):\n",
    "    \"\"\"\n",
    "        Map is a function that helps to plot the map on a certain projection\n",
    "        of a region. It always uses 50m definition of coastlines.\n",
    "\n",
    "        Parameters:\n",
    "        ------------\n",
    "        ax : axes\n",
    "            Current axes object in which is drawn the map.\n",
    "\n",
    "        region : list\n",
    "            Set of limit coordinates of the region to plot.\n",
    "            It has the shape [lon1, lon2, lat1, lat2]\n",
    "\n",
    "        xtick : np.array\n",
    "            array containing the number and spacement of ticks \n",
    "            in x-axis.\n",
    "\n",
    "        ytick : np.array\n",
    "            Array containing the number and spacement of ticks \n",
    "            in y-axis.\n",
    "    \"\"\"\n",
    "    ax.set_global()\n",
    "    ax.coastlines('50m')\n",
    "    ax.set_xticks(xtick, crs=ccrs.PlateCarree())\n",
    "    ax.set_yticks(ytick, crs=ccrs.PlateCarree())\n",
    "    lon_formatter = LongitudeFormatter(zero_direction_label=True)\n",
    "    lat_formatter = LatitudeFormatter()\n",
    "\n",
    "    ax.xaxis.set_major_formatter(lon_formatter)\n",
    "    ax.yaxis.set_major_formatter(lat_formatter)\n",
    "    ax.add_feature(cartopy.feature.BORDERS, linestyle=':')\n",
    "    ax.set_extent(region, crs=ccrs.PlateCarree())     #lat, lon\n",
    "    ax.gridlines(crs=ccrs.PlateCarree(), linewidth=1, \n",
    "                 color='gray', alpha=0.5, linestyle='-.')\n",
    "\n",
    "\n",
    "\n",
    "## Need to make this a little bit more general, also in the extend. by now extends just to max\n",
    "def Plot_2D(data_set, reg, *cm_levs, t=None, cmap=None, ext=None, cont_line=False, nlines=None):\n",
    "    \"\"\"\n",
    "        Plot_2D is a function that plots a 2D variable using a\n",
    "        colormap over a spatial region. It makes use of the external \n",
    "        functions 'Grid' and 'Map'. It also makes use of the dictionary \n",
    "        'reg_ext', to get the spatial delimitations. This works only\n",
    "        for DataArray type and to plot MLD. The pre-defined cmap is \n",
    "        'magma_r'.\n",
    "        \n",
    "        Parameters:\n",
    "        ------------\n",
    "        data_set : DataArray\n",
    "            Current axes object in which is drawn the map. It can\n",
    "            be a complete DataArray, or just the values for one of\n",
    "            the variables.\n",
    "            \n",
    "        reg : string\n",
    "            Abreviation name that identifies the region in \n",
    "            which the plot is being done. It must be defined\n",
    "            inside the dictionary 'reg_ext'.\n",
    "            \n",
    "        cm_levs : tuple, integers\n",
    "            It contains the parameters for the color bar. The \n",
    "            order is: minimum, maximum, #of levels\n",
    "        \n",
    "        t : integer\n",
    "            Timestep to plot.\n",
    "        \n",
    "        cmap : String\n",
    "            Name of the color map to use. Default is 'magma_r'\n",
    "        \n",
    "        ext : string\n",
    "            Extention of the color bar. Default is 'max'\n",
    "            \n",
    "        cont_line : Boolean\n",
    "            If True we allow to plot a second contour plot of SSH. \n",
    "            On top of the MLD heat map.\n",
    "            If False, this function plots a heat map of the variable \n",
    "            set by parameter 'data_set'.\n",
    "            \n",
    "        nlines : integers\n",
    "            Is the number of lines to plot the contour plot. It is \n",
    "            optional, and is necessary when cont_line=True.\n",
    "        \n",
    "        Output:\n",
    "        ------------\n",
    "        ax : axes\n",
    "    \"\"\"\n",
    "    \n",
    "    # Shaping the plot\n",
    "    x_n, y_n = Grid(data_set)\n",
    "    projection = ccrs.PlateCarree(360)\n",
    "    \n",
    "    # Getting the delimitations and ticks\n",
    "    lon1, lon2 = reg_ext[reg]['lon']\n",
    "    lat1, lat2 = reg_ext[reg]['lat']\n",
    "    xtick = np.linspace(lon1, lon2, num=9)\n",
    "    ytick = np.linspace(lat1, lat2, num=4)\n",
    "    region = [lon1, lon2, lat1, lat2]    #Lon, Lat\n",
    "    \n",
    "    # If we want to plot MLD and SSH, or other thing, without SSH countours\n",
    "    if cont_line:\n",
    "        if not t:\n",
    "            variable1 = data_set.mlotst\n",
    "            variable2 = data_set.zo[0]\n",
    "        else:\n",
    "            variable1 = data_set.mlotst[t]\n",
    "            variable2 = data_set.zo[t,0]\n",
    "    else:\n",
    "        if not t:\n",
    "            variable1 = data_set\n",
    "        else:\n",
    "            variable1 = data_set[t]\n",
    "        \n",
    "    if not cmap:\n",
    "        cmap = 'plasma_r'\n",
    "        \n",
    "    \n",
    "    if ext:\n",
    "        ext = ext\n",
    "    else:\n",
    "        ext = 'max'\n",
    "\n",
    "    # Start of the plot\n",
    "    fig, ax = plt.subplots(nrows=1, ncols=1, subplot_kw=dict(projection=projection), figsize=(10,5))    \n",
    "    \n",
    "    Map(ax, region, xtick, ytick)\n",
    "    \n",
    "    # Here plot the variable using a heat map, defining also color bar\n",
    "    contr1 = ax.contourf(x_n, y_n, variable1, \n",
    "                         levels=np.linspace(cm_levs[0], cm_levs[1], cm_levs[2]),\n",
    "                         cmap=cmap, extend=ext)\n",
    "    cbar = fig.colorbar(contr1, ax=ax, shrink=0.855, orientation='vertical',\n",
    "                        label='MLD [m]', extend=ext)  \n",
    "    # Here adding an extra layer of SSH at surface using countour lines\n",
    "    if cont_line:\n",
    "        contr2 = ax.contour(x_n, y_n, variable2, nlines, linewidths=0.5, colors='k')\n",
    "    \n",
    "    # Saving the figure\n",
    "    ##if save:\n",
    "    ##    fig.savefig(os.path.abspath(os.path.sep.join([\".\",\"dummy_images\",\"Noe_%0.4d.png\" % it])))\n",
    "\n",
    "    return(ax)\n",
    "    \n",
    "    \n",
    "def Masking(data_set, cond):\n",
    "    \"\"\"\n",
    "        Maskin is a function that makes a mask of an array depending on the \n",
    "        entering condition. The condition is evaluated over finite numbers.\n",
    "        At the final, the mask is appended in the original DataArray as a \n",
    "        new coordinate.\n",
    "        \n",
    "        Parameters:\n",
    "        ------------\n",
    "        data_set : DataArray\n",
    "            Is the array we want to make the mask of.\n",
    "            \n",
    "        cond : array\n",
    "            Codition to meet. \n",
    "\n",
    "\n",
    "        Output:\n",
    "        -------\n",
    "        data_set : Numpy Arrray\n",
    "            Array with new coordinates 'mask'\n",
    "    \"\"\"\n",
    "    \n",
    "    mask = 1 * np.ones((data_set.dims['latitude'], data_set.dims['longitude'])) * np.isfinite(cond)  \n",
    "    data_set.coords['mask'] = (('latitude', 'longitude'), mask)\n",
    "    return(data_set)\n",
    "\n",
    "\n",
    "def Limits(data_set):\n",
    "    \n",
    "    mn = data_set.min(skipna=True).values\n",
    "    mx = data_set.max(skipna=True).values\n",
    "    return(mn, mx)\n",
    "    "
   ]
  },
  {
   "cell_type": "code",
   "execution_count": 4,
   "metadata": {},
   "outputs": [
    {
     "name": "stderr",
     "output_type": "stream",
     "text": [
      "/usr/local/lib/python3.5/dist-packages/xarray/coding/times.py:132: SerializationWarning: Unable to decode time axis into full numpy.datetime64 objects, continuing using dummy cftime.datetime objects instead, reason: dates out of range\n",
      "  enable_cftimeindex)\n",
      "/usr/local/lib/python3.5/dist-packages/xarray/coding/variables.py:69: SerializationWarning: Unable to decode time axis into full numpy.datetime64 objects, continuing using dummy cftime.datetime objects instead, reason: dates out of range\n",
      "  return self.func(self.array)\n",
      "/usr/local/lib/python3.5/dist-packages/xarray/coding/times.py:132: SerializationWarning: Unable to decode time axis into full numpy.datetime64 objects, continuing using dummy cftime.datetime objects instead, reason: dates out of range\n",
      "  enable_cftimeindex)\n",
      "/usr/local/lib/python3.5/dist-packages/xarray/coding/variables.py:69: SerializationWarning: Unable to decode time axis into full numpy.datetime64 objects, continuing using dummy cftime.datetime objects instead, reason: dates out of range\n",
      "  return self.func(self.array)\n",
      "/usr/local/lib/python3.5/dist-packages/xarray/coding/times.py:132: SerializationWarning: Unable to decode time axis into full numpy.datetime64 objects, continuing using dummy cftime.datetime objects instead, reason: dates out of range\n",
      "  enable_cftimeindex)\n",
      "/usr/local/lib/python3.5/dist-packages/xarray/coding/variables.py:69: SerializationWarning: Unable to decode time axis into full numpy.datetime64 objects, continuing using dummy cftime.datetime objects instead, reason: dates out of range\n",
      "  return self.func(self.array)\n",
      "/usr/local/lib/python3.5/dist-packages/xarray/coding/times.py:132: SerializationWarning: Unable to decode time axis into full numpy.datetime64 objects, continuing using dummy cftime.datetime objects instead, reason: dates out of range\n",
      "  enable_cftimeindex)\n",
      "/usr/local/lib/python3.5/dist-packages/xarray/coding/variables.py:69: SerializationWarning: Unable to decode time axis into full numpy.datetime64 objects, continuing using dummy cftime.datetime objects instead, reason: dates out of range\n",
      "  return self.func(self.array)\n",
      "/usr/local/lib/python3.5/dist-packages/xarray/coding/times.py:132: SerializationWarning: Unable to decode time axis into full numpy.datetime64 objects, continuing using dummy cftime.datetime objects instead, reason: dates out of range\n",
      "  enable_cftimeindex)\n",
      "/usr/local/lib/python3.5/dist-packages/xarray/coding/variables.py:69: SerializationWarning: Unable to decode time axis into full numpy.datetime64 objects, continuing using dummy cftime.datetime objects instead, reason: dates out of range\n",
      "  return self.func(self.array)\n",
      "/usr/local/lib/python3.5/dist-packages/xarray/coding/times.py:132: SerializationWarning: Unable to decode time axis into full numpy.datetime64 objects, continuing using dummy cftime.datetime objects instead, reason: dates out of range\n",
      "  enable_cftimeindex)\n",
      "/usr/local/lib/python3.5/dist-packages/xarray/coding/variables.py:69: SerializationWarning: Unable to decode time axis into full numpy.datetime64 objects, continuing using dummy cftime.datetime objects instead, reason: dates out of range\n",
      "  return self.func(self.array)\n",
      "/usr/local/lib/python3.5/dist-packages/xarray/coding/times.py:132: SerializationWarning: Unable to decode time axis into full numpy.datetime64 objects, continuing using dummy cftime.datetime objects instead, reason: dates out of range\n",
      "  enable_cftimeindex)\n",
      "/usr/local/lib/python3.5/dist-packages/xarray/coding/variables.py:69: SerializationWarning: Unable to decode time axis into full numpy.datetime64 objects, continuing using dummy cftime.datetime objects instead, reason: dates out of range\n",
      "  return self.func(self.array)\n",
      "/usr/local/lib/python3.5/dist-packages/xarray/coding/times.py:132: SerializationWarning: Unable to decode time axis into full numpy.datetime64 objects, continuing using dummy cftime.datetime objects instead, reason: dates out of range\n",
      "  enable_cftimeindex)\n",
      "/usr/local/lib/python3.5/dist-packages/xarray/coding/variables.py:69: SerializationWarning: Unable to decode time axis into full numpy.datetime64 objects, continuing using dummy cftime.datetime objects instead, reason: dates out of range\n",
      "  return self.func(self.array)\n",
      "/usr/local/lib/python3.5/dist-packages/xarray/coding/times.py:132: SerializationWarning: Unable to decode time axis into full numpy.datetime64 objects, continuing using dummy cftime.datetime objects instead, reason: dates out of range\n",
      "  enable_cftimeindex)\n",
      "/usr/local/lib/python3.5/dist-packages/xarray/coding/variables.py:69: SerializationWarning: Unable to decode time axis into full numpy.datetime64 objects, continuing using dummy cftime.datetime objects instead, reason: dates out of range\n",
      "  return self.func(self.array)\n",
      "/usr/local/lib/python3.5/dist-packages/xarray/coding/times.py:132: SerializationWarning: Unable to decode time axis into full numpy.datetime64 objects, continuing using dummy cftime.datetime objects instead, reason: dates out of range\n",
      "  enable_cftimeindex)\n",
      "/usr/local/lib/python3.5/dist-packages/xarray/coding/variables.py:69: SerializationWarning: Unable to decode time axis into full numpy.datetime64 objects, continuing using dummy cftime.datetime objects instead, reason: dates out of range\n",
      "  return self.func(self.array)\n",
      "/usr/local/lib/python3.5/dist-packages/xarray/coding/times.py:132: SerializationWarning: Unable to decode time axis into full numpy.datetime64 objects, continuing using dummy cftime.datetime objects instead, reason: dates out of range\n",
      "  enable_cftimeindex)\n",
      "/usr/local/lib/python3.5/dist-packages/xarray/coding/variables.py:69: SerializationWarning: Unable to decode time axis into full numpy.datetime64 objects, continuing using dummy cftime.datetime objects instead, reason: dates out of range\n",
      "  return self.func(self.array)\n",
      "/usr/local/lib/python3.5/dist-packages/xarray/coding/times.py:132: SerializationWarning: Unable to decode time axis into full numpy.datetime64 objects, continuing using dummy cftime.datetime objects instead, reason: dates out of range\n",
      "  enable_cftimeindex)\n",
      "/usr/local/lib/python3.5/dist-packages/xarray/coding/variables.py:69: SerializationWarning: Unable to decode time axis into full numpy.datetime64 objects, continuing using dummy cftime.datetime objects instead, reason: dates out of range\n",
      "  return self.func(self.array)\n",
      "/usr/local/lib/python3.5/dist-packages/xarray/coding/times.py:132: SerializationWarning: Unable to decode time axis into full numpy.datetime64 objects, continuing using dummy cftime.datetime objects instead, reason: dates out of range\n",
      "  enable_cftimeindex)\n",
      "/usr/local/lib/python3.5/dist-packages/xarray/coding/variables.py:69: SerializationWarning: Unable to decode time axis into full numpy.datetime64 objects, continuing using dummy cftime.datetime objects instead, reason: dates out of range\n",
      "  return self.func(self.array)\n",
      "/usr/local/lib/python3.5/dist-packages/xarray/coding/times.py:132: SerializationWarning: Unable to decode time axis into full numpy.datetime64 objects, continuing using dummy cftime.datetime objects instead, reason: dates out of range\n",
      "  enable_cftimeindex)\n",
      "/usr/local/lib/python3.5/dist-packages/xarray/coding/variables.py:69: SerializationWarning: Unable to decode time axis into full numpy.datetime64 objects, continuing using dummy cftime.datetime objects instead, reason: dates out of range\n",
      "  return self.func(self.array)\n"
     ]
    }
   ],
   "source": [
    "###############################################################################\n",
    "###########         MAIN PROGRAM\n",
    "###############################################################################\n",
    "\n",
    "\n",
    "## Opening datasets\n",
    "dir_1 = '/home/lgarcia/Documents/New_ARMOR/'\n",
    "dir_15 = '/net/krypton/data0/project/drakkar/USERS/lgarcia/data_ARMOR/'\n",
    "\n",
    "dir_o = '/home/lgarcia/Documents/Scripts/Images_01/'\n",
    "\n",
    "\n",
    "fl_n1 = 'NARMOR_*.nc'\n",
    "fl_n15 = 'ARMOR_*.nc'\n",
    "\n",
    "c_armor1 = xr.open_mfdataset(dir_1 + fl_n1, concat_dim='time')\n",
    "c_armor15 = xr.open_mfdataset(dir_15 + fl_n15)\n",
    "c_armor15 = Masking(c_armor15, c_armor15.to[0,25])"
   ]
  },
  {
   "cell_type": "code",
   "execution_count": 5,
   "metadata": {},
   "outputs": [],
   "source": [
    "d1 = datetime.datetime(2005,1,1)\n",
    "d2 = datetime.datetime(2018,12,20)\n",
    "\n",
    "weeks = pd.date_range(start=d1, end=d2, freq='7D')\n",
    "c_armor1.coords['time'] = (('time'), weeks)"
   ]
  },
  {
   "cell_type": "markdown",
   "metadata": {},
   "source": [
    "## Seasonal cycle"
   ]
  },
  {
   "cell_type": "markdown",
   "metadata": {},
   "source": [
    "Here, calculating the climatology of the entire time series. In the Gulf Stream"
   ]
  },
  {
   "cell_type": "code",
   "execution_count": 34,
   "metadata": {},
   "outputs": [
    {
     "data": {
      "text/plain": [
       "<xarray.Dataset>\n",
       "Dimensions:    (latitude: 60, longitude: 120, time: 729)\n",
       "Coordinates:\n",
       "  * longitude  (longitude) float32 -74.875 -74.625 -74.375 ... -45.375 -45.125\n",
       "  * latitude   (latitude) float32 30.125 30.375 30.625 ... 44.375 44.625 44.875\n",
       "  * time       (time) datetime64[ns] 2005-01-01 2005-01-08 ... 2018-12-15\n",
       "Data variables:\n",
       "    mlotst     (time, latitude, longitude) float64 dask.array<shape=(729, 60, 120), chunksize=(52, 60, 120)>\n",
       "Attributes:\n",
       "    title:                     ARMOR3D REP - Optimal MLD for Global Ocean Obs...\n",
       "    description:               ARMOR3D-REP-V4 CMEMS-V3\n",
       "    Conventions:               CF-1.0\n",
       "    institution:               CLS\n",
       "    domain_name:               GLO\n",
       "    history:                   Fri May 29 02:55:09 2020: ncap2 -O -s where(lo...\n",
       "    NCO:                       4.0.8\n",
       "    nco_openmp_thread_number:  1"
      ]
     },
     "execution_count": 34,
     "metadata": {},
     "output_type": "execute_result"
    }
   ],
   "source": [
    "reg = 'gul'\n",
    "## File format :: t, lat, lon\n",
    "gulf_1 = Crops(reg, c_armor1)\n",
    "gulf_15 = Crops(reg, c_armor15)\n",
    "\n",
    "gulf_1"
   ]
  },
  {
   "cell_type": "code",
   "execution_count": 35,
   "metadata": {},
   "outputs": [],
   "source": [
    "clim = gulf_1.groupby('time.week').mean(('time', 'longitude', 'latitude'))\n",
    "stdv = gulf_1.groupby('time.week').std(('time', 'longitude', 'latitude'))\n"
   ]
  },
  {
   "cell_type": "code",
   "execution_count": 41,
   "metadata": {},
   "outputs": [
    {
     "data": {
      "text/plain": [
       "<xarray.DataArray 'mlotst' (week: 53)>\n",
       "dask.array<shape=(53,), dtype=float64, chunksize=(1,)>\n",
       "Coordinates:\n",
       "  * week     (week) int64 1 2 3 4 5 6 7 8 9 10 ... 44 45 46 47 48 49 50 51 52 53"
      ]
     },
     "execution_count": 41,
     "metadata": {},
     "output_type": "execute_result"
    }
   ],
   "source": [
    "clim.mlotst\n"
   ]
  },
  {
   "cell_type": "code",
   "execution_count": 46,
   "metadata": {},
   "outputs": [
    {
     "name": "stderr",
     "output_type": "stream",
     "text": [
      "/usr/local/lib/python3.5/dist-packages/dask/array/core.py:3222: PerformanceWarning: Increasing number of chunks by factor of 14\n",
      "  **atop_kwargs)\n"
     ]
    },
    {
     "ename": "AttributeError",
     "evalue": "'Dataset' object has no attribute 'drop_sel'",
     "output_type": "error",
     "traceback": [
      "\u001b[0;31m---------------------------------------------------------------------------\u001b[0m",
      "\u001b[0;31mAttributeError\u001b[0m                            Traceback (most recent call last)",
      "\u001b[0;32m<ipython-input-46-4766d26da3fc>\u001b[0m in \u001b[0;36m<module>\u001b[0;34m()\u001b[0m\n\u001b[1;32m      1\u001b[0m \u001b[0;31m## Now gulf_ds has two time coordinates: time & week number// now is not longer true\u001b[0m\u001b[0;34m\u001b[0m\u001b[0;34m\u001b[0m\u001b[0m\n\u001b[1;32m      2\u001b[0m \u001b[0mgulf_ds\u001b[0m \u001b[0;34m=\u001b[0m \u001b[0;34m(\u001b[0m\u001b[0mgulf_1\u001b[0m \u001b[0;34m-\u001b[0m \u001b[0mclim\u001b[0m\u001b[0;34m)\u001b[0m\u001b[0;34m\u001b[0m\u001b[0m\n\u001b[0;32m----> 3\u001b[0;31m \u001b[0mgulf_ds\u001b[0m\u001b[0;34m.\u001b[0m\u001b[0mdrop_sel\u001b[0m\u001b[0;34m(\u001b[0m\u001b[0;34m'week'\u001b[0m\u001b[0;34m)\u001b[0m\u001b[0;34m\u001b[0m\u001b[0m\n\u001b[0m",
      "\u001b[0;32m/usr/local/lib/python3.5/dist-packages/xarray/core/common.py\u001b[0m in \u001b[0;36m__getattr__\u001b[0;34m(self, name)\u001b[0m\n\u001b[1;32m    175\u001b[0m                     \u001b[0;32mreturn\u001b[0m \u001b[0msource\u001b[0m\u001b[0;34m[\u001b[0m\u001b[0mname\u001b[0m\u001b[0;34m]\u001b[0m\u001b[0;34m\u001b[0m\u001b[0m\n\u001b[1;32m    176\u001b[0m         raise AttributeError(\"%r object has no attribute %r\" %\n\u001b[0;32m--> 177\u001b[0;31m                              (type(self).__name__, name))\n\u001b[0m\u001b[1;32m    178\u001b[0m \u001b[0;34m\u001b[0m\u001b[0m\n\u001b[1;32m    179\u001b[0m     \u001b[0;32mdef\u001b[0m \u001b[0m__setattr__\u001b[0m\u001b[0;34m(\u001b[0m\u001b[0mself\u001b[0m\u001b[0;34m,\u001b[0m \u001b[0mname\u001b[0m\u001b[0;34m,\u001b[0m \u001b[0mvalue\u001b[0m\u001b[0;34m)\u001b[0m\u001b[0;34m:\u001b[0m\u001b[0;34m\u001b[0m\u001b[0m\n",
      "\u001b[0;31mAttributeError\u001b[0m: 'Dataset' object has no attribute 'drop_sel'"
     ]
    }
   ],
   "source": [
    "## Now gulf_ds has two time coordinates: time & week number// now is not longer true\n",
    "gulf_ds = (gulf_1 - clim)\n",
    "gulf_ds.drop_sel('week')\n"
   ]
  },
  {
   "cell_type": "code",
   "execution_count": 45,
   "metadata": {},
   "outputs": [
    {
     "data": {
      "image/png": "[encoded data removed]",
      "text/plain": [
       "<matplotlib.figure.Figure at 0x7fa810465a20>"
      ]
     },
     "metadata": {},
     "output_type": "display_data"
    }
   ],
   "source": [
    "plt.close()\n",
    "gulf_ds.mlotst[0].plot()\n",
    "plt.show()"
   ]
  },
  {
   "cell_type": "markdown",
   "metadata": {},
   "source": [
    "## Mean seasonal cycle in the Gulf Stream Comparisson: climatology, mean 2005 and de-seasoned(?)"
   ]
  },
  {
   "cell_type": "code",
   "execution_count": null,
   "metadata": {},
   "outputs": [],
   "source": [
    "x = gulf_1.time\n",
    "\n",
    "%matplotlib notebook\n",
    "\n",
    "plt.close()\n",
    "\n",
    "plt.plot(gulf_1.mlotst[:,0,20].sel(time=slice('01-01-2005', '31-12-2005')) , label='2005')\n",
    "plt.plot(clim.mlotst[:,0, 20], label='climatology')\n",
    "plt.plot(gulf_ds.mlotst[:, 0, 20].sel(time=slice('01-01-2005', '31-12-2005')), label='no-season')\n",
    "plt.legend()\n",
    "plt.grid()\n",
    "plt.show()\n"
   ]
  },
  {
   "cell_type": "code",
   "execution_count": null,
   "metadata": {},
   "outputs": [],
   "source": [
    "mini = clim.mlotst.min(skipna=True).values\n",
    "maxi = clim.mlotst.max(skipna=True).values\n",
    "\n",
    "print(mini, maxi)"
   ]
  },
  {
   "cell_type": "markdown",
   "metadata": {},
   "source": [
    "### Plot of the climatology. MLD and geopotential height"
   ]
  },
  {
   "cell_type": "code",
   "execution_count": null,
   "metadata": {
    "scrolled": false
   },
   "outputs": [],
   "source": []
  },
  {
   "cell_type": "code",
   "execution_count": null,
   "metadata": {},
   "outputs": [],
   "source": [
    "mini_ds = gulf_ds.mlotst.min(skipna=True).values\n",
    "maxi_ds = gulf_ds.mlotst.max(skipna=True).values\n",
    "\n",
    "print(mini_ds, maxi_ds)"
   ]
  },
  {
   "cell_type": "code",
   "execution_count": null,
   "metadata": {},
   "outputs": [],
   "source": []
  },
  {
   "cell_type": "markdown",
   "metadata": {},
   "source": [
    "## De-seasoned data"
   ]
  },
  {
   "cell_type": "code",
   "execution_count": null,
   "metadata": {},
   "outputs": [],
   "source": [
    "%matplotlib notebook\n",
    "\n",
    "plt.close()\n",
    "\n",
    "lon1, lon2 = reg_ext[reg]['lon']\n",
    "lat1, lat2 = reg_ext[reg]['lat']\n",
    "xtik = np.linspace(lon1, lon2, num=5)\n",
    "ytik = np.linspace(lat1, lat2, num=4)\n",
    "\n",
    "x_n, y_n = Grid(gulf1)\n",
    "\n",
    "projection = ccrs.PlateCarree(360)\n",
    "region = [lon1, lon2, lat1, lat2]    #Lon, Lat\n",
    "\n",
    "# Variables to plot\n",
    "mapping_var = mean1.mlotst.where(gulf15.mask == 1)    # In the colormap\n",
    "#contour_var = stdv1.mlotst.where(gulf15.mask == 1)    # Variable to plot in lines\n",
    "\n",
    "cb_label = 'mean MLD [m]'    # Label for colorbar\n",
    "cmap = 'YlGnBu'\n",
    "levels = np.linspace(13., 72., 20)\n",
    "n_lines = 11\n",
    "\n",
    "\n",
    "## Title for the figure\n",
    "fig_title = 'Gulf Strean Mixed Layer Depth [m] \\n  mean in color map and standard deviation contours'  \n",
    "\n",
    "fig, ax = plt.subplots(nrows=1, ncols=1, subplot_kw=dict(projection=projection), \n",
    "                        figsize=(10,5)) \n",
    "\n",
    "Map(ax, region, xtik, ytik)\n",
    "\n",
    "contr1 = ax.contourf(x_n, y_n, mapping_var, levels=levels, cmap=cmap, extend='neither')\n",
    "\n",
    "cbar = fig.colorbar(contr1, ax=ax, shrink=0.8, orientation='vertical',\n",
    "                    label=cb_label) \n",
    "\n",
    "contr2 = ax.contour(x_n, y_n, contour_var, n_lines, linewidths=1, colors='k')\n",
    "\n",
    "\n",
    "#cbar.set_clim(vmin=0., vmax=300.)\n",
    "ax.clabel(contr2, fontsize=8, inline=10)\n",
    "ax.set_title(fig_title, fontsize=14)\n",
    "\n",
    "plt.savefig(dir_o + 'Gul-mld-ms.png', bbox_inches='tight')\n",
    "plt.show()"
   ]
  },
  {
   "cell_type": "code",
   "execution_count": null,
   "metadata": {},
   "outputs": [],
   "source": []
  },
  {
   "cell_type": "code",
   "execution_count": null,
   "metadata": {},
   "outputs": [],
   "source": []
  },
  {
   "cell_type": "code",
   "execution_count": null,
   "metadata": {},
   "outputs": [],
   "source": []
  },
  {
   "cell_type": "markdown",
   "metadata": {},
   "source": [
    "## How much of the variability is due to the seasonal cycle? "
   ]
  },
  {
   "cell_type": "markdown",
   "metadata": {},
   "source": [
    "To measure this, I am going to calculate the standar deviation of the MLD. In one including the seasonal cycle, and the other with the seasonal cycle removed. Then, I will compare the ratio between both standar deviations. Now, what can we infer from the result?"
   ]
  },
  {
   "cell_type": "code",
   "execution_count": null,
   "metadata": {},
   "outputs": [],
   "source": [
    "# Variance of the 'raw' data\n",
    "std_raw = gulf_1.std(dim='time', skipna=True)\n",
    "std_raw"
   ]
  },
  {
   "cell_type": "code",
   "execution_count": null,
   "metadata": {},
   "outputs": [],
   "source": [
    "std_des = gulf_ds.std(dim='week', skipna=True)\n",
    "std_des.mlotst[0]"
   ]
  },
  {
   "cell_type": "code",
   "execution_count": null,
   "metadata": {},
   "outputs": [],
   "source": [
    "s = std_des - std_raw \n",
    "std_ch = s/std_raw"
   ]
  },
  {
   "cell_type": "code",
   "execution_count": null,
   "metadata": {},
   "outputs": [],
   "source": []
  },
  {
   "cell_type": "code",
   "execution_count": null,
   "metadata": {},
   "outputs": [],
   "source": [
    "std_ch.mlotst\n",
    "\n",
    "var_min = std_ch.mlotst.min(skipna=True).values\n",
    "var_max = std_ch.mlotst.max(skipna=True).values\n",
    "\n",
    "print(var_min, var_max)"
   ]
  },
  {
   "cell_type": "code",
   "execution_count": null,
   "metadata": {},
   "outputs": [],
   "source": [
    "Plot_Contours(std_ch, reg, -4., 4., 21, 15, tstep=None, cmap='bwr')"
   ]
  },
  {
   "cell_type": "code",
   "execution_count": null,
   "metadata": {},
   "outputs": [],
   "source": []
  },
  {
   "cell_type": "markdown",
   "metadata": {},
   "source": [
    "Now I want to see where the no seasonal gph contours are. Are they over the points of high/low variance of MLD due no seasonal cycle effect?"
   ]
  },
  {
   "cell_type": "code",
   "execution_count": null,
   "metadata": {},
   "outputs": [],
   "source": [
    "## Calculating the mean of de-seasoned values\n",
    "mean = gulf_1.mean('time')\n",
    "\n",
    "ds_mean = gulf_ds.mean('week')\n",
    "ds_mean"
   ]
  },
  {
   "cell_type": "code",
   "execution_count": null,
   "metadata": {},
   "outputs": [],
   "source": [
    "x_n, y_n = Grid(std_ch)\n",
    "\n",
    "fig, ax = plt.subplots(nrows=1, ncols=1, figsize=(10,5))    \n",
    "    \n",
    "contr1 = ax.contourf(x_n, y_n, std_ch.mlotst, levels=np.linspace(-5., 5., 25),\n",
    "                             cmap='bwr', extend='both')\n",
    "contr2 = ax.contour(x_n, y_n, std_des.zo[0], 11, linewidths=0.5, colors='k')\n",
    "cbar = fig.colorbar(contr1, ax=ax, shrink=0.855, orientation='vertical',\n",
    "                    label='MLD [m]', extend='both')  \n",
    "#cbar.set_clim(-6., 6.)\n",
    "plt.show()"
   ]
  },
  {
   "cell_type": "markdown",
   "metadata": {},
   "source": []
  },
  {
   "cell_type": "code",
   "execution_count": null,
   "metadata": {},
   "outputs": [],
   "source": []
  },
  {
   "cell_type": "code",
   "execution_count": null,
   "metadata": {},
   "outputs": [],
   "source": []
  }
 ],
 "metadata": {
  "kernelspec": {
   "display_name": "Python 3",
   "language": "python",
   "name": "python3"
  },
  "language_info": {
   "codemirror_mode": {
    "name": "ipython",
    "version": 3
   },
   "file_extension": ".py",
   "mimetype": "text/x-python",
   "name": "python",
   "nbconvert_exporter": "python",
   "pygments_lexer": "ipython3",
   "version": "3.5.2"
  }
 },
 "nbformat": 4,
 "nbformat_minor": 4
}
