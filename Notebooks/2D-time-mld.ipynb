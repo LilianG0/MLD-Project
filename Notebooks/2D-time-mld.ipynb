{
 "cells": [
  {
   "cell_type": "code",
   "execution_count": null,
   "metadata": {},
   "outputs": [],
   "source": [
    "import xarray as xr\n",
    "import numpy as np\n",
    "import datetime\n",
    "import pandas as pd\n",
    "#import gsw\n",
    "from scipy import interpolate\n",
    "\n",
    "import matplotlib as mpl\n",
    "import matplotlib.pyplot as plt\n",
    "\n",
    "\n",
    "import cartopy\n",
    "import cartopy.feature as cfeat\n",
    "import cartopy.crs as ccrs\n",
    "from cartopy.mpl.ticker import LongitudeFormatter, LatitudeFormatter\n",
    "import xarray as xr\n",
    "import numpy as np\n",
    "\n",
    "from matplotlib import colors\n",
    "from matplotlib import ticker\n",
    "from matplotlib.colors import BoundaryNorm\n",
    "from matplotlib.ticker import MaxNLocator\n",
    "from mpl_toolkits.axes_grid1 import make_axes_locatable\n",
    "\n",
    "import matplotlib.animation as animation\n",
    "from IPython.display import HTML"
   ]
  },
  {
   "cell_type": "code",
   "execution_count": null,
   "metadata": {},
   "outputs": [],
   "source": [
    "\n",
    "reg_ext = {\n",
    "    'lab': {\n",
    "        'lon' : (-60, -30),\n",
    "        'lat' : (50, 65),\n",
    "        'name' : 'Labrador and Irminger Seas'\n",
    "    },\n",
    "    'gul': {\n",
    "        'lon' : (-75, -45),\n",
    "        'lat' : (30, 45),\n",
    "        'name' : 'Gulf Stream'\n",
    "    },\n",
    "    'noe': {\n",
    "        'lon' : (-30, -5),\n",
    "        'lat' : (45, 60),\n",
    "        'name' : 'North East Sea'\n",
    "    }\n",
    "}"
   ]
  },
  {
   "cell_type": "code",
   "execution_count": null,
   "metadata": {},
   "outputs": [],
   "source": [
    "## Function to crop the dataset\n",
    "def Crops(coord, d_set):\n",
    "    \"\"\"\n",
    "        Crops is a function that takes a data set and crops it into smaller\n",
    "        region, using as parameters the values given by the dictionary \n",
    "        reg_ext.\n",
    "        \n",
    "        Parameters:\n",
    "        ------------\n",
    "            \n",
    "        coord : string\n",
    "            Key value that identifies the region to obtain\n",
    "        \n",
    "        d_set : DataArray\n",
    "            Dataset to be cropped\n",
    "        \n",
    "        Output:\n",
    "        -------\n",
    "        new_ds : DataArray\n",
    "            New data array corresponding to the region stated by 'coord'\n",
    "    \"\"\"\n",
    "    \n",
    "    lon1, lon2 = reg_ext[coord]['lon']\n",
    "    lat1, lat2 = reg_ext[coord]['lat']\n",
    "    name_fig = reg_ext[coord]['name']\n",
    "    \n",
    "    new_ds = d_set.sel(longitude=slice(lon1, lon2), latitude=slice(lat1, lat2))\n",
    "    return(new_ds)\n",
    "\n",
    "\n",
    "def Grid(data_set):\n",
    "    x = data_set.longitude\n",
    "    y = data_set.latitude\n",
    "    \n",
    "    x, y = np.meshgrid(x, y)\n",
    "    return(x, y)\n",
    "\n",
    "\n",
    "def No_nan(a):\n",
    "    \"\"\"\n",
    "        No_nan is a function that helps to filter an array from nan values.\n",
    "        \n",
    "        Parameters:\n",
    "        ------------\n",
    "        a : Numpy Array\n",
    "            Is the array we want to filter\n",
    "        \n",
    "        Output:\n",
    "        -------\n",
    "        a2 : Numpy Arrray\n",
    "            Array with no nan values in it\n",
    "    \"\"\"\n",
    "    nan_array = np.isnan(a)\n",
    "    not_nan_array = ~ nan_array\n",
    "    a2 = a[not_nan_array]\n",
    "    \n",
    "    return(a2)\n",
    "\n",
    "\n",
    "def Map(ax, region, xtik, ytik):\n",
    "    ax.set_global()\n",
    "    ax.coastlines('50m')\n",
    "    ax.set_xticks(xtik, crs=ccrs.PlateCarree())\n",
    "    ax.set_yticks(ytik, crs=ccrs.PlateCarree())\n",
    "    lon_formatter = LongitudeFormatter(zero_direction_label=True)\n",
    "    lat_formatter = LatitudeFormatter()\n",
    "\n",
    "    ax.xaxis.set_major_formatter(lon_formatter)\n",
    "    ax.yaxis.set_major_formatter(lat_formatter)\n",
    "    ax.add_feature(cartopy.feature.BORDERS, linestyle=':')\n",
    "    ax.set_extent(region, crs=ccrs.PlateCarree())     #lat, lon\n",
    "    ax.gridlines(crs=ccrs.PlateCarree(), linewidth=1, \n",
    "                 color='gray', alpha=0.5, linestyle='-.')\n",
    "\n",
    "\n",
    "\n",
    "def Plot_Contours(data_set, reg, minl, maxl, nlevs, nlines, tstep=None, cmap=None):\n",
    "    lon1, lon2 = reg_ext[reg]['lon']\n",
    "    lat1, lat2 = reg_ext[reg]['lat']\n",
    "    xtik = np.linspace(lon1, lon2, num=5)\n",
    "    ytik = np.linspace(lat1, lat2, num=4)\n",
    "\n",
    "    x_n, y_n = Grid(data_set)\n",
    "\n",
    "    projection = ccrs.PlateCarree(360)\n",
    "    region = [lon1, lon2, lat1, lat2]    #Lon, Lat\n",
    "    \n",
    "    if not cmap:\n",
    "        cmap = 'magma_r'\n",
    "    \n",
    "    fig, ax = plt.subplots(nrows=1, ncols=1, subplot_kw=dict(projection=projection), figsize=(10,5))    \n",
    "    \n",
    "    Map(ax, region, xtik, ytik)\n",
    "    \n",
    "    if tstep==None:\n",
    "        contr1 = ax.contourf(x_n, y_n, data_set.mlotst, levels=np.linspace(minl, maxl, nlevs),\n",
    "                                     cmap=cmap, extend='both')\n",
    "        contr2 = ax.contour(x_n, y_n, data_set.zo[0], nlines, linewidths=0.5, colors='k')\n",
    "        cbar = fig.colorbar(contr1, ax=ax, shrink=0.855, orientation='vertical',\n",
    "                            label='MLD [m]', extend='both')  \n",
    "        #cbar.set_clim(10,120)\n",
    "    else:\n",
    "        contr1 = ax.contourf(x_n, y_n, data_set.mlotst[tstep], levels=np.linspace(minl, maxl, nlevs),\n",
    "                                     cmap=cmap, extend='both')\n",
    "        contr2 = ax.contour(x_n, y_n, data_set.zo[tstep,0], nlines, linewidths=0.5, colors='k')\n",
    "        cbar = fig.colorbar(contr1, ax=ax, shrink=0.855, orientation='vertical',\n",
    "                            label='MLD [m]', extend='both')  \n",
    "        #cbar.set_clim(10,120)\n",
    "\n",
    "    #fig.savefig(os.path.abspath(os.path.sep.join([\".\",\"dummy_images\",\"Noe_%0.4d.png\" % it])))\n",
    "    #plt.close(fig)\n",
    "    plt.show()"
   ]
  },
  {
   "cell_type": "code",
   "execution_count": null,
   "metadata": {},
   "outputs": [],
   "source": [
    "###############################################################################\n",
    "###########         MAIN PROGRAM\n",
    "###############################################################################\n",
    "\n",
    "## Now working in any point in year 2005\n",
    "\n",
    "\n",
    "dir_1 = '../../data_ARMOR/'\n",
    "file1 = 'ARMOR_*.nc'\n",
    "\n",
    "just_1 = xr.open_mfdataset(dir_1 + file1)\n"
   ]
  },
  {
   "cell_type": "code",
   "execution_count": null,
   "metadata": {},
   "outputs": [],
   "source": [
    "reg = 'gul'\n",
    "## File format :: t, lat, lon\n",
    "gulf = Crops(reg, just_1)"
   ]
  },
  {
   "cell_type": "code",
   "execution_count": null,
   "metadata": {},
   "outputs": [],
   "source": [
    "mean_reg = gulf.mean(dim=('longitude', 'latitude'), skipna=True)\n",
    "stv_reg = gulf.std(dim=('longitude', 'latitude'), skipna=True)"
   ]
  },
  {
   "cell_type": "code",
   "execution_count": null,
   "metadata": {},
   "outputs": [],
   "source": [
    "mean_reg.time.values"
   ]
  },
  {
   "cell_type": "code",
   "execution_count": null,
   "metadata": {},
   "outputs": [],
   "source": [
    "minimum = gulf.min(dim=('longitude', 'latitude'), skipna=True)\n",
    "maximum = gulf.max(dim=('longitude', 'latitude'), skipna=True)"
   ]
  },
  {
   "cell_type": "code",
   "execution_count": null,
   "metadata": {},
   "outputs": [],
   "source": [
    "mean_reg.mlotst.plot()\n",
    "minimum.mlotst.plot()\n",
    "maximum.mlotst.plot(label='hola')\n",
    "plt.show()"
   ]
  },
  {
   "cell_type": "code",
   "execution_count": null,
   "metadata": {},
   "outputs": [],
   "source": [
    "plt.errorbar(mean_reg.time.values, mean_reg.mlotst, \n",
    "             stv_reg.mlotst, linestyle='-')\n",
    "plt.hlines(10, '2005-01', '2005-12-31', linestyles='dashed', )\n",
    "plt.fill_between(mean_reg.time.values, mean_reg.mlotst-stv_reg.mlotst,\n",
    "                 mean_reg.mlotst+stv_reg.mlotst, alpha=0.3)\n",
    "plt.grid()\n",
    "plt.show()"
   ]
  },
  {
   "cell_type": "code",
   "execution_count": null,
   "metadata": {},
   "outputs": [],
   "source": []
  },
  {
   "cell_type": "markdown",
   "metadata": {},
   "source": [
    "## Trying here zonal mean longitude distribution"
   ]
  },
  {
   "cell_type": "code",
   "execution_count": null,
   "metadata": {},
   "outputs": [],
   "source": [
    "zonal_mean = gulf.mean(dim=('longitude'), skipna=True)\n",
    "zonal_stv = gulf.std(dim=('longitude'), skipna=True)"
   ]
  },
  {
   "cell_type": "code",
   "execution_count": null,
   "metadata": {},
   "outputs": [],
   "source": [
    "zonal_mean."
   ]
  },
  {
   "cell_type": "code",
   "execution_count": null,
   "metadata": {},
   "outputs": [],
   "source": [
    "fig, ax = plt.subplots(nrows=1, ncols=1, figsize=(12,7))    \n",
    "#for i in range(zonal_mean.latitude.size):\n",
    "    #ax.errorbar(zonal_mean.time.values, zonal_mean.mlotst[:,i], \n",
    "    #             zonal_stv.mlotst[:,i])\n",
    "    #plt.hlines(10, '2005-01', '2005-12-31', linestyles='dashed', )\n",
    "\n",
    "ax.plot(mean_reg.latitude.values, mean_reg.mlotst, \n",
    "             linestyle='-', marker='.', color='k', linewidth=3.0, zorder=60)\n",
    "#plt.hlines(10, '2005-01', '2005-12-31', linestyles='dashed', )\n",
    "#plt.fill_between(mean_reg.time.values, mean_reg.mlotst-stv_reg.mlotst,\n",
    "                 mean_reg.mlotst+stv_reg.mlotst, alpha=0.3)\n",
    "ax.grid()\n",
    "plt.show()"
   ]
  },
  {
   "cell_type": "code",
   "execution_count": null,
   "metadata": {},
   "outputs": [],
   "source": []
  }
 ],
 "metadata": {
  "kernelspec": {
   "display_name": "Python 3",
   "language": "python",
   "name": "python3"
  },
  "language_info": {
   "codemirror_mode": {
    "name": "ipython",
    "version": 3
   },
   "file_extension": ".py",
   "mimetype": "text/x-python",
   "name": "python",
   "nbconvert_exporter": "python",
   "pygments_lexer": "ipython3",
   "version": "3.5.2"
  }
 },
 "nbformat": 4,
 "nbformat_minor": 4
}
