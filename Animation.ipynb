{
 "cells": [
  {
   "cell_type": "code",
   "execution_count": null,
   "metadata": {},
   "outputs": [],
   "source": [
    "import matplotlib.animation as animation\n",
    "from IPython.display import HTML"
   ]
  },
  {
   "cell_type": "code",
   "execution_count": null,
   "metadata": {},
   "outputs": [],
   "source": [
    "frames = c_armor.time.size\n",
    "\n",
    "#%matplotlib notebook\n",
    "fig, ax = plt.subplots(nrows=1, ncols=1, subplot_kw=dict(projection=projection), \n",
    "                        figsize=(15, 7.5))\n",
    "\n",
    "ax.set_global()\n",
    "ax.coastlines('50m')\n",
    "ax.set_xticks([-90, -75, -60, -45, -30, -15, 0], crs=ccrs.PlateCarree())\n",
    "ax.set_yticks([10, 20, 30, 40, 50, 60, 70], crs=ccrs.PlateCarree())\n",
    "lon_formatter = LongitudeFormatter(zero_direction_label=True)\n",
    "lat_formatter = LatitudeFormatter()\n",
    "\n",
    "ax.xaxis.set_major_formatter(lon_formatter)\n",
    "ax.yaxis.set_major_formatter(lat_formatter)\n",
    "ax.add_feature(cartopy.feature.BORDERS, linestyle=':')\n",
    "ax.set_extent(region, crs=ccrs.PlateCarree())     #lat, lon\n",
    "ax.gridlines()\n",
    "\n",
    "\n",
    "def draw(frame):\n",
    "    x_n, y_n = Grid(var2)\n",
    "    vmin = Range_MLD[month]['vmin']\n",
    "    vmax = Range_MLD[month]['vmax']\n",
    "    \n",
    "    contr1 = ax.contour(x_n, y_n, var1, 10, cmap='RdYlBu')\n",
    "    contr2 = ax.contourf(x_n, y_n, var2, cmap='bone_r')\n",
    "    ax.set_title('')\n",
    "\n",
    "    fig.colorbar(contr1, ax=ax, shrink=0.55, orientation='vertical', label='GH [m]')\n",
    "    fig.colorbar(contr2, ax=ax, shrink=0.55, orientation='horizontal', label='MLD [m]')\n",
    "    plt.subplots_adjust(bottom=0.1, right=0.8, top=0.9, wspace = 0.3)\n",
    "    return contr1\n",
    "\n",
    "\n",
    "def init():\n",
    "    return draw(0)\n",
    "\n",
    "\n",
    "def animate(frame):\n",
    "    return draw(frame)\n",
    "\n",
    "ani = animation.FuncAnimation(fig, animate, init_func=init, frames=frames, \n",
    "                              interval=0.01, blit=False, repeat=False)\n",
    "#plt.show()\n"
   ]
  }
 ],
 "metadata": {
  "kernelspec": {
   "display_name": "Python 3",
   "language": "python",
   "name": "python3"
  },
  "language_info": {
   "codemirror_mode": {
    "name": "ipython",
    "version": 3
   },
   "file_extension": ".py",
   "mimetype": "text/x-python",
   "name": "python",
   "nbconvert_exporter": "python",
   "pygments_lexer": "ipython3",
   "version": "3.5.2"
  }
 },
 "nbformat": 4,
 "nbformat_minor": 2
}
